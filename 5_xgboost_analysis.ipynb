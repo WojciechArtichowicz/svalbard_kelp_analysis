{
 "cells": [
  {
   "cell_type": "markdown",
   "id": "52aed282-14aa-4400-8786-f4d056081c48",
   "metadata": {},
   "source": [
    "# Principal component analysis of the dataset\n",
    "## 1. Library imports and setup"
   ]
  },
  {
   "cell_type": "code",
   "execution_count": 2,
   "id": "9ec54b12",
   "metadata": {
    "tags": []
   },
   "outputs": [],
   "source": [
    "library(tidyverse)\n",
    "library(xgboost)\n",
    "library(pROC)"
   ]
  },
  {
   "cell_type": "markdown",
   "id": "dbb5f30d-d05b-4a06-8274-529bf743bcd3",
   "metadata": {},
   "source": [
    "#### Determining the dpi and the image output path for publication high quality plots"
   ]
  },
  {
   "cell_type": "code",
   "execution_count": 3,
   "id": "b521cc55-0f8e-4694-9fa9-7ed08479c4a6",
   "metadata": {
    "tags": []
   },
   "outputs": [],
   "source": [
    "dpi.opt <- 1000"
   ]
  },
  {
   "cell_type": "code",
   "execution_count": 4,
   "id": "9c6d79b9-e305-442b-b126-f6d98ef9b891",
   "metadata": {},
   "outputs": [],
   "source": [
    "IMG.path <- \"../../IMG\""
   ]
  },
  {
   "cell_type": "code",
   "execution_count": 5,
   "id": "93f42316-184b-48d8-8dbd-02416c5a4041",
   "metadata": {},
   "outputs": [],
   "source": [
    "theme_set(theme_bw())"
   ]
  },
  {
   "cell_type": "code",
   "execution_count": 6,
   "id": "2afce94d-67bc-4063-87d9-c575d719c336",
   "metadata": {},
   "outputs": [],
   "source": [
    "#flag.make.plots <- TRUE\n",
    "flag.make.plots <- FALSE"
   ]
  },
  {
   "cell_type": "markdown",
   "id": "c0e37ac3-0351-44d7-ad1f-13793d18252e",
   "metadata": {},
   "source": [
    "## 2. Import of the clean data"
   ]
  },
  {
   "cell_type": "code",
   "execution_count": 7,
   "id": "90b773f0",
   "metadata": {
    "tags": []
   },
   "outputs": [
    {
     "data": {
      "text/html": [
       "<table class=\"dataframe\">\n",
       "<caption>A data.frame: 6 × 11</caption>\n",
       "<thead>\n",
       "\t<tr><th></th><th scope=col>date_time</th><th scope=col>speed</th><th scope=col>heading</th><th scope=col>velocityN</th><th scope=col>velocityE</th><th scope=col>depth</th><th scope=col>site</th><th scope=col>kelp</th><th scope=col>m.yr.factor</th><th scope=col>w.yr.factor</th><th scope=col>depth.raw</th></tr>\n",
       "\t<tr><th></th><th scope=col>&lt;dttm&gt;</th><th scope=col>&lt;dbl&gt;</th><th scope=col>&lt;dbl&gt;</th><th scope=col>&lt;dbl&gt;</th><th scope=col>&lt;dbl&gt;</th><th scope=col>&lt;ord&gt;</th><th scope=col>&lt;fct&gt;</th><th scope=col>&lt;fct&gt;</th><th scope=col>&lt;ord&gt;</th><th scope=col>&lt;ord&gt;</th><th scope=col>&lt;fct&gt;</th></tr>\n",
       "</thead>\n",
       "<tbody>\n",
       "\t<tr><th scope=row>1</th><td>2021-08-13 00:00:00</td><td>1.89</td><td>180.44</td><td>-1.89</td><td>-0.01</td><td>7 [m]</td><td>GF</td><td>FALSE</td><td>Aug21</td><td>W33-21</td><td>7</td></tr>\n",
       "\t<tr><th scope=row>2</th><td>2021-08-13 00:05:00</td><td>1.64</td><td>177.22</td><td>-1.63</td><td> 0.08</td><td>7 [m]</td><td>GF</td><td>FALSE</td><td>Aug21</td><td>W33-21</td><td>7</td></tr>\n",
       "\t<tr><th scope=row>3</th><td>2021-08-13 00:10:00</td><td>1.85</td><td>177.76</td><td>-1.85</td><td> 0.07</td><td>7 [m]</td><td>GF</td><td>FALSE</td><td>Aug21</td><td>W33-21</td><td>7</td></tr>\n",
       "\t<tr><th scope=row>4</th><td>2021-08-13 00:15:00</td><td>1.88</td><td>179.00</td><td>-1.88</td><td> 0.03</td><td>7 [m]</td><td>GF</td><td>FALSE</td><td>Aug21</td><td>W33-21</td><td>7</td></tr>\n",
       "\t<tr><th scope=row>5</th><td>2021-08-13 00:20:00</td><td>2.12</td><td>200.43</td><td>-1.99</td><td>-0.74</td><td>7 [m]</td><td>GF</td><td>FALSE</td><td>Aug21</td><td>W33-21</td><td>7</td></tr>\n",
       "\t<tr><th scope=row>6</th><td>2021-08-13 00:25:00</td><td>2.50</td><td>210.17</td><td>-2.16</td><td>-1.26</td><td>7 [m]</td><td>GF</td><td>FALSE</td><td>Aug21</td><td>W33-21</td><td>7</td></tr>\n",
       "</tbody>\n",
       "</table>\n"
      ],
      "text/latex": [
       "A data.frame: 6 × 11\n",
       "\\begin{tabular}{r|lllllllllll}\n",
       "  & date\\_time & speed & heading & velocityN & velocityE & depth & site & kelp & m.yr.factor & w.yr.factor & depth.raw\\\\\n",
       "  & <dttm> & <dbl> & <dbl> & <dbl> & <dbl> & <ord> & <fct> & <fct> & <ord> & <ord> & <fct>\\\\\n",
       "\\hline\n",
       "\t1 & 2021-08-13 00:00:00 & 1.89 & 180.44 & -1.89 & -0.01 & 7 {[}m{]} & GF & FALSE & Aug21 & W33-21 & 7\\\\\n",
       "\t2 & 2021-08-13 00:05:00 & 1.64 & 177.22 & -1.63 &  0.08 & 7 {[}m{]} & GF & FALSE & Aug21 & W33-21 & 7\\\\\n",
       "\t3 & 2021-08-13 00:10:00 & 1.85 & 177.76 & -1.85 &  0.07 & 7 {[}m{]} & GF & FALSE & Aug21 & W33-21 & 7\\\\\n",
       "\t4 & 2021-08-13 00:15:00 & 1.88 & 179.00 & -1.88 &  0.03 & 7 {[}m{]} & GF & FALSE & Aug21 & W33-21 & 7\\\\\n",
       "\t5 & 2021-08-13 00:20:00 & 2.12 & 200.43 & -1.99 & -0.74 & 7 {[}m{]} & GF & FALSE & Aug21 & W33-21 & 7\\\\\n",
       "\t6 & 2021-08-13 00:25:00 & 2.50 & 210.17 & -2.16 & -1.26 & 7 {[}m{]} & GF & FALSE & Aug21 & W33-21 & 7\\\\\n",
       "\\end{tabular}\n"
      ],
      "text/markdown": [
       "\n",
       "A data.frame: 6 × 11\n",
       "\n",
       "| <!--/--> | date_time &lt;dttm&gt; | speed &lt;dbl&gt; | heading &lt;dbl&gt; | velocityN &lt;dbl&gt; | velocityE &lt;dbl&gt; | depth &lt;ord&gt; | site &lt;fct&gt; | kelp &lt;fct&gt; | m.yr.factor &lt;ord&gt; | w.yr.factor &lt;ord&gt; | depth.raw &lt;fct&gt; |\n",
       "|---|---|---|---|---|---|---|---|---|---|---|---|\n",
       "| 1 | 2021-08-13 00:00:00 | 1.89 | 180.44 | -1.89 | -0.01 | 7 [m] | GF | FALSE | Aug21 | W33-21 | 7 |\n",
       "| 2 | 2021-08-13 00:05:00 | 1.64 | 177.22 | -1.63 |  0.08 | 7 [m] | GF | FALSE | Aug21 | W33-21 | 7 |\n",
       "| 3 | 2021-08-13 00:10:00 | 1.85 | 177.76 | -1.85 |  0.07 | 7 [m] | GF | FALSE | Aug21 | W33-21 | 7 |\n",
       "| 4 | 2021-08-13 00:15:00 | 1.88 | 179.00 | -1.88 |  0.03 | 7 [m] | GF | FALSE | Aug21 | W33-21 | 7 |\n",
       "| 5 | 2021-08-13 00:20:00 | 2.12 | 200.43 | -1.99 | -0.74 | 7 [m] | GF | FALSE | Aug21 | W33-21 | 7 |\n",
       "| 6 | 2021-08-13 00:25:00 | 2.50 | 210.17 | -2.16 | -1.26 | 7 [m] | GF | FALSE | Aug21 | W33-21 | 7 |\n",
       "\n"
      ],
      "text/plain": [
       "  date_time           speed heading velocityN velocityE depth site kelp \n",
       "1 2021-08-13 00:00:00 1.89  180.44  -1.89     -0.01     7 [m] GF   FALSE\n",
       "2 2021-08-13 00:05:00 1.64  177.22  -1.63      0.08     7 [m] GF   FALSE\n",
       "3 2021-08-13 00:10:00 1.85  177.76  -1.85      0.07     7 [m] GF   FALSE\n",
       "4 2021-08-13 00:15:00 1.88  179.00  -1.88      0.03     7 [m] GF   FALSE\n",
       "5 2021-08-13 00:20:00 2.12  200.43  -1.99     -0.74     7 [m] GF   FALSE\n",
       "6 2021-08-13 00:25:00 2.50  210.17  -2.16     -1.26     7 [m] GF   FALSE\n",
       "  m.yr.factor w.yr.factor depth.raw\n",
       "1 Aug21       W33-21      7        \n",
       "2 Aug21       W33-21      7        \n",
       "3 Aug21       W33-21      7        \n",
       "4 Aug21       W33-21      7        \n",
       "5 Aug21       W33-21      7        \n",
       "6 Aug21       W33-21      7        "
      ]
     },
     "metadata": {},
     "output_type": "display_data"
    },
    {
     "data": {
      "text/html": [
       "<table class=\"dataframe\">\n",
       "<caption>A data.frame: 6 × 26</caption>\n",
       "<thead>\n",
       "\t<tr><th></th><th scope=col>ix</th><th scope=col>date_time</th><th scope=col>ec</th><th scope=col>temp</th><th scope=col>light</th><th scope=col>oxygen</th><th scope=col>pH</th><th scope=col>water_level</th><th scope=col>chlorophyll.a</th><th scope=col>chlorophyll.red</th><th scope=col>⋯</th><th scope=col>pH.upd</th><th scope=col>light.upd</th><th scope=col>salinity.upd</th><th scope=col>sensor.depth</th><th scope=col>depth</th><th scope=col>kelp</th><th scope=col>site</th><th scope=col>m.yr.factor</th><th scope=col>w.yr.factor</th><th scope=col>water.depth</th></tr>\n",
       "\t<tr><th></th><th scope=col>&lt;chr&gt;</th><th scope=col>&lt;dttm&gt;</th><th scope=col>&lt;dbl&gt;</th><th scope=col>&lt;dbl&gt;</th><th scope=col>&lt;dbl&gt;</th><th scope=col>&lt;dbl&gt;</th><th scope=col>&lt;dbl&gt;</th><th scope=col>&lt;dbl&gt;</th><th scope=col>&lt;dbl&gt;</th><th scope=col>&lt;dbl&gt;</th><th scope=col>⋯</th><th scope=col>&lt;dbl&gt;</th><th scope=col>&lt;dbl&gt;</th><th scope=col>&lt;dbl&gt;</th><th scope=col>&lt;dbl&gt;</th><th scope=col>&lt;ord&gt;</th><th scope=col>&lt;fct&gt;</th><th scope=col>&lt;fct&gt;</th><th scope=col>&lt;ord&gt;</th><th scope=col>&lt;ord&gt;</th><th scope=col>&lt;dbl&gt;</th></tr>\n",
       "</thead>\n",
       "<tbody>\n",
       "\t<tr><th scope=row>1</th><td>7m_G-1</td><td>2021-08-12 08:00:00</td><td>31194.1</td><td>4.71</td><td> 688.9</td><td>13.50</td><td>8.35</td><td>216.510</td><td>6</td><td>11</td><td>⋯</td><td>NA</td><td>NA</td><td>NA</td><td>NA</td><td>7 [m]</td><td>FALSE</td><td>GF</td><td>Aug21</td><td>W32-21</td><td>      NA</td></tr>\n",
       "\t<tr><th scope=row>2</th><td>7m_G-2</td><td>2021-08-12 08:30:00</td><td>31219.2</td><td>4.32</td><td> 667.4</td><td>13.54</td><td>8.34</td><td>216.356</td><td>8</td><td>21</td><td>⋯</td><td>NA</td><td>NA</td><td>NA</td><td>NA</td><td>7 [m]</td><td>FALSE</td><td>GF</td><td>Aug21</td><td>W32-21</td><td>      NA</td></tr>\n",
       "\t<tr><th scope=row>3</th><td>7m_G-3</td><td>2021-08-12 09:00:00</td><td>31319.6</td><td>5.29</td><td> 796.5</td><td>13.31</td><td>8.35</td><td>179.936</td><td>6</td><td>54</td><td>⋯</td><td>NA</td><td>NA</td><td>NA</td><td>NA</td><td>7 [m]</td><td>FALSE</td><td>GF</td><td>Aug21</td><td>W32-21</td><td>8.068685</td></tr>\n",
       "\t<tr><th scope=row>4</th><td>7m_G-4</td><td>2021-08-12 09:30:00</td><td>31323.7</td><td>5.38</td><td>1097.9</td><td>13.21</td><td>8.36</td><td>180.658</td><td>7</td><td>38</td><td>⋯</td><td>NA</td><td>NA</td><td>NA</td><td>NA</td><td>7 [m]</td><td>FALSE</td><td>GF</td><td>Aug21</td><td>W32-21</td><td>8.140133</td></tr>\n",
       "\t<tr><th scope=row>5</th><td>7m_G-5</td><td>2021-08-12 10:00:00</td><td>31246.3</td><td>4.95</td><td> 602.8</td><td>13.34</td><td>8.35</td><td>181.589</td><td>6</td><td>24</td><td>⋯</td><td>NA</td><td>NA</td><td>NA</td><td>NA</td><td>7 [m]</td><td>FALSE</td><td>GF</td><td>Aug21</td><td>W32-21</td><td>8.232264</td></tr>\n",
       "\t<tr><th scope=row>6</th><td>7m_G-6</td><td>2021-08-12 10:30:00</td><td>31267.2</td><td>5.50</td><td> 699.7</td><td>13.21</td><td>8.36</td><td>182.965</td><td>7</td><td>38</td><td>⋯</td><td>NA</td><td>NA</td><td>NA</td><td>NA</td><td>7 [m]</td><td>FALSE</td><td>GF</td><td>Aug21</td><td>W32-21</td><td>8.368431</td></tr>\n",
       "</tbody>\n",
       "</table>\n"
      ],
      "text/latex": [
       "A data.frame: 6 × 26\n",
       "\\begin{tabular}{r|lllllllllllllllllllll}\n",
       "  & ix & date\\_time & ec & temp & light & oxygen & pH & water\\_level & chlorophyll.a & chlorophyll.red & ⋯ & pH.upd & light.upd & salinity.upd & sensor.depth & depth & kelp & site & m.yr.factor & w.yr.factor & water.depth\\\\\n",
       "  & <chr> & <dttm> & <dbl> & <dbl> & <dbl> & <dbl> & <dbl> & <dbl> & <dbl> & <dbl> & ⋯ & <dbl> & <dbl> & <dbl> & <dbl> & <ord> & <fct> & <fct> & <ord> & <ord> & <dbl>\\\\\n",
       "\\hline\n",
       "\t1 & 7m\\_G-1 & 2021-08-12 08:00:00 & 31194.1 & 4.71 &  688.9 & 13.50 & 8.35 & 216.510 & 6 & 11 & ⋯ & NA & NA & NA & NA & 7 {[}m{]} & FALSE & GF & Aug21 & W32-21 &       NA\\\\\n",
       "\t2 & 7m\\_G-2 & 2021-08-12 08:30:00 & 31219.2 & 4.32 &  667.4 & 13.54 & 8.34 & 216.356 & 8 & 21 & ⋯ & NA & NA & NA & NA & 7 {[}m{]} & FALSE & GF & Aug21 & W32-21 &       NA\\\\\n",
       "\t3 & 7m\\_G-3 & 2021-08-12 09:00:00 & 31319.6 & 5.29 &  796.5 & 13.31 & 8.35 & 179.936 & 6 & 54 & ⋯ & NA & NA & NA & NA & 7 {[}m{]} & FALSE & GF & Aug21 & W32-21 & 8.068685\\\\\n",
       "\t4 & 7m\\_G-4 & 2021-08-12 09:30:00 & 31323.7 & 5.38 & 1097.9 & 13.21 & 8.36 & 180.658 & 7 & 38 & ⋯ & NA & NA & NA & NA & 7 {[}m{]} & FALSE & GF & Aug21 & W32-21 & 8.140133\\\\\n",
       "\t5 & 7m\\_G-5 & 2021-08-12 10:00:00 & 31246.3 & 4.95 &  602.8 & 13.34 & 8.35 & 181.589 & 6 & 24 & ⋯ & NA & NA & NA & NA & 7 {[}m{]} & FALSE & GF & Aug21 & W32-21 & 8.232264\\\\\n",
       "\t6 & 7m\\_G-6 & 2021-08-12 10:30:00 & 31267.2 & 5.50 &  699.7 & 13.21 & 8.36 & 182.965 & 7 & 38 & ⋯ & NA & NA & NA & NA & 7 {[}m{]} & FALSE & GF & Aug21 & W32-21 & 8.368431\\\\\n",
       "\\end{tabular}\n"
      ],
      "text/markdown": [
       "\n",
       "A data.frame: 6 × 26\n",
       "\n",
       "| <!--/--> | ix &lt;chr&gt; | date_time &lt;dttm&gt; | ec &lt;dbl&gt; | temp &lt;dbl&gt; | light &lt;dbl&gt; | oxygen &lt;dbl&gt; | pH &lt;dbl&gt; | water_level &lt;dbl&gt; | chlorophyll.a &lt;dbl&gt; | chlorophyll.red &lt;dbl&gt; | ⋯ ⋯ | pH.upd &lt;dbl&gt; | light.upd &lt;dbl&gt; | salinity.upd &lt;dbl&gt; | sensor.depth &lt;dbl&gt; | depth &lt;ord&gt; | kelp &lt;fct&gt; | site &lt;fct&gt; | m.yr.factor &lt;ord&gt; | w.yr.factor &lt;ord&gt; | water.depth &lt;dbl&gt; |\n",
       "|---|---|---|---|---|---|---|---|---|---|---|---|---|---|---|---|---|---|---|---|---|---|\n",
       "| 1 | 7m_G-1 | 2021-08-12 08:00:00 | 31194.1 | 4.71 |  688.9 | 13.50 | 8.35 | 216.510 | 6 | 11 | ⋯ | NA | NA | NA | NA | 7 [m] | FALSE | GF | Aug21 | W32-21 |       NA |\n",
       "| 2 | 7m_G-2 | 2021-08-12 08:30:00 | 31219.2 | 4.32 |  667.4 | 13.54 | 8.34 | 216.356 | 8 | 21 | ⋯ | NA | NA | NA | NA | 7 [m] | FALSE | GF | Aug21 | W32-21 |       NA |\n",
       "| 3 | 7m_G-3 | 2021-08-12 09:00:00 | 31319.6 | 5.29 |  796.5 | 13.31 | 8.35 | 179.936 | 6 | 54 | ⋯ | NA | NA | NA | NA | 7 [m] | FALSE | GF | Aug21 | W32-21 | 8.068685 |\n",
       "| 4 | 7m_G-4 | 2021-08-12 09:30:00 | 31323.7 | 5.38 | 1097.9 | 13.21 | 8.36 | 180.658 | 7 | 38 | ⋯ | NA | NA | NA | NA | 7 [m] | FALSE | GF | Aug21 | W32-21 | 8.140133 |\n",
       "| 5 | 7m_G-5 | 2021-08-12 10:00:00 | 31246.3 | 4.95 |  602.8 | 13.34 | 8.35 | 181.589 | 6 | 24 | ⋯ | NA | NA | NA | NA | 7 [m] | FALSE | GF | Aug21 | W32-21 | 8.232264 |\n",
       "| 6 | 7m_G-6 | 2021-08-12 10:30:00 | 31267.2 | 5.50 |  699.7 | 13.21 | 8.36 | 182.965 | 7 | 38 | ⋯ | NA | NA | NA | NA | 7 [m] | FALSE | GF | Aug21 | W32-21 | 8.368431 |\n",
       "\n"
      ],
      "text/plain": [
       "  ix     date_time           ec      temp light  oxygen pH   water_level\n",
       "1 7m_G-1 2021-08-12 08:00:00 31194.1 4.71  688.9 13.50  8.35 216.510    \n",
       "2 7m_G-2 2021-08-12 08:30:00 31219.2 4.32  667.4 13.54  8.34 216.356    \n",
       "3 7m_G-3 2021-08-12 09:00:00 31319.6 5.29  796.5 13.31  8.35 179.936    \n",
       "4 7m_G-4 2021-08-12 09:30:00 31323.7 5.38 1097.9 13.21  8.36 180.658    \n",
       "5 7m_G-5 2021-08-12 10:00:00 31246.3 4.95  602.8 13.34  8.35 181.589    \n",
       "6 7m_G-6 2021-08-12 10:30:00 31267.2 5.50  699.7 13.21  8.36 182.965    \n",
       "  chlorophyll.a chlorophyll.red ⋯ pH.upd light.upd salinity.upd sensor.depth\n",
       "1 6             11              ⋯ NA     NA        NA           NA          \n",
       "2 8             21              ⋯ NA     NA        NA           NA          \n",
       "3 6             54              ⋯ NA     NA        NA           NA          \n",
       "4 7             38              ⋯ NA     NA        NA           NA          \n",
       "5 6             24              ⋯ NA     NA        NA           NA          \n",
       "6 7             38              ⋯ NA     NA        NA           NA          \n",
       "  depth kelp  site m.yr.factor w.yr.factor water.depth\n",
       "1 7 [m] FALSE GF   Aug21       W32-21            NA   \n",
       "2 7 [m] FALSE GF   Aug21       W32-21            NA   \n",
       "3 7 [m] FALSE GF   Aug21       W32-21      8.068685   \n",
       "4 7 [m] FALSE GF   Aug21       W32-21      8.140133   \n",
       "5 7 [m] FALSE GF   Aug21       W32-21      8.232264   \n",
       "6 7 [m] FALSE GF   Aug21       W32-21      8.368431   "
      ]
     },
     "metadata": {},
     "output_type": "display_data"
    }
   ],
   "source": [
    "data.path <- \"../../data\"\n",
    "\n",
    "file.name <- \"df_v_merged.rds\"\n",
    "df.v.merged <- readRDS(paste0(data.path,\"/\",file.name))\n",
    "head(df.v.merged)\n",
    "\n",
    "\n",
    "file.name <- \"df_chem_merged.rds\"\n",
    "df.chem.merged <- readRDS(paste0(data.path,\"/\",file.name))\n",
    "head(df.chem.merged)"
   ]
  },
  {
   "cell_type": "markdown",
   "id": "0c349ef7-9d83-47da-b041-56f858161497",
   "metadata": {},
   "source": [
    "### 3. Building XGBoost model for predicting the presence of the kelp forest\n",
    "#### Merging data frames using common timestep"
   ]
  },
  {
   "cell_type": "code",
   "execution_count": 8,
   "id": "6c82e0a5-7b81-4da3-97e7-3e458a66bb94",
   "metadata": {
    "tags": []
   },
   "outputs": [
    {
     "name": "stderr",
     "output_type": "stream",
     "text": [
      "\u001b[1m\u001b[22m`summarise()` has grouped output by 'site', 'depth'. You can override using the\n",
      "`.groups` argument.\n"
     ]
    },
    {
     "data": {
      "text/html": [
       "<table class=\"dataframe\">\n",
       "<caption>A grouped_df: 6 × 6</caption>\n",
       "<thead>\n",
       "\t<tr><th scope=col>site</th><th scope=col>depth</th><th scope=col>date_time</th><th scope=col>speed</th><th scope=col>velocityN</th><th scope=col>velocityE</th></tr>\n",
       "\t<tr><th scope=col>&lt;fct&gt;</th><th scope=col>&lt;ord&gt;</th><th scope=col>&lt;dttm&gt;</th><th scope=col>&lt;dbl&gt;</th><th scope=col>&lt;dbl&gt;</th><th scope=col>&lt;dbl&gt;</th></tr>\n",
       "</thead>\n",
       "<tbody>\n",
       "\t<tr><td>GF</td><td>7 [m]</td><td>2021-08-13 00:00:00</td><td>1.9800000</td><td>-1.9000000</td><td>-0.3050000</td></tr>\n",
       "\t<tr><td>GF</td><td>7 [m]</td><td>2021-08-13 00:30:00</td><td>2.6933333</td><td>-1.2816667</td><td> 1.6366667</td></tr>\n",
       "\t<tr><td>GF</td><td>7 [m]</td><td>2021-08-13 01:00:00</td><td>1.9000000</td><td>-1.0533333</td><td> 0.1516667</td></tr>\n",
       "\t<tr><td>GF</td><td>7 [m]</td><td>2021-08-13 01:30:00</td><td>0.9383333</td><td>-0.3400000</td><td>-0.2950000</td></tr>\n",
       "\t<tr><td>GF</td><td>7 [m]</td><td>2021-08-13 02:00:00</td><td>1.5500000</td><td> 0.5566667</td><td>-1.1600000</td></tr>\n",
       "\t<tr><td>GF</td><td>7 [m]</td><td>2021-08-13 02:30:00</td><td>2.3283333</td><td> 1.3450000</td><td>-1.6650000</td></tr>\n",
       "</tbody>\n",
       "</table>\n"
      ],
      "text/latex": [
       "A grouped\\_df: 6 × 6\n",
       "\\begin{tabular}{llllll}\n",
       " site & depth & date\\_time & speed & velocityN & velocityE\\\\\n",
       " <fct> & <ord> & <dttm> & <dbl> & <dbl> & <dbl>\\\\\n",
       "\\hline\n",
       "\t GF & 7 {[}m{]} & 2021-08-13 00:00:00 & 1.9800000 & -1.9000000 & -0.3050000\\\\\n",
       "\t GF & 7 {[}m{]} & 2021-08-13 00:30:00 & 2.6933333 & -1.2816667 &  1.6366667\\\\\n",
       "\t GF & 7 {[}m{]} & 2021-08-13 01:00:00 & 1.9000000 & -1.0533333 &  0.1516667\\\\\n",
       "\t GF & 7 {[}m{]} & 2021-08-13 01:30:00 & 0.9383333 & -0.3400000 & -0.2950000\\\\\n",
       "\t GF & 7 {[}m{]} & 2021-08-13 02:00:00 & 1.5500000 &  0.5566667 & -1.1600000\\\\\n",
       "\t GF & 7 {[}m{]} & 2021-08-13 02:30:00 & 2.3283333 &  1.3450000 & -1.6650000\\\\\n",
       "\\end{tabular}\n"
      ],
      "text/markdown": [
       "\n",
       "A grouped_df: 6 × 6\n",
       "\n",
       "| site &lt;fct&gt; | depth &lt;ord&gt; | date_time &lt;dttm&gt; | speed &lt;dbl&gt; | velocityN &lt;dbl&gt; | velocityE &lt;dbl&gt; |\n",
       "|---|---|---|---|---|---|\n",
       "| GF | 7 [m] | 2021-08-13 00:00:00 | 1.9800000 | -1.9000000 | -0.3050000 |\n",
       "| GF | 7 [m] | 2021-08-13 00:30:00 | 2.6933333 | -1.2816667 |  1.6366667 |\n",
       "| GF | 7 [m] | 2021-08-13 01:00:00 | 1.9000000 | -1.0533333 |  0.1516667 |\n",
       "| GF | 7 [m] | 2021-08-13 01:30:00 | 0.9383333 | -0.3400000 | -0.2950000 |\n",
       "| GF | 7 [m] | 2021-08-13 02:00:00 | 1.5500000 |  0.5566667 | -1.1600000 |\n",
       "| GF | 7 [m] | 2021-08-13 02:30:00 | 2.3283333 |  1.3450000 | -1.6650000 |\n",
       "\n"
      ],
      "text/plain": [
       "  site depth date_time           speed     velocityN  velocityE \n",
       "1 GF   7 [m] 2021-08-13 00:00:00 1.9800000 -1.9000000 -0.3050000\n",
       "2 GF   7 [m] 2021-08-13 00:30:00 2.6933333 -1.2816667  1.6366667\n",
       "3 GF   7 [m] 2021-08-13 01:00:00 1.9000000 -1.0533333  0.1516667\n",
       "4 GF   7 [m] 2021-08-13 01:30:00 0.9383333 -0.3400000 -0.2950000\n",
       "5 GF   7 [m] 2021-08-13 02:00:00 1.5500000  0.5566667 -1.1600000\n",
       "6 GF   7 [m] 2021-08-13 02:30:00 2.3283333  1.3450000 -1.6650000"
      ]
     },
     "metadata": {},
     "output_type": "display_data"
    }
   ],
   "source": [
    "df.velocity.30min <-  df.v.merged %>%\n",
    "  mutate(date_time = floor_date(date_time, unit = \"30 min\")) %>%\n",
    "  group_by(site,depth,date_time) %>%\n",
    "  summarise(speed = mean(speed, na.rm = TRUE),\n",
    "            velocityN = mean(velocityN, na.rm = TRUE),\n",
    "            velocityE = mean(velocityE, na.rm = TRUE))\n",
    "\n",
    "head(df.velocity.30min)"
   ]
  },
  {
   "cell_type": "code",
   "execution_count": 9,
   "id": "bb787c33-803c-4d94-abec-341586165e4d",
   "metadata": {
    "tags": []
   },
   "outputs": [
    {
     "data": {
      "text/html": [
       "<table class=\"dataframe\">\n",
       "<caption>A data.frame: 6 × 28</caption>\n",
       "<thead>\n",
       "\t<tr><th></th><th scope=col>site</th><th scope=col>depth</th><th scope=col>date_time</th><th scope=col>ec</th><th scope=col>temp</th><th scope=col>light</th><th scope=col>oxygen</th><th scope=col>pH</th><th scope=col>water_level</th><th scope=col>chlorophyll.a</th><th scope=col>⋯</th><th scope=col>light.upd</th><th scope=col>salinity.upd</th><th scope=col>sensor.depth</th><th scope=col>kelp</th><th scope=col>m.yr.factor</th><th scope=col>w.yr.factor</th><th scope=col>water.depth</th><th scope=col>speed</th><th scope=col>velocityN</th><th scope=col>velocityE</th></tr>\n",
       "\t<tr><th></th><th scope=col>&lt;fct&gt;</th><th scope=col>&lt;ord&gt;</th><th scope=col>&lt;dttm&gt;</th><th scope=col>&lt;dbl&gt;</th><th scope=col>&lt;dbl&gt;</th><th scope=col>&lt;dbl&gt;</th><th scope=col>&lt;dbl&gt;</th><th scope=col>&lt;dbl&gt;</th><th scope=col>&lt;dbl&gt;</th><th scope=col>&lt;dbl&gt;</th><th scope=col>⋯</th><th scope=col>&lt;dbl&gt;</th><th scope=col>&lt;dbl&gt;</th><th scope=col>&lt;dbl&gt;</th><th scope=col>&lt;fct&gt;</th><th scope=col>&lt;ord&gt;</th><th scope=col>&lt;ord&gt;</th><th scope=col>&lt;dbl&gt;</th><th scope=col>&lt;dbl&gt;</th><th scope=col>&lt;dbl&gt;</th><th scope=col>&lt;dbl&gt;</th></tr>\n",
       "</thead>\n",
       "<tbody>\n",
       "\t<tr><th scope=row>1</th><td>GF</td><td>10 [m]</td><td>2021-08-13 00:00:00</td><td>30120.4</td><td>5.25</td><td> 64.6</td><td>13.17</td><td>8.37</td><td>NA</td><td>NA</td><td>⋯</td><td> 64.6</td><td>32.9891</td><td>NA</td><td>FALSE</td><td>Aug21</td><td>W32-21</td><td>NA</td><td>2.918333</td><td>-1.3650000</td><td>2.348333</td></tr>\n",
       "\t<tr><th scope=row>2</th><td>GF</td><td>10 [m]</td><td>2021-08-13 00:30:00</td><td>30095.0</td><td>5.14</td><td> 64.6</td><td>13.14</td><td>8.36</td><td>NA</td><td>NA</td><td>⋯</td><td> 64.6</td><td>33.0673</td><td>NA</td><td>FALSE</td><td>Aug21</td><td>W33-21</td><td>NA</td><td>2.253333</td><td> 0.4533333</td><td>2.181667</td></tr>\n",
       "\t<tr><th scope=row>3</th><td>GF</td><td>10 [m]</td><td>2021-08-13 01:00:00</td><td>30007.3</td><td>4.85</td><td> 53.8</td><td>13.27</td><td>8.37</td><td>NA</td><td>NA</td><td>⋯</td><td> 53.8</td><td>33.2496</td><td>NA</td><td>FALSE</td><td>Aug21</td><td>W33-21</td><td>NA</td><td>1.998333</td><td> 0.9583333</td><td>1.751667</td></tr>\n",
       "\t<tr><th scope=row>4</th><td>GF</td><td>10 [m]</td><td>2021-08-13 01:30:00</td><td>30032.6</td><td>4.85</td><td> 64.6</td><td>13.30</td><td>8.36</td><td>NA</td><td>NA</td><td>⋯</td><td> 64.6</td><td>33.2807</td><td>NA</td><td>FALSE</td><td>Aug21</td><td>W33-21</td><td>NA</td><td>1.965000</td><td> 1.2016667</td><td>1.550000</td></tr>\n",
       "\t<tr><th scope=row>5</th><td>GF</td><td>10 [m]</td><td>2021-08-13 02:00:00</td><td>29995.6</td><td>4.84</td><td>118.4</td><td>13.36</td><td>8.37</td><td>NA</td><td>NA</td><td>⋯</td><td>118.4</td><td>33.2453</td><td>NA</td><td>FALSE</td><td>Aug21</td><td>W33-21</td><td>NA</td><td>2.088333</td><td> 1.4533333</td><td>1.441667</td></tr>\n",
       "\t<tr><th scope=row>6</th><td>GF</td><td>10 [m]</td><td>2021-08-13 02:30:00</td><td>30011.2</td><td>4.80</td><td>226.0</td><td>13.39</td><td>8.37</td><td>NA</td><td>NA</td><td>⋯</td><td>226.0</td><td>33.3047</td><td>NA</td><td>FALSE</td><td>Aug21</td><td>W33-21</td><td>NA</td><td>2.038333</td><td> 1.8116667</td><td>0.740000</td></tr>\n",
       "</tbody>\n",
       "</table>\n"
      ],
      "text/latex": [
       "A data.frame: 6 × 28\n",
       "\\begin{tabular}{r|lllllllllllllllllllll}\n",
       "  & site & depth & date\\_time & ec & temp & light & oxygen & pH & water\\_level & chlorophyll.a & ⋯ & light.upd & salinity.upd & sensor.depth & kelp & m.yr.factor & w.yr.factor & water.depth & speed & velocityN & velocityE\\\\\n",
       "  & <fct> & <ord> & <dttm> & <dbl> & <dbl> & <dbl> & <dbl> & <dbl> & <dbl> & <dbl> & ⋯ & <dbl> & <dbl> & <dbl> & <fct> & <ord> & <ord> & <dbl> & <dbl> & <dbl> & <dbl>\\\\\n",
       "\\hline\n",
       "\t1 & GF & 10 {[}m{]} & 2021-08-13 00:00:00 & 30120.4 & 5.25 &  64.6 & 13.17 & 8.37 & NA & NA & ⋯ &  64.6 & 32.9891 & NA & FALSE & Aug21 & W32-21 & NA & 2.918333 & -1.3650000 & 2.348333\\\\\n",
       "\t2 & GF & 10 {[}m{]} & 2021-08-13 00:30:00 & 30095.0 & 5.14 &  64.6 & 13.14 & 8.36 & NA & NA & ⋯ &  64.6 & 33.0673 & NA & FALSE & Aug21 & W33-21 & NA & 2.253333 &  0.4533333 & 2.181667\\\\\n",
       "\t3 & GF & 10 {[}m{]} & 2021-08-13 01:00:00 & 30007.3 & 4.85 &  53.8 & 13.27 & 8.37 & NA & NA & ⋯ &  53.8 & 33.2496 & NA & FALSE & Aug21 & W33-21 & NA & 1.998333 &  0.9583333 & 1.751667\\\\\n",
       "\t4 & GF & 10 {[}m{]} & 2021-08-13 01:30:00 & 30032.6 & 4.85 &  64.6 & 13.30 & 8.36 & NA & NA & ⋯ &  64.6 & 33.2807 & NA & FALSE & Aug21 & W33-21 & NA & 1.965000 &  1.2016667 & 1.550000\\\\\n",
       "\t5 & GF & 10 {[}m{]} & 2021-08-13 02:00:00 & 29995.6 & 4.84 & 118.4 & 13.36 & 8.37 & NA & NA & ⋯ & 118.4 & 33.2453 & NA & FALSE & Aug21 & W33-21 & NA & 2.088333 &  1.4533333 & 1.441667\\\\\n",
       "\t6 & GF & 10 {[}m{]} & 2021-08-13 02:30:00 & 30011.2 & 4.80 & 226.0 & 13.39 & 8.37 & NA & NA & ⋯ & 226.0 & 33.3047 & NA & FALSE & Aug21 & W33-21 & NA & 2.038333 &  1.8116667 & 0.740000\\\\\n",
       "\\end{tabular}\n"
      ],
      "text/markdown": [
       "\n",
       "A data.frame: 6 × 28\n",
       "\n",
       "| <!--/--> | site &lt;fct&gt; | depth &lt;ord&gt; | date_time &lt;dttm&gt; | ec &lt;dbl&gt; | temp &lt;dbl&gt; | light &lt;dbl&gt; | oxygen &lt;dbl&gt; | pH &lt;dbl&gt; | water_level &lt;dbl&gt; | chlorophyll.a &lt;dbl&gt; | ⋯ ⋯ | light.upd &lt;dbl&gt; | salinity.upd &lt;dbl&gt; | sensor.depth &lt;dbl&gt; | kelp &lt;fct&gt; | m.yr.factor &lt;ord&gt; | w.yr.factor &lt;ord&gt; | water.depth &lt;dbl&gt; | speed &lt;dbl&gt; | velocityN &lt;dbl&gt; | velocityE &lt;dbl&gt; |\n",
       "|---|---|---|---|---|---|---|---|---|---|---|---|---|---|---|---|---|---|---|---|---|---|\n",
       "| 1 | GF | 10 [m] | 2021-08-13 00:00:00 | 30120.4 | 5.25 |  64.6 | 13.17 | 8.37 | NA | NA | ⋯ |  64.6 | 32.9891 | NA | FALSE | Aug21 | W32-21 | NA | 2.918333 | -1.3650000 | 2.348333 |\n",
       "| 2 | GF | 10 [m] | 2021-08-13 00:30:00 | 30095.0 | 5.14 |  64.6 | 13.14 | 8.36 | NA | NA | ⋯ |  64.6 | 33.0673 | NA | FALSE | Aug21 | W33-21 | NA | 2.253333 |  0.4533333 | 2.181667 |\n",
       "| 3 | GF | 10 [m] | 2021-08-13 01:00:00 | 30007.3 | 4.85 |  53.8 | 13.27 | 8.37 | NA | NA | ⋯ |  53.8 | 33.2496 | NA | FALSE | Aug21 | W33-21 | NA | 1.998333 |  0.9583333 | 1.751667 |\n",
       "| 4 | GF | 10 [m] | 2021-08-13 01:30:00 | 30032.6 | 4.85 |  64.6 | 13.30 | 8.36 | NA | NA | ⋯ |  64.6 | 33.2807 | NA | FALSE | Aug21 | W33-21 | NA | 1.965000 |  1.2016667 | 1.550000 |\n",
       "| 5 | GF | 10 [m] | 2021-08-13 02:00:00 | 29995.6 | 4.84 | 118.4 | 13.36 | 8.37 | NA | NA | ⋯ | 118.4 | 33.2453 | NA | FALSE | Aug21 | W33-21 | NA | 2.088333 |  1.4533333 | 1.441667 |\n",
       "| 6 | GF | 10 [m] | 2021-08-13 02:30:00 | 30011.2 | 4.80 | 226.0 | 13.39 | 8.37 | NA | NA | ⋯ | 226.0 | 33.3047 | NA | FALSE | Aug21 | W33-21 | NA | 2.038333 |  1.8116667 | 0.740000 |\n",
       "\n"
      ],
      "text/plain": [
       "  site depth  date_time           ec      temp light oxygen pH   water_level\n",
       "1 GF   10 [m] 2021-08-13 00:00:00 30120.4 5.25  64.6 13.17  8.37 NA         \n",
       "2 GF   10 [m] 2021-08-13 00:30:00 30095.0 5.14  64.6 13.14  8.36 NA         \n",
       "3 GF   10 [m] 2021-08-13 01:00:00 30007.3 4.85  53.8 13.27  8.37 NA         \n",
       "4 GF   10 [m] 2021-08-13 01:30:00 30032.6 4.85  64.6 13.30  8.36 NA         \n",
       "5 GF   10 [m] 2021-08-13 02:00:00 29995.6 4.84 118.4 13.36  8.37 NA         \n",
       "6 GF   10 [m] 2021-08-13 02:30:00 30011.2 4.80 226.0 13.39  8.37 NA         \n",
       "  chlorophyll.a ⋯ light.upd salinity.upd sensor.depth kelp  m.yr.factor\n",
       "1 NA            ⋯  64.6     32.9891      NA           FALSE Aug21      \n",
       "2 NA            ⋯  64.6     33.0673      NA           FALSE Aug21      \n",
       "3 NA            ⋯  53.8     33.2496      NA           FALSE Aug21      \n",
       "4 NA            ⋯  64.6     33.2807      NA           FALSE Aug21      \n",
       "5 NA            ⋯ 118.4     33.2453      NA           FALSE Aug21      \n",
       "6 NA            ⋯ 226.0     33.3047      NA           FALSE Aug21      \n",
       "  w.yr.factor water.depth speed    velocityN  velocityE\n",
       "1 W32-21      NA          2.918333 -1.3650000 2.348333 \n",
       "2 W33-21      NA          2.253333  0.4533333 2.181667 \n",
       "3 W33-21      NA          1.998333  0.9583333 1.751667 \n",
       "4 W33-21      NA          1.965000  1.2016667 1.550000 \n",
       "5 W33-21      NA          2.088333  1.4533333 1.441667 \n",
       "6 W33-21      NA          2.038333  1.8116667 0.740000 "
      ]
     },
     "metadata": {},
     "output_type": "display_data"
    }
   ],
   "source": [
    "df.all2 <- merge(x=df.chem.merged, y= df.velocity.30min, by=c(\"site\",\"depth\",\"date_time\"))\n",
    "df.all2$ix <- NULL\n",
    "head(df.all2)"
   ]
  },
  {
   "cell_type": "markdown",
   "id": "9b6a078f-d6c2-44e4-b71e-1b46dce8f5a4",
   "metadata": {},
   "source": [
    "#### Choosing features and target"
   ]
  },
  {
   "cell_type": "code",
   "execution_count": 10,
   "id": "5deb3de2-1dcd-40b9-9204-e22d81c820ee",
   "metadata": {
    "tags": []
   },
   "outputs": [],
   "source": [
    "featX <- c('oxygen','pH',\"ec\",'temp','light','velocityN','velocityE')\n",
    "tmp.df <- na.omit(df.all2[c(featX,\"kelp\",\"site\",\"depth\",\"w.yr.factor\")])\n",
    "X <- tmp.df[featX]\n",
    "Y <- tmp.df['kelp']"
   ]
  },
  {
   "cell_type": "markdown",
   "id": "6131c32a-14e1-4251-ac9f-e77f70d72d18",
   "metadata": {},
   "source": [
    "#### Dividing dataset into training and test datasets"
   ]
  },
  {
   "cell_type": "code",
   "execution_count": 11,
   "id": "7178a542-3afb-4fb0-8a01-b571fee40029",
   "metadata": {},
   "outputs": [],
   "source": [
    "set.seed(2025) # setting random seed for reproducibility of the outcomes"
   ]
  },
  {
   "cell_type": "code",
   "execution_count": 12,
   "id": "54faa55c-40a5-442a-8367-204cb922b7fc",
   "metadata": {
    "tags": []
   },
   "outputs": [
    {
     "data": {
      "text/html": [
       "172564"
      ],
      "text/latex": [
       "172564"
      ],
      "text/markdown": [
       "172564"
      ],
      "text/plain": [
       "[1] 172564"
      ]
     },
     "metadata": {},
     "output_type": "display_data"
    },
    {
     "data": {
      "text/html": [
       "73956"
      ],
      "text/latex": [
       "73956"
      ],
      "text/markdown": [
       "73956"
      ],
      "text/plain": [
       "[1] 73956"
      ]
     },
     "metadata": {},
     "output_type": "display_data"
    }
   ],
   "source": [
    "n <- nrow(X)\n",
    "train.ix <- sample(1:n, as.integer(0.7*n), replace=FALSE)\n",
    "test.ix <- (1:n)[-train.ix]\n",
    "\n",
    "trainX <- as.matrix(X[train.ix,])\n",
    "testX <- as.matrix(X[test.ix,])\n",
    "\n",
    "trainY <- as.matrix(as.integer(Y[train.ix,])-1)\n",
    "testY <- as.matrix(as.integer(Y[test.ix,])-1)\n",
    "\n",
    "nrow(trainX)\n",
    "nrow(testX)"
   ]
  },
  {
   "cell_type": "markdown",
   "id": "9a9140f4-27f2-4e08-8808-18144aaed569",
   "metadata": {},
   "source": [
    "#### Training a model"
   ]
  },
  {
   "cell_type": "code",
   "execution_count": 13,
   "id": "1fdb3e4c-bfc9-4ca0-b5af-5e680bf40fa9",
   "metadata": {
    "tags": []
   },
   "outputs": [],
   "source": [
    "xgb.model <- xgboost(data = trainX, label = trainY, objective = \"binary:logistic\", \n",
    "                     max.depth = 8, eta = 0.1,gamma=1, nthread = 4, nrounds = 200, subsample=0.5, verbose = 0)"
   ]
  },
  {
   "cell_type": "markdown",
   "id": "061e6d79-8f92-4bf8-9c09-cc95b6d51136",
   "metadata": {},
   "source": [
    "#### Evaluation of the model"
   ]
  },
  {
   "cell_type": "code",
   "execution_count": 14,
   "id": "28ca9bff-2d40-422c-99df-196294d4b86d",
   "metadata": {
    "tags": []
   },
   "outputs": [
    {
     "data": {
      "text/plain": [
       "     pY\n",
       "testY     0     1\n",
       "    0 60310   933\n",
       "    1   137 12576"
      ]
     },
     "metadata": {},
     "output_type": "display_data"
    }
   ],
   "source": [
    "predP <- predict(xgb.model, testX)\n",
    "pY <- as.integer( predP > 0.26)\n",
    "table(data.frame(testY,pY))"
   ]
  },
  {
   "cell_type": "code",
   "execution_count": 15,
   "id": "6322bc7d-b58f-49e6-bb80-3a9efb0d3c26",
   "metadata": {
    "tags": []
   },
   "outputs": [
    {
     "name": "stderr",
     "output_type": "stream",
     "text": [
      "Setting levels: control = 0, case = 1\n",
      "\n",
      "Setting direction: controls < cases\n",
      "\n"
     ]
    },
    {
     "data": {
      "text/html": [
       "0.999100240222658"
      ],
      "text/latex": [
       "0.999100240222658"
      ],
      "text/markdown": [
       "0.999100240222658"
      ],
      "text/plain": [
       "Area under the curve: 0.9991"
      ]
     },
     "metadata": {},
     "output_type": "display_data"
    }
   ],
   "source": [
    "roc.obj <- roc( as.vector(testY),as.vector(predict(xgb.model, testX)))\n",
    "auc(roc.obj)"
   ]
  },
  {
   "cell_type": "code",
   "execution_count": 16,
   "id": "b1074e07-0096-4061-bcdb-3189afde66e4",
   "metadata": {
    "tags": []
   },
   "outputs": [
    {
     "data": {
      "text/html": [
       "0.974194123013019"
      ],
      "text/latex": [
       "0.974194123013019"
      ],
      "text/markdown": [
       "0.974194123013019"
      ],
      "text/plain": [
       "[1] 0.9741941"
      ]
     },
     "metadata": {},
     "output_type": "display_data"
    }
   ],
   "source": [
    "J = roc.obj$sensitivities + roc.obj$specificities - 1\n",
    "Jmax = max(J)\n",
    "Jmax"
   ]
  },
  {
   "cell_type": "code",
   "execution_count": 17,
   "id": "0c3ddf3c-6458-4dc5-b60c-069af827024e",
   "metadata": {
    "tags": []
   },
   "outputs": [
    {
     "data": {
      "text/html": [
       "0.267343699932098"
      ],
      "text/latex": [
       "0.267343699932098"
      ],
      "text/markdown": [
       "0.267343699932098"
      ],
      "text/plain": [
       "[1] 0.2673437"
      ]
     },
     "metadata": {},
     "output_type": "display_data"
    }
   ],
   "source": [
    "roc.obj$thresholds[J == Jmax]"
   ]
  },
  {
   "cell_type": "code",
   "execution_count": 18,
   "id": "41d23f10-c753-4490-84d0-b5fd9a34d8f3",
   "metadata": {
    "tags": []
   },
   "outputs": [
    {
     "data": {
      "image/png": "[encoded data removed]",
      "text/plain": [
       "plot without title"
      ]
     },
     "metadata": {
      "image/png": {
       "height": 480,
       "width": 540
      }
     },
     "output_type": "display_data"
    }
   ],
   "source": [
    "options(repr.plot.height=8,repr.plot.width=9)\n",
    "df.roc <- data.frame(sensitvity= roc.obj$sensitivities, specificity=roc.obj$specificities)\n",
    "ggplot(df.roc,aes(x=specificity, y=sensitvity)) + geom_line(linewidth=1.2) + scale_x_reverse() + \n",
    "geom_line(data=data.frame(x=c(1,0),y=c(0,1)),aes(x=x,y=y),linetype = \"dashed\",linewidth=0.75) +\n",
    "theme(axis.text.x = element_text(size=18,colour = \"black\"),\n",
    "      axis.text.y = element_text(size=18,colour = \"black\"),\n",
    "      axis.title = element_text(size = 20,colour = \"black\"),\n",
    "            legend.position=\"none\")\n",
    "\n",
    "if (flag.make.plots) {\n",
    "    ggsave(paste0(IMG.path,\"/xgb_roc.tiff\"),height = 6, width = 7,dpi = dpi.opt,compression = \"lzw\")\n",
    "}"
   ]
  },
  {
   "cell_type": "markdown",
   "id": "1b887e16-9509-4e5e-896d-62b1c8d45e3d",
   "metadata": {},
   "source": [
    "#### Feature importance"
   ]
  },
  {
   "cell_type": "code",
   "execution_count": 19,
   "id": "07fbd094-7fb0-42e3-926a-e37b8ddf1c84",
   "metadata": {
    "tags": []
   },
   "outputs": [
    {
     "data": {
      "text/html": [
       "<table class=\"dataframe\">\n",
       "<caption>A data.table: 7 × 4</caption>\n",
       "<thead>\n",
       "\t<tr><th scope=col>Feature</th><th scope=col>Gain</th><th scope=col>Cover</th><th scope=col>Frequency</th></tr>\n",
       "\t<tr><th scope=col>&lt;chr&gt;</th><th scope=col>&lt;dbl&gt;</th><th scope=col>&lt;dbl&gt;</th><th scope=col>&lt;dbl&gt;</th></tr>\n",
       "</thead>\n",
       "<tbody>\n",
       "\t<tr><td>ec       </td><td>0.30468681</td><td>0.23160178</td><td>0.27581112</td></tr>\n",
       "\t<tr><td>pH       </td><td>0.17832506</td><td>0.22009981</td><td>0.17611252</td></tr>\n",
       "\t<tr><td>velocityE</td><td>0.17240546</td><td>0.20757944</td><td>0.08740618</td></tr>\n",
       "\t<tr><td>temp     </td><td>0.15871498</td><td>0.13411694</td><td>0.18019030</td></tr>\n",
       "\t<tr><td>oxygen   </td><td>0.10658221</td><td>0.10214464</td><td>0.14437681</td></tr>\n",
       "\t<tr><td>velocityN</td><td>0.04985086</td><td>0.07832686</td><td>0.09018380</td></tr>\n",
       "\t<tr><td>light    </td><td>0.02943462</td><td>0.02613052</td><td>0.04591927</td></tr>\n",
       "</tbody>\n",
       "</table>\n"
      ],
      "text/latex": [
       "A data.table: 7 × 4\n",
       "\\begin{tabular}{llll}\n",
       " Feature & Gain & Cover & Frequency\\\\\n",
       " <chr> & <dbl> & <dbl> & <dbl>\\\\\n",
       "\\hline\n",
       "\t ec        & 0.30468681 & 0.23160178 & 0.27581112\\\\\n",
       "\t pH        & 0.17832506 & 0.22009981 & 0.17611252\\\\\n",
       "\t velocityE & 0.17240546 & 0.20757944 & 0.08740618\\\\\n",
       "\t temp      & 0.15871498 & 0.13411694 & 0.18019030\\\\\n",
       "\t oxygen    & 0.10658221 & 0.10214464 & 0.14437681\\\\\n",
       "\t velocityN & 0.04985086 & 0.07832686 & 0.09018380\\\\\n",
       "\t light     & 0.02943462 & 0.02613052 & 0.04591927\\\\\n",
       "\\end{tabular}\n"
      ],
      "text/markdown": [
       "\n",
       "A data.table: 7 × 4\n",
       "\n",
       "| Feature &lt;chr&gt; | Gain &lt;dbl&gt; | Cover &lt;dbl&gt; | Frequency &lt;dbl&gt; |\n",
       "|---|---|---|---|\n",
       "| ec        | 0.30468681 | 0.23160178 | 0.27581112 |\n",
       "| pH        | 0.17832506 | 0.22009981 | 0.17611252 |\n",
       "| velocityE | 0.17240546 | 0.20757944 | 0.08740618 |\n",
       "| temp      | 0.15871498 | 0.13411694 | 0.18019030 |\n",
       "| oxygen    | 0.10658221 | 0.10214464 | 0.14437681 |\n",
       "| velocityN | 0.04985086 | 0.07832686 | 0.09018380 |\n",
       "| light     | 0.02943462 | 0.02613052 | 0.04591927 |\n",
       "\n"
      ],
      "text/plain": [
       "  Feature   Gain       Cover      Frequency \n",
       "1 ec        0.30468681 0.23160178 0.27581112\n",
       "2 pH        0.17832506 0.22009981 0.17611252\n",
       "3 velocityE 0.17240546 0.20757944 0.08740618\n",
       "4 temp      0.15871498 0.13411694 0.18019030\n",
       "5 oxygen    0.10658221 0.10214464 0.14437681\n",
       "6 velocityN 0.04985086 0.07832686 0.09018380\n",
       "7 light     0.02943462 0.02613052 0.04591927"
      ]
     },
     "metadata": {},
     "output_type": "display_data"
    },
    {
     "data": {
      "image/png": "[encoded data removed]",
      "text/plain": [
       "plot without title"
      ]
     },
     "metadata": {
      "image/png": {
       "height": 480,
       "width": 540
      }
     },
     "output_type": "display_data"
    }
   ],
   "source": [
    "importance_matrix = xgb.importance(colnames(trainX), model = xgb.model)\n",
    "importance_matrix\n",
    "xgb.plot.importance(importance_matrix) "
   ]
  },
  {
   "cell_type": "code",
   "execution_count": 20,
   "id": "ce996a67-5a57-4b6e-b4e7-1c2d2103c048",
   "metadata": {
    "tags": []
   },
   "outputs": [
    {
     "data": {
      "image/png": "[encoded data removed]",
      "text/plain": [
       "plot without title"
      ]
     },
     "metadata": {
      "image/png": {
       "height": 480,
       "width": 600
      }
     },
     "output_type": "display_data"
    }
   ],
   "source": [
    "importance_matrix$Features <- c(\"electrical\\nconductivity\", \"pH\", \"temperature\", \"velocity E\", \"oxygen\", \"velocity N\", \"light\")\n",
    "\n",
    "\n",
    "options(repr.plot.height=8,repr.plot.width=10)\n",
    "ggplot(importance_matrix,aes(y=reorder(Features,Gain),x=Gain,fill=Frequency)) + geom_col(color=\"black\",linewidth=1) + \n",
    "       scale_fill_distiller(type = \"seq\",direction = 1,palette = \"Greys\")+\n",
    "xlab(\"feature importance (gain)\") + ylab(\"features\") +\n",
    "theme(axis.text.x = element_text(size=18,colour = \"black\"),\n",
    "      axis.text.y = element_text(size=18,colour = \"black\"),\n",
    "      axis.title = element_text(size = 20,colour = \"black\"),\n",
    "      #      legend.position=\"none\"\n",
    "\n",
    "      legend.key.size = unit(1, 'cm'), #change legend key size\n",
    "      legend.key.height = unit(2, 'cm'), #change legend key height\n",
    "      legend.key.width = unit(1, 'cm'), #change legend key width\n",
    "      legend.title = element_text(size=18), #change legend title font size\n",
    "      legend.text = element_text(size=18)      \n",
    "     )\n",
    "\n",
    "if (flag.make.plots) {\n",
    "    ggsave(paste0(IMG.path,\"/xgb_importnace.tiff\"),height = 6, width = 8,dpi = dpi.opt,compression = \"lzw\")\n",
    "    ggsave(paste0(IMG.path,\"/xgb_importnace_small.png\"),height = 6, width = 8,dpi = 300)\n",
    "    ggsave(paste0(IMG.path,\"/xgb_importnace_small.svg\"),height = 6, width = 8)\n",
    "}"
   ]
  }
 ],
 "metadata": {
  "kernelspec": {
   "display_name": "R",
   "language": "R",
   "name": "ir"
  },
  "language_info": {
   "codemirror_mode": "r",
   "file_extension": ".r",
   "mimetype": "text/x-r-source",
   "name": "R",
   "pygments_lexer": "r",
   "version": "4.4.2"
  }
 },
 "nbformat": 4,
 "nbformat_minor": 5
}

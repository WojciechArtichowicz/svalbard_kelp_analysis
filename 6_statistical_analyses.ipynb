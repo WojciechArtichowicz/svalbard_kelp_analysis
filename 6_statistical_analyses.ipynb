{
 "cells": [
  {
   "cell_type": "markdown",
   "id": "03c8b1be-0e11-48c4-a82b-13b298308180",
   "metadata": {},
   "source": [
    "# Remaining analyses of the dataset\n",
    "## 1. Library imports and setup"
   ]
  },
  {
   "cell_type": "code",
   "execution_count": 2,
   "id": "9554a068",
   "metadata": {
    "tags": []
   },
   "outputs": [],
   "source": [
    "library(tidyverse)\n",
    "library(lawstat)\n",
    "library(PERMANOVA)\n",
    "library(vegan)\n",
    "library(npmv)"
   ]
  },
  {
   "cell_type": "code",
   "execution_count": 3,
   "id": "48f5dac1-818a-484b-afb8-6cb6b8c97311",
   "metadata": {},
   "outputs": [
    {
     "data": {
      "text/html": [
       "'English_United States.1252'"
      ],
      "text/latex": [
       "'English\\_United States.1252'"
      ],
      "text/markdown": [
       "'English_United States.1252'"
      ],
      "text/plain": [
       "[1] \"English_United States.1252\""
      ]
     },
     "metadata": {},
     "output_type": "display_data"
    }
   ],
   "source": [
    "Sys.setenv(LANGUAGE=\"en\")\n",
    "Sys.setlocale(\"LC_TIME\", \"English\")\n",
    "\n",
    "theme_set(theme_bw())"
   ]
  },
  {
   "cell_type": "markdown",
   "id": "a9f7eae4-307c-4aa9-97d6-7ade3ca57b05",
   "metadata": {},
   "source": [
    "## 2. Import of the clean data"
   ]
  },
  {
   "cell_type": "code",
   "execution_count": 4,
   "id": "a4967dc2-8b5e-498e-8e16-c87a4042efd2",
   "metadata": {},
   "outputs": [
    {
     "data": {
      "text/html": [
       "<table class=\"dataframe\">\n",
       "<caption>A data.frame: 3 × 26</caption>\n",
       "<thead>\n",
       "\t<tr><th></th><th scope=col>ix</th><th scope=col>date_time</th><th scope=col>ec</th><th scope=col>temp</th><th scope=col>light</th><th scope=col>oxygen</th><th scope=col>pH</th><th scope=col>water_level</th><th scope=col>chlorophyll.a</th><th scope=col>chlorophyll.red</th><th scope=col>⋯</th><th scope=col>pH.upd</th><th scope=col>light.upd</th><th scope=col>salinity.upd</th><th scope=col>sensor.depth</th><th scope=col>depth</th><th scope=col>kelp</th><th scope=col>site</th><th scope=col>m.yr.factor</th><th scope=col>w.yr.factor</th><th scope=col>water.depth</th></tr>\n",
       "\t<tr><th></th><th scope=col>&lt;chr&gt;</th><th scope=col>&lt;dttm&gt;</th><th scope=col>&lt;dbl&gt;</th><th scope=col>&lt;dbl&gt;</th><th scope=col>&lt;dbl&gt;</th><th scope=col>&lt;dbl&gt;</th><th scope=col>&lt;dbl&gt;</th><th scope=col>&lt;dbl&gt;</th><th scope=col>&lt;dbl&gt;</th><th scope=col>&lt;dbl&gt;</th><th scope=col>⋯</th><th scope=col>&lt;dbl&gt;</th><th scope=col>&lt;dbl&gt;</th><th scope=col>&lt;dbl&gt;</th><th scope=col>&lt;dbl&gt;</th><th scope=col>&lt;ord&gt;</th><th scope=col>&lt;fct&gt;</th><th scope=col>&lt;fct&gt;</th><th scope=col>&lt;ord&gt;</th><th scope=col>&lt;ord&gt;</th><th scope=col>&lt;dbl&gt;</th></tr>\n",
       "</thead>\n",
       "<tbody>\n",
       "\t<tr><th scope=row>1</th><td>7m_G-1</td><td>2021-08-12 08:00:00</td><td>31194.1</td><td>4.71</td><td>688.9</td><td>13.50</td><td>8.35</td><td>216.510</td><td>6</td><td>11</td><td>⋯</td><td>NA</td><td>NA</td><td>NA</td><td>NA</td><td>7 [m]</td><td>FALSE</td><td>GF</td><td>Aug21</td><td>W32-21</td><td>      NA</td></tr>\n",
       "\t<tr><th scope=row>2</th><td>7m_G-2</td><td>2021-08-12 08:30:00</td><td>31219.2</td><td>4.32</td><td>667.4</td><td>13.54</td><td>8.34</td><td>216.356</td><td>8</td><td>21</td><td>⋯</td><td>NA</td><td>NA</td><td>NA</td><td>NA</td><td>7 [m]</td><td>FALSE</td><td>GF</td><td>Aug21</td><td>W32-21</td><td>      NA</td></tr>\n",
       "\t<tr><th scope=row>3</th><td>7m_G-3</td><td>2021-08-12 09:00:00</td><td>31319.6</td><td>5.29</td><td>796.5</td><td>13.31</td><td>8.35</td><td>179.936</td><td>6</td><td>54</td><td>⋯</td><td>NA</td><td>NA</td><td>NA</td><td>NA</td><td>7 [m]</td><td>FALSE</td><td>GF</td><td>Aug21</td><td>W32-21</td><td>8.068685</td></tr>\n",
       "</tbody>\n",
       "</table>\n"
      ],
      "text/latex": [
       "A data.frame: 3 × 26\n",
       "\\begin{tabular}{r|lllllllllllllllllllll}\n",
       "  & ix & date\\_time & ec & temp & light & oxygen & pH & water\\_level & chlorophyll.a & chlorophyll.red & ⋯ & pH.upd & light.upd & salinity.upd & sensor.depth & depth & kelp & site & m.yr.factor & w.yr.factor & water.depth\\\\\n",
       "  & <chr> & <dttm> & <dbl> & <dbl> & <dbl> & <dbl> & <dbl> & <dbl> & <dbl> & <dbl> & ⋯ & <dbl> & <dbl> & <dbl> & <dbl> & <ord> & <fct> & <fct> & <ord> & <ord> & <dbl>\\\\\n",
       "\\hline\n",
       "\t1 & 7m\\_G-1 & 2021-08-12 08:00:00 & 31194.1 & 4.71 & 688.9 & 13.50 & 8.35 & 216.510 & 6 & 11 & ⋯ & NA & NA & NA & NA & 7 {[}m{]} & FALSE & GF & Aug21 & W32-21 &       NA\\\\\n",
       "\t2 & 7m\\_G-2 & 2021-08-12 08:30:00 & 31219.2 & 4.32 & 667.4 & 13.54 & 8.34 & 216.356 & 8 & 21 & ⋯ & NA & NA & NA & NA & 7 {[}m{]} & FALSE & GF & Aug21 & W32-21 &       NA\\\\\n",
       "\t3 & 7m\\_G-3 & 2021-08-12 09:00:00 & 31319.6 & 5.29 & 796.5 & 13.31 & 8.35 & 179.936 & 6 & 54 & ⋯ & NA & NA & NA & NA & 7 {[}m{]} & FALSE & GF & Aug21 & W32-21 & 8.068685\\\\\n",
       "\\end{tabular}\n"
      ],
      "text/markdown": [
       "\n",
       "A data.frame: 3 × 26\n",
       "\n",
       "| <!--/--> | ix &lt;chr&gt; | date_time &lt;dttm&gt; | ec &lt;dbl&gt; | temp &lt;dbl&gt; | light &lt;dbl&gt; | oxygen &lt;dbl&gt; | pH &lt;dbl&gt; | water_level &lt;dbl&gt; | chlorophyll.a &lt;dbl&gt; | chlorophyll.red &lt;dbl&gt; | ⋯ ⋯ | pH.upd &lt;dbl&gt; | light.upd &lt;dbl&gt; | salinity.upd &lt;dbl&gt; | sensor.depth &lt;dbl&gt; | depth &lt;ord&gt; | kelp &lt;fct&gt; | site &lt;fct&gt; | m.yr.factor &lt;ord&gt; | w.yr.factor &lt;ord&gt; | water.depth &lt;dbl&gt; |\n",
       "|---|---|---|---|---|---|---|---|---|---|---|---|---|---|---|---|---|---|---|---|---|---|\n",
       "| 1 | 7m_G-1 | 2021-08-12 08:00:00 | 31194.1 | 4.71 | 688.9 | 13.50 | 8.35 | 216.510 | 6 | 11 | ⋯ | NA | NA | NA | NA | 7 [m] | FALSE | GF | Aug21 | W32-21 |       NA |\n",
       "| 2 | 7m_G-2 | 2021-08-12 08:30:00 | 31219.2 | 4.32 | 667.4 | 13.54 | 8.34 | 216.356 | 8 | 21 | ⋯ | NA | NA | NA | NA | 7 [m] | FALSE | GF | Aug21 | W32-21 |       NA |\n",
       "| 3 | 7m_G-3 | 2021-08-12 09:00:00 | 31319.6 | 5.29 | 796.5 | 13.31 | 8.35 | 179.936 | 6 | 54 | ⋯ | NA | NA | NA | NA | 7 [m] | FALSE | GF | Aug21 | W32-21 | 8.068685 |\n",
       "\n"
      ],
      "text/plain": [
       "  ix     date_time           ec      temp light oxygen pH   water_level\n",
       "1 7m_G-1 2021-08-12 08:00:00 31194.1 4.71 688.9 13.50  8.35 216.510    \n",
       "2 7m_G-2 2021-08-12 08:30:00 31219.2 4.32 667.4 13.54  8.34 216.356    \n",
       "3 7m_G-3 2021-08-12 09:00:00 31319.6 5.29 796.5 13.31  8.35 179.936    \n",
       "  chlorophyll.a chlorophyll.red ⋯ pH.upd light.upd salinity.upd sensor.depth\n",
       "1 6             11              ⋯ NA     NA        NA           NA          \n",
       "2 8             21              ⋯ NA     NA        NA           NA          \n",
       "3 6             54              ⋯ NA     NA        NA           NA          \n",
       "  depth kelp  site m.yr.factor w.yr.factor water.depth\n",
       "1 7 [m] FALSE GF   Aug21       W32-21            NA   \n",
       "2 7 [m] FALSE GF   Aug21       W32-21            NA   \n",
       "3 7 [m] FALSE GF   Aug21       W32-21      8.068685   "
      ]
     },
     "metadata": {},
     "output_type": "display_data"
    },
    {
     "data": {
      "text/html": [
       "<table class=\"dataframe\">\n",
       "<caption>A data.frame: 3 × 11</caption>\n",
       "<thead>\n",
       "\t<tr><th></th><th scope=col>date_time</th><th scope=col>speed</th><th scope=col>heading</th><th scope=col>velocityN</th><th scope=col>velocityE</th><th scope=col>depth</th><th scope=col>site</th><th scope=col>kelp</th><th scope=col>m.yr.factor</th><th scope=col>w.yr.factor</th><th scope=col>depth.raw</th></tr>\n",
       "\t<tr><th></th><th scope=col>&lt;dttm&gt;</th><th scope=col>&lt;dbl&gt;</th><th scope=col>&lt;dbl&gt;</th><th scope=col>&lt;dbl&gt;</th><th scope=col>&lt;dbl&gt;</th><th scope=col>&lt;ord&gt;</th><th scope=col>&lt;fct&gt;</th><th scope=col>&lt;fct&gt;</th><th scope=col>&lt;ord&gt;</th><th scope=col>&lt;ord&gt;</th><th scope=col>&lt;fct&gt;</th></tr>\n",
       "</thead>\n",
       "<tbody>\n",
       "\t<tr><th scope=row>1</th><td>2021-08-13 00:00:00</td><td>1.89</td><td>180.44</td><td>-1.89</td><td>-0.01</td><td>7 [m]</td><td>GF</td><td>FALSE</td><td>Aug21</td><td>W33-21</td><td>7</td></tr>\n",
       "\t<tr><th scope=row>2</th><td>2021-08-13 00:05:00</td><td>1.64</td><td>177.22</td><td>-1.63</td><td> 0.08</td><td>7 [m]</td><td>GF</td><td>FALSE</td><td>Aug21</td><td>W33-21</td><td>7</td></tr>\n",
       "\t<tr><th scope=row>3</th><td>2021-08-13 00:10:00</td><td>1.85</td><td>177.76</td><td>-1.85</td><td> 0.07</td><td>7 [m]</td><td>GF</td><td>FALSE</td><td>Aug21</td><td>W33-21</td><td>7</td></tr>\n",
       "</tbody>\n",
       "</table>\n"
      ],
      "text/latex": [
       "A data.frame: 3 × 11\n",
       "\\begin{tabular}{r|lllllllllll}\n",
       "  & date\\_time & speed & heading & velocityN & velocityE & depth & site & kelp & m.yr.factor & w.yr.factor & depth.raw\\\\\n",
       "  & <dttm> & <dbl> & <dbl> & <dbl> & <dbl> & <ord> & <fct> & <fct> & <ord> & <ord> & <fct>\\\\\n",
       "\\hline\n",
       "\t1 & 2021-08-13 00:00:00 & 1.89 & 180.44 & -1.89 & -0.01 & 7 {[}m{]} & GF & FALSE & Aug21 & W33-21 & 7\\\\\n",
       "\t2 & 2021-08-13 00:05:00 & 1.64 & 177.22 & -1.63 &  0.08 & 7 {[}m{]} & GF & FALSE & Aug21 & W33-21 & 7\\\\\n",
       "\t3 & 2021-08-13 00:10:00 & 1.85 & 177.76 & -1.85 &  0.07 & 7 {[}m{]} & GF & FALSE & Aug21 & W33-21 & 7\\\\\n",
       "\\end{tabular}\n"
      ],
      "text/markdown": [
       "\n",
       "A data.frame: 3 × 11\n",
       "\n",
       "| <!--/--> | date_time &lt;dttm&gt; | speed &lt;dbl&gt; | heading &lt;dbl&gt; | velocityN &lt;dbl&gt; | velocityE &lt;dbl&gt; | depth &lt;ord&gt; | site &lt;fct&gt; | kelp &lt;fct&gt; | m.yr.factor &lt;ord&gt; | w.yr.factor &lt;ord&gt; | depth.raw &lt;fct&gt; |\n",
       "|---|---|---|---|---|---|---|---|---|---|---|---|\n",
       "| 1 | 2021-08-13 00:00:00 | 1.89 | 180.44 | -1.89 | -0.01 | 7 [m] | GF | FALSE | Aug21 | W33-21 | 7 |\n",
       "| 2 | 2021-08-13 00:05:00 | 1.64 | 177.22 | -1.63 |  0.08 | 7 [m] | GF | FALSE | Aug21 | W33-21 | 7 |\n",
       "| 3 | 2021-08-13 00:10:00 | 1.85 | 177.76 | -1.85 |  0.07 | 7 [m] | GF | FALSE | Aug21 | W33-21 | 7 |\n",
       "\n"
      ],
      "text/plain": [
       "  date_time           speed heading velocityN velocityE depth site kelp \n",
       "1 2021-08-13 00:00:00 1.89  180.44  -1.89     -0.01     7 [m] GF   FALSE\n",
       "2 2021-08-13 00:05:00 1.64  177.22  -1.63      0.08     7 [m] GF   FALSE\n",
       "3 2021-08-13 00:10:00 1.85  177.76  -1.85      0.07     7 [m] GF   FALSE\n",
       "  m.yr.factor w.yr.factor depth.raw\n",
       "1 Aug21       W33-21      7        \n",
       "2 Aug21       W33-21      7        \n",
       "3 Aug21       W33-21      7        "
      ]
     },
     "metadata": {},
     "output_type": "display_data"
    }
   ],
   "source": [
    "data.path <- \"../../data\"\n",
    "\n",
    "file.name <- \"df_chem_merged.rds\"\n",
    "df.chem.merged <- readRDS(paste0(data.path,\"/\",file.name))\n",
    "head(df.chem.merged,3)\n",
    "\n",
    "file.name <- \"df_v_merged.rds\"\n",
    "df.v.merged <- readRDS(paste0(data.path,\"/\",file.name))\n",
    "head(df.v.merged,3)"
   ]
  },
  {
   "cell_type": "markdown",
   "id": "60001950-57bf-4db8-8842-102de332d80f",
   "metadata": {},
   "source": [
    "#### Merging the velocity and physio-chemistry dataframes"
   ]
  },
  {
   "cell_type": "code",
   "execution_count": 5,
   "id": "c7e4ac5b-74cc-440e-a45b-9560998e1a20",
   "metadata": {},
   "outputs": [
    {
     "name": "stderr",
     "output_type": "stream",
     "text": [
      "\u001b[1m\u001b[22m`summarise()` has grouped output by 'site', 'depth'. You can override using the\n",
      "`.groups` argument.\n"
     ]
    },
    {
     "data": {
      "text/html": [
       "<table class=\"dataframe\">\n",
       "<caption>A grouped_df: 3 × 6</caption>\n",
       "<thead>\n",
       "\t<tr><th scope=col>site</th><th scope=col>depth</th><th scope=col>date_time</th><th scope=col>speed</th><th scope=col>velocityN</th><th scope=col>velocityE</th></tr>\n",
       "\t<tr><th scope=col>&lt;fct&gt;</th><th scope=col>&lt;ord&gt;</th><th scope=col>&lt;dttm&gt;</th><th scope=col>&lt;dbl&gt;</th><th scope=col>&lt;dbl&gt;</th><th scope=col>&lt;dbl&gt;</th></tr>\n",
       "</thead>\n",
       "<tbody>\n",
       "\t<tr><td>GF</td><td>7 [m]</td><td>2021-08-13 00:00:00</td><td>1.980000</td><td>-1.900000</td><td>-0.3050000</td></tr>\n",
       "\t<tr><td>GF</td><td>7 [m]</td><td>2021-08-13 00:30:00</td><td>2.693333</td><td>-1.281667</td><td> 1.6366667</td></tr>\n",
       "\t<tr><td>GF</td><td>7 [m]</td><td>2021-08-13 01:00:00</td><td>1.900000</td><td>-1.053333</td><td> 0.1516667</td></tr>\n",
       "</tbody>\n",
       "</table>\n"
      ],
      "text/latex": [
       "A grouped\\_df: 3 × 6\n",
       "\\begin{tabular}{llllll}\n",
       " site & depth & date\\_time & speed & velocityN & velocityE\\\\\n",
       " <fct> & <ord> & <dttm> & <dbl> & <dbl> & <dbl>\\\\\n",
       "\\hline\n",
       "\t GF & 7 {[}m{]} & 2021-08-13 00:00:00 & 1.980000 & -1.900000 & -0.3050000\\\\\n",
       "\t GF & 7 {[}m{]} & 2021-08-13 00:30:00 & 2.693333 & -1.281667 &  1.6366667\\\\\n",
       "\t GF & 7 {[}m{]} & 2021-08-13 01:00:00 & 1.900000 & -1.053333 &  0.1516667\\\\\n",
       "\\end{tabular}\n"
      ],
      "text/markdown": [
       "\n",
       "A grouped_df: 3 × 6\n",
       "\n",
       "| site &lt;fct&gt; | depth &lt;ord&gt; | date_time &lt;dttm&gt; | speed &lt;dbl&gt; | velocityN &lt;dbl&gt; | velocityE &lt;dbl&gt; |\n",
       "|---|---|---|---|---|---|\n",
       "| GF | 7 [m] | 2021-08-13 00:00:00 | 1.980000 | -1.900000 | -0.3050000 |\n",
       "| GF | 7 [m] | 2021-08-13 00:30:00 | 2.693333 | -1.281667 |  1.6366667 |\n",
       "| GF | 7 [m] | 2021-08-13 01:00:00 | 1.900000 | -1.053333 |  0.1516667 |\n",
       "\n"
      ],
      "text/plain": [
       "  site depth date_time           speed    velocityN velocityE \n",
       "1 GF   7 [m] 2021-08-13 00:00:00 1.980000 -1.900000 -0.3050000\n",
       "2 GF   7 [m] 2021-08-13 00:30:00 2.693333 -1.281667  1.6366667\n",
       "3 GF   7 [m] 2021-08-13 01:00:00 1.900000 -1.053333  0.1516667"
      ]
     },
     "metadata": {},
     "output_type": "display_data"
    }
   ],
   "source": [
    "df.velocity.30min <-  df.v.merged %>%\n",
    "  mutate(date_time = floor_date(date_time, unit = \"30 min\")) %>%\n",
    "  group_by(site,depth,date_time) %>%\n",
    "  summarise(speed = mean(speed, na.rm = TRUE),\n",
    "            velocityN = mean(velocityN, na.rm = TRUE),\n",
    "            velocityE = mean(velocityE, na.rm = TRUE))\n",
    "\n",
    "head(df.velocity.30min,3)"
   ]
  },
  {
   "cell_type": "code",
   "execution_count": 6,
   "id": "465eaefd-c054-402c-8dbd-c3da6127bf91",
   "metadata": {},
   "outputs": [
    {
     "data": {
      "text/html": [
       "<table class=\"dataframe\">\n",
       "<caption>A data.frame: 6 × 28</caption>\n",
       "<thead>\n",
       "\t<tr><th></th><th scope=col>site</th><th scope=col>depth</th><th scope=col>date_time</th><th scope=col>ec</th><th scope=col>temp</th><th scope=col>light</th><th scope=col>oxygen</th><th scope=col>pH</th><th scope=col>water_level</th><th scope=col>chlorophyll.a</th><th scope=col>⋯</th><th scope=col>light.upd</th><th scope=col>salinity.upd</th><th scope=col>sensor.depth</th><th scope=col>kelp</th><th scope=col>m.yr.factor</th><th scope=col>w.yr.factor</th><th scope=col>water.depth</th><th scope=col>speed</th><th scope=col>velocityN</th><th scope=col>velocityE</th></tr>\n",
       "\t<tr><th></th><th scope=col>&lt;fct&gt;</th><th scope=col>&lt;ord&gt;</th><th scope=col>&lt;dttm&gt;</th><th scope=col>&lt;dbl&gt;</th><th scope=col>&lt;dbl&gt;</th><th scope=col>&lt;dbl&gt;</th><th scope=col>&lt;dbl&gt;</th><th scope=col>&lt;dbl&gt;</th><th scope=col>&lt;dbl&gt;</th><th scope=col>&lt;dbl&gt;</th><th scope=col>⋯</th><th scope=col>&lt;dbl&gt;</th><th scope=col>&lt;dbl&gt;</th><th scope=col>&lt;dbl&gt;</th><th scope=col>&lt;fct&gt;</th><th scope=col>&lt;ord&gt;</th><th scope=col>&lt;ord&gt;</th><th scope=col>&lt;dbl&gt;</th><th scope=col>&lt;dbl&gt;</th><th scope=col>&lt;dbl&gt;</th><th scope=col>&lt;dbl&gt;</th></tr>\n",
       "</thead>\n",
       "<tbody>\n",
       "\t<tr><th scope=row>1</th><td>GF</td><td>10 [m]</td><td>2021-08-13 00:00:00</td><td>30120.4</td><td>5.25</td><td> 64.6</td><td>13.17</td><td>8.37</td><td>NA</td><td>NA</td><td>⋯</td><td> 64.6</td><td>32.9891</td><td>NA</td><td>FALSE</td><td>Aug21</td><td>W32-21</td><td>NA</td><td>2.918333</td><td>-1.3650000</td><td>2.348333</td></tr>\n",
       "\t<tr><th scope=row>2</th><td>GF</td><td>10 [m]</td><td>2021-08-13 00:30:00</td><td>30095.0</td><td>5.14</td><td> 64.6</td><td>13.14</td><td>8.36</td><td>NA</td><td>NA</td><td>⋯</td><td> 64.6</td><td>33.0673</td><td>NA</td><td>FALSE</td><td>Aug21</td><td>W33-21</td><td>NA</td><td>2.253333</td><td> 0.4533333</td><td>2.181667</td></tr>\n",
       "\t<tr><th scope=row>3</th><td>GF</td><td>10 [m]</td><td>2021-08-13 01:00:00</td><td>30007.3</td><td>4.85</td><td> 53.8</td><td>13.27</td><td>8.37</td><td>NA</td><td>NA</td><td>⋯</td><td> 53.8</td><td>33.2496</td><td>NA</td><td>FALSE</td><td>Aug21</td><td>W33-21</td><td>NA</td><td>1.998333</td><td> 0.9583333</td><td>1.751667</td></tr>\n",
       "\t<tr><th scope=row>4</th><td>GF</td><td>10 [m]</td><td>2021-08-13 01:30:00</td><td>30032.6</td><td>4.85</td><td> 64.6</td><td>13.30</td><td>8.36</td><td>NA</td><td>NA</td><td>⋯</td><td> 64.6</td><td>33.2807</td><td>NA</td><td>FALSE</td><td>Aug21</td><td>W33-21</td><td>NA</td><td>1.965000</td><td> 1.2016667</td><td>1.550000</td></tr>\n",
       "\t<tr><th scope=row>5</th><td>GF</td><td>10 [m]</td><td>2021-08-13 02:00:00</td><td>29995.6</td><td>4.84</td><td>118.4</td><td>13.36</td><td>8.37</td><td>NA</td><td>NA</td><td>⋯</td><td>118.4</td><td>33.2453</td><td>NA</td><td>FALSE</td><td>Aug21</td><td>W33-21</td><td>NA</td><td>2.088333</td><td> 1.4533333</td><td>1.441667</td></tr>\n",
       "\t<tr><th scope=row>6</th><td>GF</td><td>10 [m]</td><td>2021-08-13 02:30:00</td><td>30011.2</td><td>4.80</td><td>226.0</td><td>13.39</td><td>8.37</td><td>NA</td><td>NA</td><td>⋯</td><td>226.0</td><td>33.3047</td><td>NA</td><td>FALSE</td><td>Aug21</td><td>W33-21</td><td>NA</td><td>2.038333</td><td> 1.8116667</td><td>0.740000</td></tr>\n",
       "</tbody>\n",
       "</table>\n"
      ],
      "text/latex": [
       "A data.frame: 6 × 28\n",
       "\\begin{tabular}{r|lllllllllllllllllllll}\n",
       "  & site & depth & date\\_time & ec & temp & light & oxygen & pH & water\\_level & chlorophyll.a & ⋯ & light.upd & salinity.upd & sensor.depth & kelp & m.yr.factor & w.yr.factor & water.depth & speed & velocityN & velocityE\\\\\n",
       "  & <fct> & <ord> & <dttm> & <dbl> & <dbl> & <dbl> & <dbl> & <dbl> & <dbl> & <dbl> & ⋯ & <dbl> & <dbl> & <dbl> & <fct> & <ord> & <ord> & <dbl> & <dbl> & <dbl> & <dbl>\\\\\n",
       "\\hline\n",
       "\t1 & GF & 10 {[}m{]} & 2021-08-13 00:00:00 & 30120.4 & 5.25 &  64.6 & 13.17 & 8.37 & NA & NA & ⋯ &  64.6 & 32.9891 & NA & FALSE & Aug21 & W32-21 & NA & 2.918333 & -1.3650000 & 2.348333\\\\\n",
       "\t2 & GF & 10 {[}m{]} & 2021-08-13 00:30:00 & 30095.0 & 5.14 &  64.6 & 13.14 & 8.36 & NA & NA & ⋯ &  64.6 & 33.0673 & NA & FALSE & Aug21 & W33-21 & NA & 2.253333 &  0.4533333 & 2.181667\\\\\n",
       "\t3 & GF & 10 {[}m{]} & 2021-08-13 01:00:00 & 30007.3 & 4.85 &  53.8 & 13.27 & 8.37 & NA & NA & ⋯ &  53.8 & 33.2496 & NA & FALSE & Aug21 & W33-21 & NA & 1.998333 &  0.9583333 & 1.751667\\\\\n",
       "\t4 & GF & 10 {[}m{]} & 2021-08-13 01:30:00 & 30032.6 & 4.85 &  64.6 & 13.30 & 8.36 & NA & NA & ⋯ &  64.6 & 33.2807 & NA & FALSE & Aug21 & W33-21 & NA & 1.965000 &  1.2016667 & 1.550000\\\\\n",
       "\t5 & GF & 10 {[}m{]} & 2021-08-13 02:00:00 & 29995.6 & 4.84 & 118.4 & 13.36 & 8.37 & NA & NA & ⋯ & 118.4 & 33.2453 & NA & FALSE & Aug21 & W33-21 & NA & 2.088333 &  1.4533333 & 1.441667\\\\\n",
       "\t6 & GF & 10 {[}m{]} & 2021-08-13 02:30:00 & 30011.2 & 4.80 & 226.0 & 13.39 & 8.37 & NA & NA & ⋯ & 226.0 & 33.3047 & NA & FALSE & Aug21 & W33-21 & NA & 2.038333 &  1.8116667 & 0.740000\\\\\n",
       "\\end{tabular}\n"
      ],
      "text/markdown": [
       "\n",
       "A data.frame: 6 × 28\n",
       "\n",
       "| <!--/--> | site &lt;fct&gt; | depth &lt;ord&gt; | date_time &lt;dttm&gt; | ec &lt;dbl&gt; | temp &lt;dbl&gt; | light &lt;dbl&gt; | oxygen &lt;dbl&gt; | pH &lt;dbl&gt; | water_level &lt;dbl&gt; | chlorophyll.a &lt;dbl&gt; | ⋯ ⋯ | light.upd &lt;dbl&gt; | salinity.upd &lt;dbl&gt; | sensor.depth &lt;dbl&gt; | kelp &lt;fct&gt; | m.yr.factor &lt;ord&gt; | w.yr.factor &lt;ord&gt; | water.depth &lt;dbl&gt; | speed &lt;dbl&gt; | velocityN &lt;dbl&gt; | velocityE &lt;dbl&gt; |\n",
       "|---|---|---|---|---|---|---|---|---|---|---|---|---|---|---|---|---|---|---|---|---|---|\n",
       "| 1 | GF | 10 [m] | 2021-08-13 00:00:00 | 30120.4 | 5.25 |  64.6 | 13.17 | 8.37 | NA | NA | ⋯ |  64.6 | 32.9891 | NA | FALSE | Aug21 | W32-21 | NA | 2.918333 | -1.3650000 | 2.348333 |\n",
       "| 2 | GF | 10 [m] | 2021-08-13 00:30:00 | 30095.0 | 5.14 |  64.6 | 13.14 | 8.36 | NA | NA | ⋯ |  64.6 | 33.0673 | NA | FALSE | Aug21 | W33-21 | NA | 2.253333 |  0.4533333 | 2.181667 |\n",
       "| 3 | GF | 10 [m] | 2021-08-13 01:00:00 | 30007.3 | 4.85 |  53.8 | 13.27 | 8.37 | NA | NA | ⋯ |  53.8 | 33.2496 | NA | FALSE | Aug21 | W33-21 | NA | 1.998333 |  0.9583333 | 1.751667 |\n",
       "| 4 | GF | 10 [m] | 2021-08-13 01:30:00 | 30032.6 | 4.85 |  64.6 | 13.30 | 8.36 | NA | NA | ⋯ |  64.6 | 33.2807 | NA | FALSE | Aug21 | W33-21 | NA | 1.965000 |  1.2016667 | 1.550000 |\n",
       "| 5 | GF | 10 [m] | 2021-08-13 02:00:00 | 29995.6 | 4.84 | 118.4 | 13.36 | 8.37 | NA | NA | ⋯ | 118.4 | 33.2453 | NA | FALSE | Aug21 | W33-21 | NA | 2.088333 |  1.4533333 | 1.441667 |\n",
       "| 6 | GF | 10 [m] | 2021-08-13 02:30:00 | 30011.2 | 4.80 | 226.0 | 13.39 | 8.37 | NA | NA | ⋯ | 226.0 | 33.3047 | NA | FALSE | Aug21 | W33-21 | NA | 2.038333 |  1.8116667 | 0.740000 |\n",
       "\n"
      ],
      "text/plain": [
       "  site depth  date_time           ec      temp light oxygen pH   water_level\n",
       "1 GF   10 [m] 2021-08-13 00:00:00 30120.4 5.25  64.6 13.17  8.37 NA         \n",
       "2 GF   10 [m] 2021-08-13 00:30:00 30095.0 5.14  64.6 13.14  8.36 NA         \n",
       "3 GF   10 [m] 2021-08-13 01:00:00 30007.3 4.85  53.8 13.27  8.37 NA         \n",
       "4 GF   10 [m] 2021-08-13 01:30:00 30032.6 4.85  64.6 13.30  8.36 NA         \n",
       "5 GF   10 [m] 2021-08-13 02:00:00 29995.6 4.84 118.4 13.36  8.37 NA         \n",
       "6 GF   10 [m] 2021-08-13 02:30:00 30011.2 4.80 226.0 13.39  8.37 NA         \n",
       "  chlorophyll.a ⋯ light.upd salinity.upd sensor.depth kelp  m.yr.factor\n",
       "1 NA            ⋯  64.6     32.9891      NA           FALSE Aug21      \n",
       "2 NA            ⋯  64.6     33.0673      NA           FALSE Aug21      \n",
       "3 NA            ⋯  53.8     33.2496      NA           FALSE Aug21      \n",
       "4 NA            ⋯  64.6     33.2807      NA           FALSE Aug21      \n",
       "5 NA            ⋯ 118.4     33.2453      NA           FALSE Aug21      \n",
       "6 NA            ⋯ 226.0     33.3047      NA           FALSE Aug21      \n",
       "  w.yr.factor water.depth speed    velocityN  velocityE\n",
       "1 W32-21      NA          2.918333 -1.3650000 2.348333 \n",
       "2 W33-21      NA          2.253333  0.4533333 2.181667 \n",
       "3 W33-21      NA          1.998333  0.9583333 1.751667 \n",
       "4 W33-21      NA          1.965000  1.2016667 1.550000 \n",
       "5 W33-21      NA          2.088333  1.4533333 1.441667 \n",
       "6 W33-21      NA          2.038333  1.8116667 0.740000 "
      ]
     },
     "metadata": {},
     "output_type": "display_data"
    }
   ],
   "source": [
    "df.all2 <- merge(x=df.chem.merged, y= df.velocity.30min, by=c(\"site\",\"depth\",\"date_time\"))\n",
    "df.all2$ix <- NULL\n",
    "head(df.all2)"
   ]
  },
  {
   "cell_type": "markdown",
   "id": "f5c8f2d7-bd95-4217-a7a8-07b6efdc3987",
   "metadata": {},
   "source": [
    "## 3. Performing t-test and Levene tests for sites with kelp and without kelp\n",
    "\n",
    "Obviously the amount of the data is so large, that all differences will turn out statistically significant."
   ]
  },
  {
   "cell_type": "code",
   "execution_count": 7,
   "id": "231b085f-5420-4877-9609-5a95cd907da3",
   "metadata": {},
   "outputs": [
    {
     "data": {
      "text/plain": [
       "\n",
       "\tWelch Two Sample t-test\n",
       "\n",
       "data:  x and y\n",
       "t = -97.041, df = 133111, p-value < 2.2e-16\n",
       "alternative hypothesis: true difference in means is not equal to 0\n",
       "95 percent confidence interval:\n",
       " -2180.229 -2093.902\n",
       "sample estimates:\n",
       "mean of x mean of y \n",
       " 22184.32  24321.39 \n"
      ]
     },
     "metadata": {},
     "output_type": "display_data"
    },
    {
     "data": {
      "text/plain": [
       "\n",
       "\tModified robust Brown-Forsythe Levene-type test based on the absolute\n",
       "\tdeviations from the median\n",
       "\n",
       "data:  x\n",
       "Test Statistic = 9902.7, p-value < 2.2e-16\n"
      ]
     },
     "metadata": {},
     "output_type": "display_data"
    }
   ],
   "source": [
    "feat <- \"ec\"\n",
    "x <- df.chem.merged %>% dplyr::filter(kelp==TRUE) %>% dplyr::select(all_of(feat)) %>% dplyr::pull() %>% na.omit()\n",
    "y <- df.chem.merged %>% dplyr::filter(kelp==FALSE) %>% dplyr::select(all_of(feat)) %>% dplyr::pull() %>% na.omit()\n",
    "t.test(x,y)\n",
    "\n",
    "tmp.df <- df.chem.merged %>% dplyr::select(all_of(c(feat,\"kelp\"))) %>% na.omit()\n",
    "x <- tmp.df %>% dplyr::select(all_of(feat)) %>% dplyr::pull()\n",
    "g <- tmp.df %>% dplyr::select(all_of(\"kelp\")) %>% dplyr::pull() %>% as.numeric() %>% factor()\n",
    "levene.test(x,g)"
   ]
  },
  {
   "cell_type": "code",
   "execution_count": 8,
   "id": "0673d359-cb71-4fb6-ab13-54bffe017c06",
   "metadata": {},
   "outputs": [
    {
     "data": {
      "text/plain": [
       "\n",
       "\tWelch Two Sample t-test\n",
       "\n",
       "data:  x and y\n",
       "t = 24.187, df = 142117, p-value < 2.2e-16\n",
       "alternative hypothesis: true difference in means is not equal to 0\n",
       "95 percent confidence interval:\n",
       " 0.1944622 0.2287577\n",
       "sample estimates:\n",
       "mean of x mean of y \n",
       " 2.369895  2.158285 \n"
      ]
     },
     "metadata": {},
     "output_type": "display_data"
    },
    {
     "data": {
      "text/plain": [
       "\n",
       "\tModified robust Brown-Forsythe Levene-type test based on the absolute\n",
       "\tdeviations from the median\n",
       "\n",
       "data:  x\n",
       "Test Statistic = 942.3, p-value < 2.2e-16\n"
      ]
     },
     "metadata": {},
     "output_type": "display_data"
    }
   ],
   "source": [
    "feat <- \"temp\"\n",
    "x <- df.chem.merged %>% dplyr::filter(kelp==TRUE) %>% dplyr::select(all_of(feat)) %>% dplyr::pull() %>% na.omit()\n",
    "y <- df.chem.merged %>% dplyr::filter(kelp==FALSE) %>% dplyr::select(all_of(feat)) %>% dplyr::pull() %>% na.omit()\n",
    "t.test(x,y)\n",
    "\n",
    "tmp.df <- df.chem.merged %>% dplyr::select(all_of(c(feat,\"kelp\"))) %>% na.omit()\n",
    "x <- tmp.df %>% dplyr::select(all_of(feat)) %>% dplyr::pull()\n",
    "g <- tmp.df %>% dplyr::select(all_of(\"kelp\")) %>% dplyr::pull() %>% as.numeric() %>% factor()\n",
    "levene.test(x,g)"
   ]
  },
  {
   "cell_type": "code",
   "execution_count": 16,
   "id": "07e3543e-a1a0-455e-9637-c3d442f96c85",
   "metadata": {},
   "outputs": [
    {
     "data": {
      "text/plain": [
       "\n",
       "\tWelch Two Sample t-test\n",
       "\n",
       "data:  x and y\n",
       "t = 35.494, df = 100850, p-value < 2.2e-16\n",
       "alternative hypothesis: true difference in means is not equal to 0\n",
       "95 percent confidence interval:\n",
       " 26.32647 29.40393\n",
       "sample estimates:\n",
       "mean of x mean of y \n",
       " 79.57482  51.70962 \n"
      ]
     },
     "metadata": {},
     "output_type": "display_data"
    },
    {
     "data": {
      "text/plain": [
       "\n",
       "\tModified robust Brown-Forsythe Levene-type test based on the absolute\n",
       "\tdeviations from the median\n",
       "\n",
       "data:  x\n",
       "Test Statistic = 2304.1, p-value < 2.2e-16\n"
      ]
     },
     "metadata": {},
     "output_type": "display_data"
    }
   ],
   "source": [
    "feat <- \"light\"\n",
    "x <- df.chem.merged %>% dplyr::filter(kelp==TRUE) %>% dplyr::select(all_of(feat)) %>% dplyr::pull() %>% na.omit()\n",
    "y <- df.chem.merged %>% dplyr::filter(kelp==FALSE) %>% dplyr::select(all_of(feat)) %>% dplyr::pull() %>% na.omit()\n",
    "t.test(x,y)\n",
    "\n",
    "tmp.df <- df.chem.merged %>% dplyr::select(all_of(c(feat,\"kelp\"))) %>% na.omit()\n",
    "x <- tmp.df %>% dplyr::select(all_of(feat)) %>% dplyr::pull()\n",
    "g <- tmp.df %>% dplyr::select(all_of(\"kelp\")) %>% dplyr::pull() %>% as.numeric() %>% factor()\n",
    "levene.test(x,g)"
   ]
  },
  {
   "cell_type": "code",
   "execution_count": 9,
   "id": "3a63eb93-09c0-4e18-8687-9e0f8eba2086",
   "metadata": {},
   "outputs": [
    {
     "data": {
      "text/plain": [
       "\n",
       "\tWelch Two Sample t-test\n",
       "\n",
       "data:  x and y\n",
       "t = -106.79, df = 113248, p-value < 2.2e-16\n",
       "alternative hypothesis: true difference in means is not equal to 0\n",
       "95 percent confidence interval:\n",
       " -0.06319235 -0.06091451\n",
       "sample estimates:\n",
       "mean of x mean of y \n",
       " 8.212462  8.274516 \n"
      ]
     },
     "metadata": {},
     "output_type": "display_data"
    },
    {
     "data": {
      "text/plain": [
       "\n",
       "\tModified robust Brown-Forsythe Levene-type test based on the absolute\n",
       "\tdeviations from the median\n",
       "\n",
       "data:  x\n",
       "Test Statistic = 109.26, p-value < 2.2e-16\n"
      ]
     },
     "metadata": {},
     "output_type": "display_data"
    }
   ],
   "source": [
    "feat <- \"pH\"\n",
    "x <- df.chem.merged %>% dplyr::filter(kelp==TRUE) %>% dplyr::select(all_of(feat)) %>% dplyr::pull() %>% na.omit()\n",
    "y <- df.chem.merged %>% dplyr::filter(kelp==FALSE) %>% dplyr::select(all_of(feat)) %>% dplyr::pull() %>% na.omit()\n",
    "t.test(x,y)\n",
    "\n",
    "tmp.df <- df.chem.merged %>% dplyr::select(all_of(c(feat,\"kelp\"))) %>% na.omit()\n",
    "x <- tmp.df %>% dplyr::select(all_of(feat)) %>% dplyr::pull()\n",
    "g <- tmp.df %>% dplyr::select(all_of(\"kelp\")) %>% dplyr::pull() %>% as.numeric() %>% factor()\n",
    "levene.test(x,g)"
   ]
  },
  {
   "cell_type": "code",
   "execution_count": 18,
   "id": "260b8f6f-fe4c-4909-8897-ab2f03307fb2",
   "metadata": {},
   "outputs": [
    {
     "data": {
      "text/plain": [
       "\n",
       "\tWelch Two Sample t-test\n",
       "\n",
       "data:  x and y\n",
       "t = 16.313, df = 69579, p-value < 2.2e-16\n",
       "alternative hypothesis: true difference in means is not equal to 0\n",
       "95 percent confidence interval:\n",
       " 0.06349744 0.08083921\n",
       "sample estimates:\n",
       "mean of x mean of y \n",
       " 14.10769  14.03552 \n"
      ]
     },
     "metadata": {},
     "output_type": "display_data"
    },
    {
     "data": {
      "text/plain": [
       "\n",
       "\tModified robust Brown-Forsythe Levene-type test based on the absolute\n",
       "\tdeviations from the median\n",
       "\n",
       "data:  x\n",
       "Test Statistic = 150.24, p-value < 2.2e-16\n"
      ]
     },
     "metadata": {},
     "output_type": "display_data"
    }
   ],
   "source": [
    "feat <- \"oxygen\"\n",
    "x <- df.chem.merged %>% dplyr::filter(kelp==TRUE) %>% dplyr::select(all_of(feat)) %>% dplyr::pull() %>% na.omit()\n",
    "y <- df.chem.merged %>% dplyr::filter(kelp==FALSE) %>% dplyr::select(all_of(feat)) %>% dplyr::pull() %>% na.omit()\n",
    "t.test(x,y)\n",
    "\n",
    "tmp.df <- df.chem.merged %>% dplyr::select(all_of(c(feat,\"kelp\"))) %>% na.omit()\n",
    "x <- tmp.df %>% dplyr::select(all_of(feat)) %>% dplyr::pull()\n",
    "g <- tmp.df %>% dplyr::select(all_of(\"kelp\")) %>% dplyr::pull() %>% as.numeric() %>% factor()\n",
    "levene.test(x,g)"
   ]
  },
  {
   "cell_type": "code",
   "execution_count": 10,
   "id": "d4ecadcc-523a-41dd-b4c0-f2e5e10d6ea7",
   "metadata": {},
   "outputs": [
    {
     "data": {
      "text/plain": [
       "\n",
       "\tWelch Two Sample t-test\n",
       "\n",
       "data:  x and y\n",
       "t = -104.87, df = 1553538, p-value < 2.2e-16\n",
       "alternative hypothesis: true difference in means is not equal to 0\n",
       "95 percent confidence interval:\n",
       " -0.5860659 -0.5645615\n",
       "sample estimates:\n",
       " mean of x  mean of y \n",
       "-0.0588616  0.5164521 \n"
      ]
     },
     "metadata": {},
     "output_type": "display_data"
    },
    {
     "data": {
      "text/plain": [
       "\n",
       "\tModified robust Brown-Forsythe Levene-type test based on the absolute\n",
       "\tdeviations from the median\n",
       "\n",
       "data:  x\n",
       "Test Statistic = 47202, p-value < 2.2e-16\n"
      ]
     },
     "metadata": {},
     "output_type": "display_data"
    }
   ],
   "source": [
    "feat <- \"velocityN\"\n",
    "x <- df.v.merged %>% dplyr::filter(kelp==TRUE) %>% dplyr::select(all_of(feat)) %>% dplyr::pull() %>% na.omit()\n",
    "y <- df.v.merged %>% dplyr::filter(kelp==FALSE) %>% dplyr::select(all_of(feat)) %>% dplyr::pull() %>% na.omit()\n",
    "t.test(x,y)\n",
    "\n",
    "tmp.df <- df.v.merged %>% dplyr::select(all_of(c(feat,\"kelp\"))) %>% na.omit()\n",
    "x <- tmp.df %>% dplyr::select(all_of(feat)) %>% dplyr::pull()\n",
    "g <- tmp.df %>% dplyr::select(all_of(\"kelp\")) %>% dplyr::pull() %>% as.numeric() %>% factor()\n",
    "levene.test(x,g)"
   ]
  },
  {
   "cell_type": "code",
   "execution_count": 11,
   "id": "fa166bff-cfb7-4d79-a202-348ef90676eb",
   "metadata": {},
   "outputs": [
    {
     "data": {
      "text/plain": [
       "\n",
       "\tWelch Two Sample t-test\n",
       "\n",
       "data:  x and y\n",
       "t = -128.56, df = 2943399, p-value < 2.2e-16\n",
       "alternative hypothesis: true difference in means is not equal to 0\n",
       "95 percent confidence interval:\n",
       " -0.8705686 -0.8444217\n",
       "sample estimates:\n",
       " mean of x  mean of y \n",
       "0.08955908 0.94705425 \n"
      ]
     },
     "metadata": {},
     "output_type": "display_data"
    },
    {
     "data": {
      "text/plain": [
       "\n",
       "\tModified robust Brown-Forsythe Levene-type test based on the absolute\n",
       "\tdeviations from the median\n",
       "\n",
       "data:  x\n",
       "Test Statistic = 71415, p-value < 2.2e-16\n"
      ]
     },
     "metadata": {},
     "output_type": "display_data"
    }
   ],
   "source": [
    "feat <- \"velocityE\"\n",
    "x <- df.v.merged %>% dplyr::filter(kelp==TRUE) %>% dplyr::select(all_of(feat)) %>% dplyr::pull() %>% na.omit()\n",
    "y <- df.v.merged %>% dplyr::filter(kelp==FALSE) %>% dplyr::select(all_of(feat)) %>% dplyr::pull() %>% na.omit()\n",
    "t.test(x,y)\n",
    "\n",
    "tmp.df <- df.v.merged %>% dplyr::select(all_of(c(feat,\"kelp\"))) %>% na.omit()\n",
    "x <- tmp.df %>% dplyr::select(all_of(feat)) %>% dplyr::pull()\n",
    "g <- tmp.df %>% dplyr::select(all_of(\"kelp\")) %>% dplyr::pull() %>% as.numeric() %>% factor()\n",
    "levene.test(x,g)"
   ]
  },
  {
   "cell_type": "markdown",
   "id": "0b336b7c-a56a-49d6-a0e4-388622fa9437",
   "metadata": {},
   "source": [
    "## 4. Performing the Kruskal-Wallis rank sum test for groups with and without kelp forest presence"
   ]
  },
  {
   "cell_type": "code",
   "execution_count": 12,
   "id": "25911ab1-fc3e-4c5f-88aa-bdfd99943c7a",
   "metadata": {},
   "outputs": [
    {
     "data": {
      "text/plain": [
       "\n",
       "\tKruskal-Wallis rank sum test\n",
       "\n",
       "data:  oxygen by kelp\n",
       "Kruskal-Wallis chi-squared = 87.002, df = 1, p-value < 2.2e-16\n"
      ]
     },
     "metadata": {},
     "output_type": "display_data"
    }
   ],
   "source": [
    "# oxygen\n",
    "kruskal.test(oxygen ~ kelp, data = df.chem.merged)"
   ]
  },
  {
   "cell_type": "code",
   "execution_count": 13,
   "id": "add99971-e83a-46b4-ad34-86aff2014113",
   "metadata": {},
   "outputs": [
    {
     "data": {
      "text/plain": [
       "\n",
       "\tKruskal-Wallis rank sum test\n",
       "\n",
       "data:  pH by kelp\n",
       "Kruskal-Wallis chi-squared = 10134, df = 1, p-value < 2.2e-16\n"
      ]
     },
     "metadata": {},
     "output_type": "display_data"
    }
   ],
   "source": [
    "# pH\n",
    "kruskal.test(pH ~ kelp, data = df.chem.merged)"
   ]
  },
  {
   "cell_type": "code",
   "execution_count": 14,
   "id": "576e28b8-d556-4762-95c0-57e5066bfe4f",
   "metadata": {},
   "outputs": [
    {
     "data": {
      "text/plain": [
       "\n",
       "\tKruskal-Wallis rank sum test\n",
       "\n",
       "data:  ec by kelp\n",
       "Kruskal-Wallis chi-squared = 9428.3, df = 1, p-value < 2.2e-16\n"
      ]
     },
     "metadata": {},
     "output_type": "display_data"
    }
   ],
   "source": [
    "# ec\n",
    "kruskal.test(ec ~ kelp,  data = df.chem.merged)"
   ]
  },
  {
   "cell_type": "code",
   "execution_count": 15,
   "id": "db4fb4ba-c0c2-4f1c-8baa-c488f03e7c96",
   "metadata": {},
   "outputs": [
    {
     "data": {
      "text/plain": [
       "\n",
       "\tKruskal-Wallis rank sum test\n",
       "\n",
       "data:  temp by kelp\n",
       "Kruskal-Wallis chi-squared = 251.62, df = 1, p-value < 2.2e-16\n"
      ]
     },
     "metadata": {},
     "output_type": "display_data"
    }
   ],
   "source": [
    "# temperature\n",
    "kruskal.test(temp ~ kelp,  data = df.chem.merged)"
   ]
  },
  {
   "cell_type": "code",
   "execution_count": 16,
   "id": "7d50fa10-8ee6-4142-abb9-b91285095245",
   "metadata": {},
   "outputs": [
    {
     "data": {
      "text/plain": [
       "\n",
       "\tKruskal-Wallis rank sum test\n",
       "\n",
       "data:  light by kelp\n",
       "Kruskal-Wallis chi-squared = 363.88, df = 1, p-value < 2.2e-16\n"
      ]
     },
     "metadata": {},
     "output_type": "display_data"
    }
   ],
   "source": [
    "# light\n",
    "kruskal.test(light ~ kelp,  data = df.chem.merged)"
   ]
  },
  {
   "cell_type": "code",
   "execution_count": 17,
   "id": "ca89d926-ba48-47b0-b740-0e3b267c93c7",
   "metadata": {},
   "outputs": [
    {
     "data": {
      "text/plain": [
       "\n",
       "\tKruskal-Wallis rank sum test\n",
       "\n",
       "data:  velocityN by kelp\n",
       "Kruskal-Wallis chi-squared = 15396, df = 1, p-value < 2.2e-16\n"
      ]
     },
     "metadata": {},
     "output_type": "display_data"
    }
   ],
   "source": [
    "# velocityN\n",
    "kruskal.test(velocityN ~ kelp,  data = df.v.merged)"
   ]
  },
  {
   "cell_type": "code",
   "execution_count": 18,
   "id": "6431a2e4-81b8-4151-b3c6-cbf2cfc9b099",
   "metadata": {},
   "outputs": [
    {
     "data": {
      "text/plain": [
       "\n",
       "\tKruskal-Wallis rank sum test\n",
       "\n",
       "data:  velocityN by kelp\n",
       "Kruskal-Wallis chi-squared = 15396, df = 1, p-value < 2.2e-16\n"
      ]
     },
     "metadata": {},
     "output_type": "display_data"
    }
   ],
   "source": [
    "# velocityE\n",
    "kruskal.test(velocityN ~ kelp,  data = df.v.merged)"
   ]
  },
  {
   "cell_type": "markdown",
   "id": "5331f55b-9e2b-4585-aa39-53c3bb4cf35e",
   "metadata": {},
   "source": [
    "## 4. PERMANOVA\n",
    "### 4.1. Approach 1 - using `vegan` package"
   ]
  },
  {
   "cell_type": "code",
   "execution_count": 19,
   "id": "042ef968-c800-417e-8e8d-01b0083a822f",
   "metadata": {},
   "outputs": [
    {
     "name": "stderr",
     "output_type": "stream",
     "text": [
      "\u001b[1m\u001b[22m`summarise()` has grouped output by 'site', 'depth'. You can override using the\n",
      "`.groups` argument.\n"
     ]
    },
    {
     "data": {
      "text/html": [
       "<table class=\"dataframe\">\n",
       "<caption>A data.frame: 6 × 28</caption>\n",
       "<thead>\n",
       "\t<tr><th></th><th scope=col>site</th><th scope=col>depth</th><th scope=col>date_time</th><th scope=col>ec</th><th scope=col>temp</th><th scope=col>light</th><th scope=col>oxygen</th><th scope=col>pH</th><th scope=col>water_level</th><th scope=col>chlorophyll.a</th><th scope=col>⋯</th><th scope=col>light.upd</th><th scope=col>salinity.upd</th><th scope=col>sensor.depth</th><th scope=col>kelp</th><th scope=col>m.yr.factor</th><th scope=col>w.yr.factor</th><th scope=col>water.depth</th><th scope=col>speed</th><th scope=col>velocityN</th><th scope=col>velocityE</th></tr>\n",
       "\t<tr><th></th><th scope=col>&lt;fct&gt;</th><th scope=col>&lt;ord&gt;</th><th scope=col>&lt;dttm&gt;</th><th scope=col>&lt;dbl&gt;</th><th scope=col>&lt;dbl&gt;</th><th scope=col>&lt;dbl&gt;</th><th scope=col>&lt;dbl&gt;</th><th scope=col>&lt;dbl&gt;</th><th scope=col>&lt;dbl&gt;</th><th scope=col>&lt;dbl&gt;</th><th scope=col>⋯</th><th scope=col>&lt;dbl&gt;</th><th scope=col>&lt;dbl&gt;</th><th scope=col>&lt;dbl&gt;</th><th scope=col>&lt;fct&gt;</th><th scope=col>&lt;ord&gt;</th><th scope=col>&lt;ord&gt;</th><th scope=col>&lt;dbl&gt;</th><th scope=col>&lt;dbl&gt;</th><th scope=col>&lt;dbl&gt;</th><th scope=col>&lt;dbl&gt;</th></tr>\n",
       "</thead>\n",
       "<tbody>\n",
       "\t<tr><th scope=row>1</th><td>GF</td><td>10 [m]</td><td>2021-08-13 00:00:00</td><td>30120.4</td><td>5.25</td><td> 64.6</td><td>13.17</td><td>8.37</td><td>NA</td><td>NA</td><td>⋯</td><td> 64.6</td><td>32.9891</td><td>NA</td><td>FALSE</td><td>Aug21</td><td>W32-21</td><td>NA</td><td>2.918333</td><td>-1.3650000</td><td>2.348333</td></tr>\n",
       "\t<tr><th scope=row>2</th><td>GF</td><td>10 [m]</td><td>2021-08-13 00:30:00</td><td>30095.0</td><td>5.14</td><td> 64.6</td><td>13.14</td><td>8.36</td><td>NA</td><td>NA</td><td>⋯</td><td> 64.6</td><td>33.0673</td><td>NA</td><td>FALSE</td><td>Aug21</td><td>W33-21</td><td>NA</td><td>2.253333</td><td> 0.4533333</td><td>2.181667</td></tr>\n",
       "\t<tr><th scope=row>3</th><td>GF</td><td>10 [m]</td><td>2021-08-13 01:00:00</td><td>30007.3</td><td>4.85</td><td> 53.8</td><td>13.27</td><td>8.37</td><td>NA</td><td>NA</td><td>⋯</td><td> 53.8</td><td>33.2496</td><td>NA</td><td>FALSE</td><td>Aug21</td><td>W33-21</td><td>NA</td><td>1.998333</td><td> 0.9583333</td><td>1.751667</td></tr>\n",
       "\t<tr><th scope=row>4</th><td>GF</td><td>10 [m]</td><td>2021-08-13 01:30:00</td><td>30032.6</td><td>4.85</td><td> 64.6</td><td>13.30</td><td>8.36</td><td>NA</td><td>NA</td><td>⋯</td><td> 64.6</td><td>33.2807</td><td>NA</td><td>FALSE</td><td>Aug21</td><td>W33-21</td><td>NA</td><td>1.965000</td><td> 1.2016667</td><td>1.550000</td></tr>\n",
       "\t<tr><th scope=row>5</th><td>GF</td><td>10 [m]</td><td>2021-08-13 02:00:00</td><td>29995.6</td><td>4.84</td><td>118.4</td><td>13.36</td><td>8.37</td><td>NA</td><td>NA</td><td>⋯</td><td>118.4</td><td>33.2453</td><td>NA</td><td>FALSE</td><td>Aug21</td><td>W33-21</td><td>NA</td><td>2.088333</td><td> 1.4533333</td><td>1.441667</td></tr>\n",
       "\t<tr><th scope=row>6</th><td>GF</td><td>10 [m]</td><td>2021-08-13 02:30:00</td><td>30011.2</td><td>4.80</td><td>226.0</td><td>13.39</td><td>8.37</td><td>NA</td><td>NA</td><td>⋯</td><td>226.0</td><td>33.3047</td><td>NA</td><td>FALSE</td><td>Aug21</td><td>W33-21</td><td>NA</td><td>2.038333</td><td> 1.8116667</td><td>0.740000</td></tr>\n",
       "</tbody>\n",
       "</table>\n"
      ],
      "text/latex": [
       "A data.frame: 6 × 28\n",
       "\\begin{tabular}{r|lllllllllllllllllllll}\n",
       "  & site & depth & date\\_time & ec & temp & light & oxygen & pH & water\\_level & chlorophyll.a & ⋯ & light.upd & salinity.upd & sensor.depth & kelp & m.yr.factor & w.yr.factor & water.depth & speed & velocityN & velocityE\\\\\n",
       "  & <fct> & <ord> & <dttm> & <dbl> & <dbl> & <dbl> & <dbl> & <dbl> & <dbl> & <dbl> & ⋯ & <dbl> & <dbl> & <dbl> & <fct> & <ord> & <ord> & <dbl> & <dbl> & <dbl> & <dbl>\\\\\n",
       "\\hline\n",
       "\t1 & GF & 10 {[}m{]} & 2021-08-13 00:00:00 & 30120.4 & 5.25 &  64.6 & 13.17 & 8.37 & NA & NA & ⋯ &  64.6 & 32.9891 & NA & FALSE & Aug21 & W32-21 & NA & 2.918333 & -1.3650000 & 2.348333\\\\\n",
       "\t2 & GF & 10 {[}m{]} & 2021-08-13 00:30:00 & 30095.0 & 5.14 &  64.6 & 13.14 & 8.36 & NA & NA & ⋯ &  64.6 & 33.0673 & NA & FALSE & Aug21 & W33-21 & NA & 2.253333 &  0.4533333 & 2.181667\\\\\n",
       "\t3 & GF & 10 {[}m{]} & 2021-08-13 01:00:00 & 30007.3 & 4.85 &  53.8 & 13.27 & 8.37 & NA & NA & ⋯ &  53.8 & 33.2496 & NA & FALSE & Aug21 & W33-21 & NA & 1.998333 &  0.9583333 & 1.751667\\\\\n",
       "\t4 & GF & 10 {[}m{]} & 2021-08-13 01:30:00 & 30032.6 & 4.85 &  64.6 & 13.30 & 8.36 & NA & NA & ⋯ &  64.6 & 33.2807 & NA & FALSE & Aug21 & W33-21 & NA & 1.965000 &  1.2016667 & 1.550000\\\\\n",
       "\t5 & GF & 10 {[}m{]} & 2021-08-13 02:00:00 & 29995.6 & 4.84 & 118.4 & 13.36 & 8.37 & NA & NA & ⋯ & 118.4 & 33.2453 & NA & FALSE & Aug21 & W33-21 & NA & 2.088333 &  1.4533333 & 1.441667\\\\\n",
       "\t6 & GF & 10 {[}m{]} & 2021-08-13 02:30:00 & 30011.2 & 4.80 & 226.0 & 13.39 & 8.37 & NA & NA & ⋯ & 226.0 & 33.3047 & NA & FALSE & Aug21 & W33-21 & NA & 2.038333 &  1.8116667 & 0.740000\\\\\n",
       "\\end{tabular}\n"
      ],
      "text/markdown": [
       "\n",
       "A data.frame: 6 × 28\n",
       "\n",
       "| <!--/--> | site &lt;fct&gt; | depth &lt;ord&gt; | date_time &lt;dttm&gt; | ec &lt;dbl&gt; | temp &lt;dbl&gt; | light &lt;dbl&gt; | oxygen &lt;dbl&gt; | pH &lt;dbl&gt; | water_level &lt;dbl&gt; | chlorophyll.a &lt;dbl&gt; | ⋯ ⋯ | light.upd &lt;dbl&gt; | salinity.upd &lt;dbl&gt; | sensor.depth &lt;dbl&gt; | kelp &lt;fct&gt; | m.yr.factor &lt;ord&gt; | w.yr.factor &lt;ord&gt; | water.depth &lt;dbl&gt; | speed &lt;dbl&gt; | velocityN &lt;dbl&gt; | velocityE &lt;dbl&gt; |\n",
       "|---|---|---|---|---|---|---|---|---|---|---|---|---|---|---|---|---|---|---|---|---|---|\n",
       "| 1 | GF | 10 [m] | 2021-08-13 00:00:00 | 30120.4 | 5.25 |  64.6 | 13.17 | 8.37 | NA | NA | ⋯ |  64.6 | 32.9891 | NA | FALSE | Aug21 | W32-21 | NA | 2.918333 | -1.3650000 | 2.348333 |\n",
       "| 2 | GF | 10 [m] | 2021-08-13 00:30:00 | 30095.0 | 5.14 |  64.6 | 13.14 | 8.36 | NA | NA | ⋯ |  64.6 | 33.0673 | NA | FALSE | Aug21 | W33-21 | NA | 2.253333 |  0.4533333 | 2.181667 |\n",
       "| 3 | GF | 10 [m] | 2021-08-13 01:00:00 | 30007.3 | 4.85 |  53.8 | 13.27 | 8.37 | NA | NA | ⋯ |  53.8 | 33.2496 | NA | FALSE | Aug21 | W33-21 | NA | 1.998333 |  0.9583333 | 1.751667 |\n",
       "| 4 | GF | 10 [m] | 2021-08-13 01:30:00 | 30032.6 | 4.85 |  64.6 | 13.30 | 8.36 | NA | NA | ⋯ |  64.6 | 33.2807 | NA | FALSE | Aug21 | W33-21 | NA | 1.965000 |  1.2016667 | 1.550000 |\n",
       "| 5 | GF | 10 [m] | 2021-08-13 02:00:00 | 29995.6 | 4.84 | 118.4 | 13.36 | 8.37 | NA | NA | ⋯ | 118.4 | 33.2453 | NA | FALSE | Aug21 | W33-21 | NA | 2.088333 |  1.4533333 | 1.441667 |\n",
       "| 6 | GF | 10 [m] | 2021-08-13 02:30:00 | 30011.2 | 4.80 | 226.0 | 13.39 | 8.37 | NA | NA | ⋯ | 226.0 | 33.3047 | NA | FALSE | Aug21 | W33-21 | NA | 2.038333 |  1.8116667 | 0.740000 |\n",
       "\n"
      ],
      "text/plain": [
       "  site depth  date_time           ec      temp light oxygen pH   water_level\n",
       "1 GF   10 [m] 2021-08-13 00:00:00 30120.4 5.25  64.6 13.17  8.37 NA         \n",
       "2 GF   10 [m] 2021-08-13 00:30:00 30095.0 5.14  64.6 13.14  8.36 NA         \n",
       "3 GF   10 [m] 2021-08-13 01:00:00 30007.3 4.85  53.8 13.27  8.37 NA         \n",
       "4 GF   10 [m] 2021-08-13 01:30:00 30032.6 4.85  64.6 13.30  8.36 NA         \n",
       "5 GF   10 [m] 2021-08-13 02:00:00 29995.6 4.84 118.4 13.36  8.37 NA         \n",
       "6 GF   10 [m] 2021-08-13 02:30:00 30011.2 4.80 226.0 13.39  8.37 NA         \n",
       "  chlorophyll.a ⋯ light.upd salinity.upd sensor.depth kelp  m.yr.factor\n",
       "1 NA            ⋯  64.6     32.9891      NA           FALSE Aug21      \n",
       "2 NA            ⋯  64.6     33.0673      NA           FALSE Aug21      \n",
       "3 NA            ⋯  53.8     33.2496      NA           FALSE Aug21      \n",
       "4 NA            ⋯  64.6     33.2807      NA           FALSE Aug21      \n",
       "5 NA            ⋯ 118.4     33.2453      NA           FALSE Aug21      \n",
       "6 NA            ⋯ 226.0     33.3047      NA           FALSE Aug21      \n",
       "  w.yr.factor water.depth speed    velocityN  velocityE\n",
       "1 W32-21      NA          2.918333 -1.3650000 2.348333 \n",
       "2 W33-21      NA          2.253333  0.4533333 2.181667 \n",
       "3 W33-21      NA          1.998333  0.9583333 1.751667 \n",
       "4 W33-21      NA          1.965000  1.2016667 1.550000 \n",
       "5 W33-21      NA          2.088333  1.4533333 1.441667 \n",
       "6 W33-21      NA          2.038333  1.8116667 0.740000 "
      ]
     },
     "metadata": {},
     "output_type": "display_data"
    }
   ],
   "source": [
    "df.chem.merged$date_time <- round_date(df.chem.merged$date_time,unit='minute')  ## needs rounding by one second\n",
    "df.velocity.30min <-  df.v.merged %>%\n",
    "  mutate(date_time = floor_date(date_time, unit = \"30 min\")) %>%\n",
    "  group_by(site,depth,date_time) %>%\n",
    "  summarise(speed = mean(speed, na.rm = TRUE),\n",
    "            velocityN = mean(velocityN, na.rm = TRUE),\n",
    "            velocityE = mean(velocityE, na.rm = TRUE))\n",
    "\n",
    "df.all2 <- merge(x=df.chem.merged, y= df.velocity.30min, by=c(\"site\",\"depth\",\"date_time\"))\n",
    "df.all2$ix <- NULL\n",
    "head(df.all2)"
   ]
  },
  {
   "cell_type": "code",
   "execution_count": 20,
   "id": "d79c85f7-22fc-400e-9d8a-7f0332d140d8",
   "metadata": {},
   "outputs": [
    {
     "ename": "ERROR",
     "evalue": "Error: cannot allocate vector of size 226.4 Gb\n",
     "output_type": "error",
     "traceback": [
      "Error: cannot allocate vector of size 226.4 Gb\nTraceback:\n",
      "1. adonis2(formula = KELP ~ oxygen + pH + ec + temp + light + velocityN + \n .     velocityE, data = data.df)",
      "2. vegdist(as.matrix(lhs), method = method, ...)"
     ]
    }
   ],
   "source": [
    "featX <- c('oxygen','pH',\"ec\",'temp','light','velocityN','velocityE')\n",
    "data.df <- na.omit(df.all2[featX])\n",
    "has.kelp <- na.omit(df.all2[c(featX,\"kelp\")])$kelp\n",
    "KELP <- data.frame(false=as.numeric(has.kelp==FALSE), true=as.numeric(has.kelp==TRUE))\n",
    "\n",
    "adonis2(formula=KELP ~ oxygen+pH+ec+temp+light+velocityN+velocityE,\n",
    "        data=data.df)"
   ]
  },
  {
   "cell_type": "markdown",
   "id": "b768e2f3-51ca-4da9-a612-d63024f55581",
   "metadata": {},
   "source": [
    "### 4.2. Approach 2 - using `PERMANOVA` package"
   ]
  },
  {
   "cell_type": "code",
   "execution_count": 21,
   "id": "d8b037e5-5002-4962-89aa-22895de9a348",
   "metadata": {},
   "outputs": [
    {
     "data": {
      "text/html": [
       "<table class=\"dataframe\">\n",
       "<caption>A data.frame: 3 × 8</caption>\n",
       "<thead>\n",
       "\t<tr><th></th><th scope=col>oxygen</th><th scope=col>pH</th><th scope=col>ec</th><th scope=col>temp</th><th scope=col>light</th><th scope=col>velocityN</th><th scope=col>velocityE</th><th scope=col>kelp</th></tr>\n",
       "\t<tr><th></th><th scope=col>&lt;dbl&gt;</th><th scope=col>&lt;dbl&gt;</th><th scope=col>&lt;dbl&gt;</th><th scope=col>&lt;dbl&gt;</th><th scope=col>&lt;dbl&gt;</th><th scope=col>&lt;dbl&gt;</th><th scope=col>&lt;dbl&gt;</th><th scope=col>&lt;fct&gt;</th></tr>\n",
       "</thead>\n",
       "<tbody>\n",
       "\t<tr><th scope=row>1</th><td>13.17</td><td>8.37</td><td>30120.4</td><td>5.25</td><td>64.6</td><td>-1.3650000</td><td>2.348333</td><td>FALSE</td></tr>\n",
       "\t<tr><th scope=row>2</th><td>13.14</td><td>8.36</td><td>30095.0</td><td>5.14</td><td>64.6</td><td> 0.4533333</td><td>2.181667</td><td>FALSE</td></tr>\n",
       "\t<tr><th scope=row>3</th><td>13.27</td><td>8.37</td><td>30007.3</td><td>4.85</td><td>53.8</td><td> 0.9583333</td><td>1.751667</td><td>FALSE</td></tr>\n",
       "</tbody>\n",
       "</table>\n"
      ],
      "text/latex": [
       "A data.frame: 3 × 8\n",
       "\\begin{tabular}{r|llllllll}\n",
       "  & oxygen & pH & ec & temp & light & velocityN & velocityE & kelp\\\\\n",
       "  & <dbl> & <dbl> & <dbl> & <dbl> & <dbl> & <dbl> & <dbl> & <fct>\\\\\n",
       "\\hline\n",
       "\t1 & 13.17 & 8.37 & 30120.4 & 5.25 & 64.6 & -1.3650000 & 2.348333 & FALSE\\\\\n",
       "\t2 & 13.14 & 8.36 & 30095.0 & 5.14 & 64.6 &  0.4533333 & 2.181667 & FALSE\\\\\n",
       "\t3 & 13.27 & 8.37 & 30007.3 & 4.85 & 53.8 &  0.9583333 & 1.751667 & FALSE\\\\\n",
       "\\end{tabular}\n"
      ],
      "text/markdown": [
       "\n",
       "A data.frame: 3 × 8\n",
       "\n",
       "| <!--/--> | oxygen &lt;dbl&gt; | pH &lt;dbl&gt; | ec &lt;dbl&gt; | temp &lt;dbl&gt; | light &lt;dbl&gt; | velocityN &lt;dbl&gt; | velocityE &lt;dbl&gt; | kelp &lt;fct&gt; |\n",
       "|---|---|---|---|---|---|---|---|---|\n",
       "| 1 | 13.17 | 8.37 | 30120.4 | 5.25 | 64.6 | -1.3650000 | 2.348333 | FALSE |\n",
       "| 2 | 13.14 | 8.36 | 30095.0 | 5.14 | 64.6 |  0.4533333 | 2.181667 | FALSE |\n",
       "| 3 | 13.27 | 8.37 | 30007.3 | 4.85 | 53.8 |  0.9583333 | 1.751667 | FALSE |\n",
       "\n"
      ],
      "text/plain": [
       "  oxygen pH   ec      temp light velocityN  velocityE kelp \n",
       "1 13.17  8.37 30120.4 5.25 64.6  -1.3650000 2.348333  FALSE\n",
       "2 13.14  8.36 30095.0 5.14 64.6   0.4533333 2.181667  FALSE\n",
       "3 13.27  8.37 30007.3 4.85 53.8   0.9583333 1.751667  FALSE"
      ]
     },
     "metadata": {},
     "output_type": "display_data"
    }
   ],
   "source": [
    "featX <- c('oxygen','pH',\"ec\",'temp','light','velocityN','velocityE')\n",
    "data.df <- na.omit(df.all2[c(featX,'kelp')])\n",
    "head(data.df,3)"
   ]
  },
  {
   "cell_type": "code",
   "execution_count": 22,
   "id": "2380d4c1-dc47-4cc6-86a2-71c33843e4ca",
   "metadata": {},
   "outputs": [
    {
     "ename": "ERROR",
     "evalue": "Error: cannot allocate vector of size 452.8 Gb\n",
     "output_type": "error",
     "traceback": [
      "Error: cannot allocate vector of size 452.8 Gb\nTraceback:\n",
      "1. DistContinuous(X)",
      "2. matrix(0, s, n)"
     ]
    }
   ],
   "source": [
    "featX <- c('oxygen','pH',\"ec\",'temp','light','velocityN','velocityE')\n",
    "data.df <- na.omit(df.all2[featX])\n",
    "has.kelp <- na.omit(df.all2[c(featX,\"kelp\")])$kelp\n",
    "\n",
    "X = data.df \n",
    "X=IniTransform(X)\n",
    "D = DistContinuous(X)\n",
    "per.res=PERMANOVA(D, has.kelp) \n",
    "per.res"
   ]
  },
  {
   "cell_type": "code",
   "execution_count": null,
   "id": "f408489f-6d80-47cc-8ab7-3fe7406d9ba5",
   "metadata": {},
   "outputs": [],
   "source": []
  }
 ],
 "metadata": {
  "kernelspec": {
   "display_name": "R",
   "language": "R",
   "name": "ir"
  },
  "language_info": {
   "codemirror_mode": "r",
   "file_extension": ".r",
   "mimetype": "text/x-r-source",
   "name": "R",
   "pygments_lexer": "r",
   "version": "4.4.2"
  }
 },
 "nbformat": 4,
 "nbformat_minor": 5
}

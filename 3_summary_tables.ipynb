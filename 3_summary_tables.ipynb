{
 "cells": [
  {
   "cell_type": "markdown",
   "id": "4e94b216-b776-4896-b5ae-6acd0c81d354",
   "metadata": {},
   "source": [
    "# Summary tables for velocity and physio-chemical parameters\n",
    "## 1. Library imports and setup"
   ]
  },
  {
   "cell_type": "code",
   "execution_count": 2,
   "id": "2b502851-d20d-40d5-8c19-5f19eef7b175",
   "metadata": {
    "tags": []
   },
   "outputs": [],
   "source": [
    "library(openxlsx)\n",
    "library(tidyverse)"
   ]
  },
  {
   "cell_type": "code",
   "execution_count": 3,
   "id": "0cb12c25-8f72-4788-817d-0a06488ff4ec",
   "metadata": {},
   "outputs": [],
   "source": [
    "#flag.make.files <- TRUE\n",
    "flag.make.files <- FALSE"
   ]
  },
  {
   "cell_type": "markdown",
   "id": "2dd90e92-cb26-481d-96cf-c4e823b5a401",
   "metadata": {},
   "source": [
    "## 2. Import of the clean data"
   ]
  },
  {
   "cell_type": "code",
   "execution_count": 4,
   "id": "c79e1fce-e623-446b-9ce8-49c0a02e1ba2",
   "metadata": {
    "tags": []
   },
   "outputs": [
    {
     "data": {
      "text/html": [
       "<table class=\"dataframe\">\n",
       "<caption>A data.frame: 6 × 11</caption>\n",
       "<thead>\n",
       "\t<tr><th></th><th scope=col>date_time</th><th scope=col>speed</th><th scope=col>heading</th><th scope=col>velocityN</th><th scope=col>velocityE</th><th scope=col>depth</th><th scope=col>site</th><th scope=col>kelp</th><th scope=col>m.yr.factor</th><th scope=col>w.yr.factor</th><th scope=col>depth.raw</th></tr>\n",
       "\t<tr><th></th><th scope=col>&lt;dttm&gt;</th><th scope=col>&lt;dbl&gt;</th><th scope=col>&lt;dbl&gt;</th><th scope=col>&lt;dbl&gt;</th><th scope=col>&lt;dbl&gt;</th><th scope=col>&lt;ord&gt;</th><th scope=col>&lt;fct&gt;</th><th scope=col>&lt;fct&gt;</th><th scope=col>&lt;ord&gt;</th><th scope=col>&lt;ord&gt;</th><th scope=col>&lt;fct&gt;</th></tr>\n",
       "</thead>\n",
       "<tbody>\n",
       "\t<tr><th scope=row>1</th><td>2021-08-13 00:00:00</td><td>1.89</td><td>180.44</td><td>-1.89</td><td>-0.01</td><td>7 [m]</td><td>GF</td><td>FALSE</td><td>Aug21</td><td>W33-21</td><td>7</td></tr>\n",
       "\t<tr><th scope=row>2</th><td>2021-08-13 00:05:00</td><td>1.64</td><td>177.22</td><td>-1.63</td><td> 0.08</td><td>7 [m]</td><td>GF</td><td>FALSE</td><td>Aug21</td><td>W33-21</td><td>7</td></tr>\n",
       "\t<tr><th scope=row>3</th><td>2021-08-13 00:10:00</td><td>1.85</td><td>177.76</td><td>-1.85</td><td> 0.07</td><td>7 [m]</td><td>GF</td><td>FALSE</td><td>Aug21</td><td>W33-21</td><td>7</td></tr>\n",
       "\t<tr><th scope=row>4</th><td>2021-08-13 00:15:00</td><td>1.88</td><td>179.00</td><td>-1.88</td><td> 0.03</td><td>7 [m]</td><td>GF</td><td>FALSE</td><td>Aug21</td><td>W33-21</td><td>7</td></tr>\n",
       "\t<tr><th scope=row>5</th><td>2021-08-13 00:20:00</td><td>2.12</td><td>200.43</td><td>-1.99</td><td>-0.74</td><td>7 [m]</td><td>GF</td><td>FALSE</td><td>Aug21</td><td>W33-21</td><td>7</td></tr>\n",
       "\t<tr><th scope=row>6</th><td>2021-08-13 00:25:00</td><td>2.50</td><td>210.17</td><td>-2.16</td><td>-1.26</td><td>7 [m]</td><td>GF</td><td>FALSE</td><td>Aug21</td><td>W33-21</td><td>7</td></tr>\n",
       "</tbody>\n",
       "</table>\n"
      ],
      "text/latex": [
       "A data.frame: 6 × 11\n",
       "\\begin{tabular}{r|lllllllllll}\n",
       "  & date\\_time & speed & heading & velocityN & velocityE & depth & site & kelp & m.yr.factor & w.yr.factor & depth.raw\\\\\n",
       "  & <dttm> & <dbl> & <dbl> & <dbl> & <dbl> & <ord> & <fct> & <fct> & <ord> & <ord> & <fct>\\\\\n",
       "\\hline\n",
       "\t1 & 2021-08-13 00:00:00 & 1.89 & 180.44 & -1.89 & -0.01 & 7 {[}m{]} & GF & FALSE & Aug21 & W33-21 & 7\\\\\n",
       "\t2 & 2021-08-13 00:05:00 & 1.64 & 177.22 & -1.63 &  0.08 & 7 {[}m{]} & GF & FALSE & Aug21 & W33-21 & 7\\\\\n",
       "\t3 & 2021-08-13 00:10:00 & 1.85 & 177.76 & -1.85 &  0.07 & 7 {[}m{]} & GF & FALSE & Aug21 & W33-21 & 7\\\\\n",
       "\t4 & 2021-08-13 00:15:00 & 1.88 & 179.00 & -1.88 &  0.03 & 7 {[}m{]} & GF & FALSE & Aug21 & W33-21 & 7\\\\\n",
       "\t5 & 2021-08-13 00:20:00 & 2.12 & 200.43 & -1.99 & -0.74 & 7 {[}m{]} & GF & FALSE & Aug21 & W33-21 & 7\\\\\n",
       "\t6 & 2021-08-13 00:25:00 & 2.50 & 210.17 & -2.16 & -1.26 & 7 {[}m{]} & GF & FALSE & Aug21 & W33-21 & 7\\\\\n",
       "\\end{tabular}\n"
      ],
      "text/markdown": [
       "\n",
       "A data.frame: 6 × 11\n",
       "\n",
       "| <!--/--> | date_time &lt;dttm&gt; | speed &lt;dbl&gt; | heading &lt;dbl&gt; | velocityN &lt;dbl&gt; | velocityE &lt;dbl&gt; | depth &lt;ord&gt; | site &lt;fct&gt; | kelp &lt;fct&gt; | m.yr.factor &lt;ord&gt; | w.yr.factor &lt;ord&gt; | depth.raw &lt;fct&gt; |\n",
       "|---|---|---|---|---|---|---|---|---|---|---|---|\n",
       "| 1 | 2021-08-13 00:00:00 | 1.89 | 180.44 | -1.89 | -0.01 | 7 [m] | GF | FALSE | Aug21 | W33-21 | 7 |\n",
       "| 2 | 2021-08-13 00:05:00 | 1.64 | 177.22 | -1.63 |  0.08 | 7 [m] | GF | FALSE | Aug21 | W33-21 | 7 |\n",
       "| 3 | 2021-08-13 00:10:00 | 1.85 | 177.76 | -1.85 |  0.07 | 7 [m] | GF | FALSE | Aug21 | W33-21 | 7 |\n",
       "| 4 | 2021-08-13 00:15:00 | 1.88 | 179.00 | -1.88 |  0.03 | 7 [m] | GF | FALSE | Aug21 | W33-21 | 7 |\n",
       "| 5 | 2021-08-13 00:20:00 | 2.12 | 200.43 | -1.99 | -0.74 | 7 [m] | GF | FALSE | Aug21 | W33-21 | 7 |\n",
       "| 6 | 2021-08-13 00:25:00 | 2.50 | 210.17 | -2.16 | -1.26 | 7 [m] | GF | FALSE | Aug21 | W33-21 | 7 |\n",
       "\n"
      ],
      "text/plain": [
       "  date_time           speed heading velocityN velocityE depth site kelp \n",
       "1 2021-08-13 00:00:00 1.89  180.44  -1.89     -0.01     7 [m] GF   FALSE\n",
       "2 2021-08-13 00:05:00 1.64  177.22  -1.63      0.08     7 [m] GF   FALSE\n",
       "3 2021-08-13 00:10:00 1.85  177.76  -1.85      0.07     7 [m] GF   FALSE\n",
       "4 2021-08-13 00:15:00 1.88  179.00  -1.88      0.03     7 [m] GF   FALSE\n",
       "5 2021-08-13 00:20:00 2.12  200.43  -1.99     -0.74     7 [m] GF   FALSE\n",
       "6 2021-08-13 00:25:00 2.50  210.17  -2.16     -1.26     7 [m] GF   FALSE\n",
       "  m.yr.factor w.yr.factor depth.raw\n",
       "1 Aug21       W33-21      7        \n",
       "2 Aug21       W33-21      7        \n",
       "3 Aug21       W33-21      7        \n",
       "4 Aug21       W33-21      7        \n",
       "5 Aug21       W33-21      7        \n",
       "6 Aug21       W33-21      7        "
      ]
     },
     "metadata": {},
     "output_type": "display_data"
    },
    {
     "data": {
      "text/html": [
       "<table class=\"dataframe\">\n",
       "<caption>A data.frame: 6 × 26</caption>\n",
       "<thead>\n",
       "\t<tr><th></th><th scope=col>ix</th><th scope=col>date_time</th><th scope=col>ec</th><th scope=col>temp</th><th scope=col>light</th><th scope=col>oxygen</th><th scope=col>pH</th><th scope=col>water_level</th><th scope=col>chlorophyll.a</th><th scope=col>chlorophyll.red</th><th scope=col>⋯</th><th scope=col>pH.upd</th><th scope=col>light.upd</th><th scope=col>salinity.upd</th><th scope=col>sensor.depth</th><th scope=col>depth</th><th scope=col>kelp</th><th scope=col>site</th><th scope=col>m.yr.factor</th><th scope=col>w.yr.factor</th><th scope=col>water.depth</th></tr>\n",
       "\t<tr><th></th><th scope=col>&lt;chr&gt;</th><th scope=col>&lt;dttm&gt;</th><th scope=col>&lt;dbl&gt;</th><th scope=col>&lt;dbl&gt;</th><th scope=col>&lt;dbl&gt;</th><th scope=col>&lt;dbl&gt;</th><th scope=col>&lt;dbl&gt;</th><th scope=col>&lt;dbl&gt;</th><th scope=col>&lt;dbl&gt;</th><th scope=col>&lt;dbl&gt;</th><th scope=col>⋯</th><th scope=col>&lt;dbl&gt;</th><th scope=col>&lt;dbl&gt;</th><th scope=col>&lt;dbl&gt;</th><th scope=col>&lt;dbl&gt;</th><th scope=col>&lt;ord&gt;</th><th scope=col>&lt;fct&gt;</th><th scope=col>&lt;fct&gt;</th><th scope=col>&lt;ord&gt;</th><th scope=col>&lt;ord&gt;</th><th scope=col>&lt;dbl&gt;</th></tr>\n",
       "</thead>\n",
       "<tbody>\n",
       "\t<tr><th scope=row>1</th><td>7m_G-1</td><td>2021-08-12 08:00:00</td><td>31194.1</td><td>4.71</td><td> 688.9</td><td>13.50</td><td>8.35</td><td>216.510</td><td>6</td><td>11</td><td>⋯</td><td>NA</td><td>NA</td><td>NA</td><td>NA</td><td>7 [m]</td><td>FALSE</td><td>GF</td><td>Aug21</td><td>W32-21</td><td>      NA</td></tr>\n",
       "\t<tr><th scope=row>2</th><td>7m_G-2</td><td>2021-08-12 08:30:00</td><td>31219.2</td><td>4.32</td><td> 667.4</td><td>13.54</td><td>8.34</td><td>216.356</td><td>8</td><td>21</td><td>⋯</td><td>NA</td><td>NA</td><td>NA</td><td>NA</td><td>7 [m]</td><td>FALSE</td><td>GF</td><td>Aug21</td><td>W32-21</td><td>      NA</td></tr>\n",
       "\t<tr><th scope=row>3</th><td>7m_G-3</td><td>2021-08-12 09:00:00</td><td>31319.6</td><td>5.29</td><td> 796.5</td><td>13.31</td><td>8.35</td><td>179.936</td><td>6</td><td>54</td><td>⋯</td><td>NA</td><td>NA</td><td>NA</td><td>NA</td><td>7 [m]</td><td>FALSE</td><td>GF</td><td>Aug21</td><td>W32-21</td><td>8.068685</td></tr>\n",
       "\t<tr><th scope=row>4</th><td>7m_G-4</td><td>2021-08-12 09:30:00</td><td>31323.7</td><td>5.38</td><td>1097.9</td><td>13.21</td><td>8.36</td><td>180.658</td><td>7</td><td>38</td><td>⋯</td><td>NA</td><td>NA</td><td>NA</td><td>NA</td><td>7 [m]</td><td>FALSE</td><td>GF</td><td>Aug21</td><td>W32-21</td><td>8.140133</td></tr>\n",
       "\t<tr><th scope=row>5</th><td>7m_G-5</td><td>2021-08-12 10:00:00</td><td>31246.3</td><td>4.95</td><td> 602.8</td><td>13.34</td><td>8.35</td><td>181.589</td><td>6</td><td>24</td><td>⋯</td><td>NA</td><td>NA</td><td>NA</td><td>NA</td><td>7 [m]</td><td>FALSE</td><td>GF</td><td>Aug21</td><td>W32-21</td><td>8.232264</td></tr>\n",
       "\t<tr><th scope=row>6</th><td>7m_G-6</td><td>2021-08-12 10:30:00</td><td>31267.2</td><td>5.50</td><td> 699.7</td><td>13.21</td><td>8.36</td><td>182.965</td><td>7</td><td>38</td><td>⋯</td><td>NA</td><td>NA</td><td>NA</td><td>NA</td><td>7 [m]</td><td>FALSE</td><td>GF</td><td>Aug21</td><td>W32-21</td><td>8.368431</td></tr>\n",
       "</tbody>\n",
       "</table>\n"
      ],
      "text/latex": [
       "A data.frame: 6 × 26\n",
       "\\begin{tabular}{r|lllllllllllllllllllll}\n",
       "  & ix & date\\_time & ec & temp & light & oxygen & pH & water\\_level & chlorophyll.a & chlorophyll.red & ⋯ & pH.upd & light.upd & salinity.upd & sensor.depth & depth & kelp & site & m.yr.factor & w.yr.factor & water.depth\\\\\n",
       "  & <chr> & <dttm> & <dbl> & <dbl> & <dbl> & <dbl> & <dbl> & <dbl> & <dbl> & <dbl> & ⋯ & <dbl> & <dbl> & <dbl> & <dbl> & <ord> & <fct> & <fct> & <ord> & <ord> & <dbl>\\\\\n",
       "\\hline\n",
       "\t1 & 7m\\_G-1 & 2021-08-12 08:00:00 & 31194.1 & 4.71 &  688.9 & 13.50 & 8.35 & 216.510 & 6 & 11 & ⋯ & NA & NA & NA & NA & 7 {[}m{]} & FALSE & GF & Aug21 & W32-21 &       NA\\\\\n",
       "\t2 & 7m\\_G-2 & 2021-08-12 08:30:00 & 31219.2 & 4.32 &  667.4 & 13.54 & 8.34 & 216.356 & 8 & 21 & ⋯ & NA & NA & NA & NA & 7 {[}m{]} & FALSE & GF & Aug21 & W32-21 &       NA\\\\\n",
       "\t3 & 7m\\_G-3 & 2021-08-12 09:00:00 & 31319.6 & 5.29 &  796.5 & 13.31 & 8.35 & 179.936 & 6 & 54 & ⋯ & NA & NA & NA & NA & 7 {[}m{]} & FALSE & GF & Aug21 & W32-21 & 8.068685\\\\\n",
       "\t4 & 7m\\_G-4 & 2021-08-12 09:30:00 & 31323.7 & 5.38 & 1097.9 & 13.21 & 8.36 & 180.658 & 7 & 38 & ⋯ & NA & NA & NA & NA & 7 {[}m{]} & FALSE & GF & Aug21 & W32-21 & 8.140133\\\\\n",
       "\t5 & 7m\\_G-5 & 2021-08-12 10:00:00 & 31246.3 & 4.95 &  602.8 & 13.34 & 8.35 & 181.589 & 6 & 24 & ⋯ & NA & NA & NA & NA & 7 {[}m{]} & FALSE & GF & Aug21 & W32-21 & 8.232264\\\\\n",
       "\t6 & 7m\\_G-6 & 2021-08-12 10:30:00 & 31267.2 & 5.50 &  699.7 & 13.21 & 8.36 & 182.965 & 7 & 38 & ⋯ & NA & NA & NA & NA & 7 {[}m{]} & FALSE & GF & Aug21 & W32-21 & 8.368431\\\\\n",
       "\\end{tabular}\n"
      ],
      "text/markdown": [
       "\n",
       "A data.frame: 6 × 26\n",
       "\n",
       "| <!--/--> | ix &lt;chr&gt; | date_time &lt;dttm&gt; | ec &lt;dbl&gt; | temp &lt;dbl&gt; | light &lt;dbl&gt; | oxygen &lt;dbl&gt; | pH &lt;dbl&gt; | water_level &lt;dbl&gt; | chlorophyll.a &lt;dbl&gt; | chlorophyll.red &lt;dbl&gt; | ⋯ ⋯ | pH.upd &lt;dbl&gt; | light.upd &lt;dbl&gt; | salinity.upd &lt;dbl&gt; | sensor.depth &lt;dbl&gt; | depth &lt;ord&gt; | kelp &lt;fct&gt; | site &lt;fct&gt; | m.yr.factor &lt;ord&gt; | w.yr.factor &lt;ord&gt; | water.depth &lt;dbl&gt; |\n",
       "|---|---|---|---|---|---|---|---|---|---|---|---|---|---|---|---|---|---|---|---|---|---|\n",
       "| 1 | 7m_G-1 | 2021-08-12 08:00:00 | 31194.1 | 4.71 |  688.9 | 13.50 | 8.35 | 216.510 | 6 | 11 | ⋯ | NA | NA | NA | NA | 7 [m] | FALSE | GF | Aug21 | W32-21 |       NA |\n",
       "| 2 | 7m_G-2 | 2021-08-12 08:30:00 | 31219.2 | 4.32 |  667.4 | 13.54 | 8.34 | 216.356 | 8 | 21 | ⋯ | NA | NA | NA | NA | 7 [m] | FALSE | GF | Aug21 | W32-21 |       NA |\n",
       "| 3 | 7m_G-3 | 2021-08-12 09:00:00 | 31319.6 | 5.29 |  796.5 | 13.31 | 8.35 | 179.936 | 6 | 54 | ⋯ | NA | NA | NA | NA | 7 [m] | FALSE | GF | Aug21 | W32-21 | 8.068685 |\n",
       "| 4 | 7m_G-4 | 2021-08-12 09:30:00 | 31323.7 | 5.38 | 1097.9 | 13.21 | 8.36 | 180.658 | 7 | 38 | ⋯ | NA | NA | NA | NA | 7 [m] | FALSE | GF | Aug21 | W32-21 | 8.140133 |\n",
       "| 5 | 7m_G-5 | 2021-08-12 10:00:00 | 31246.3 | 4.95 |  602.8 | 13.34 | 8.35 | 181.589 | 6 | 24 | ⋯ | NA | NA | NA | NA | 7 [m] | FALSE | GF | Aug21 | W32-21 | 8.232264 |\n",
       "| 6 | 7m_G-6 | 2021-08-12 10:30:00 | 31267.2 | 5.50 |  699.7 | 13.21 | 8.36 | 182.965 | 7 | 38 | ⋯ | NA | NA | NA | NA | 7 [m] | FALSE | GF | Aug21 | W32-21 | 8.368431 |\n",
       "\n"
      ],
      "text/plain": [
       "  ix     date_time           ec      temp light  oxygen pH   water_level\n",
       "1 7m_G-1 2021-08-12 08:00:00 31194.1 4.71  688.9 13.50  8.35 216.510    \n",
       "2 7m_G-2 2021-08-12 08:30:00 31219.2 4.32  667.4 13.54  8.34 216.356    \n",
       "3 7m_G-3 2021-08-12 09:00:00 31319.6 5.29  796.5 13.31  8.35 179.936    \n",
       "4 7m_G-4 2021-08-12 09:30:00 31323.7 5.38 1097.9 13.21  8.36 180.658    \n",
       "5 7m_G-5 2021-08-12 10:00:00 31246.3 4.95  602.8 13.34  8.35 181.589    \n",
       "6 7m_G-6 2021-08-12 10:30:00 31267.2 5.50  699.7 13.21  8.36 182.965    \n",
       "  chlorophyll.a chlorophyll.red ⋯ pH.upd light.upd salinity.upd sensor.depth\n",
       "1 6             11              ⋯ NA     NA        NA           NA          \n",
       "2 8             21              ⋯ NA     NA        NA           NA          \n",
       "3 6             54              ⋯ NA     NA        NA           NA          \n",
       "4 7             38              ⋯ NA     NA        NA           NA          \n",
       "5 6             24              ⋯ NA     NA        NA           NA          \n",
       "6 7             38              ⋯ NA     NA        NA           NA          \n",
       "  depth kelp  site m.yr.factor w.yr.factor water.depth\n",
       "1 7 [m] FALSE GF   Aug21       W32-21            NA   \n",
       "2 7 [m] FALSE GF   Aug21       W32-21            NA   \n",
       "3 7 [m] FALSE GF   Aug21       W32-21      8.068685   \n",
       "4 7 [m] FALSE GF   Aug21       W32-21      8.140133   \n",
       "5 7 [m] FALSE GF   Aug21       W32-21      8.232264   \n",
       "6 7 [m] FALSE GF   Aug21       W32-21      8.368431   "
      ]
     },
     "metadata": {},
     "output_type": "display_data"
    }
   ],
   "source": [
    "data.path <- \"../../data\"\n",
    "\n",
    "file.name <- \"df_v_merged.rds\"\n",
    "df.v.merged <- readRDS(paste0(data.path,\"/\",file.name))\n",
    "head(df.v.merged)\n",
    "\n",
    "\n",
    "file.name <- \"df_chem_merged.rds\"\n",
    "df.chem.merged <- readRDS(paste0(data.path,\"/\",file.name))\n",
    "head(df.chem.merged)"
   ]
  },
  {
   "cell_type": "markdown",
   "id": "52925df3-5335-44e5-bee1-c09617630012",
   "metadata": {},
   "source": [
    "## 3. Summary of the physio-chemical parameters\n",
    "### 3.1. Totals"
   ]
  },
  {
   "cell_type": "code",
   "execution_count": 5,
   "id": "30828a4e-c15c-4aaf-9cd6-f02a82d1a274",
   "metadata": {
    "tags": []
   },
   "outputs": [
    {
     "name": "stderr",
     "output_type": "stream",
     "text": [
      "\u001b[1m\u001b[22m`summarise()` has grouped output by 'site'. You can override using the\n",
      "`.groups` argument.\n"
     ]
    },
    {
     "data": {
      "text/html": [
       "<table class=\"dataframe\">\n",
       "<caption>A grouped_df: 6 × 22</caption>\n",
       "<thead>\n",
       "\t<tr><th scope=col>site</th><th scope=col>depth</th><th scope=col>light.mean</th><th scope=col>light.min</th><th scope=col>light.max</th><th scope=col>light.sd</th><th scope=col>pH.mean</th><th scope=col>pH.min</th><th scope=col>pH.max</th><th scope=col>pH.sd</th><th scope=col>⋯</th><th scope=col>EC.max</th><th scope=col>EC.sd</th><th scope=col>temp.mean</th><th scope=col>temp.min</th><th scope=col>temp.max</th><th scope=col>temp.sd</th><th scope=col>oxygen.mean</th><th scope=col>oxygen.min</th><th scope=col>oxygen.max</th><th scope=col>oxygen.sd</th></tr>\n",
       "\t<tr><th scope=col>&lt;fct&gt;</th><th scope=col>&lt;ord&gt;</th><th scope=col>&lt;dbl&gt;</th><th scope=col>&lt;dbl&gt;</th><th scope=col>&lt;dbl&gt;</th><th scope=col>&lt;dbl&gt;</th><th scope=col>&lt;dbl&gt;</th><th scope=col>&lt;dbl&gt;</th><th scope=col>&lt;dbl&gt;</th><th scope=col>&lt;dbl&gt;</th><th scope=col>⋯</th><th scope=col>&lt;dbl&gt;</th><th scope=col>&lt;dbl&gt;</th><th scope=col>&lt;dbl&gt;</th><th scope=col>&lt;dbl&gt;</th><th scope=col>&lt;dbl&gt;</th><th scope=col>&lt;dbl&gt;</th><th scope=col>&lt;dbl&gt;</th><th scope=col>&lt;dbl&gt;</th><th scope=col>&lt;dbl&gt;</th><th scope=col>&lt;dbl&gt;</th></tr>\n",
       "</thead>\n",
       "<tbody>\n",
       "\t<tr><td>GF</td><td>7 [m] </td><td>107.33047</td><td>0</td><td>2238.9</td><td>231.25440</td><td>8.481422</td><td>8.24</td><td>9.120000</td><td>0.15101840</td><td>⋯</td><td>31601.6</td><td>4067.036</td><td>2.043306</td><td>-2.05</td><td>10.188800</td><td>2.619319</td><td>14.27955</td><td>10.15</td><td>19.35</td><td>1.072536</td></tr>\n",
       "\t<tr><td>GF</td><td>10 [m]</td><td> 65.83366</td><td>0</td><td>3788.9</td><td>160.94532</td><td>8.394978</td><td>7.70</td><td>8.700000</td><td>0.10786207</td><td>⋯</td><td>32123.5</td><td>2953.241</td><td>2.067768</td><td>-2.05</td><td> 9.993667</td><td>2.552950</td><td>14.09225</td><td> 9.31</td><td>18.42</td><td>1.035204</td></tr>\n",
       "\t<tr><td>GF</td><td>15 [m]</td><td> 86.06687</td><td>0</td><td>1722.2</td><td>169.87169</td><td>8.306380</td><td>7.82</td><td>8.680000</td><td>0.12084644</td><td>⋯</td><td>31114.3</td><td>4277.016</td><td>2.052437</td><td>-2.03</td><td> 9.990750</td><td>2.453436</td><td>14.22722</td><td> 8.17</td><td>18.52</td><td>1.081515</td></tr>\n",
       "\t<tr><td>GF</td><td>20 [m]</td><td> 42.84894</td><td>0</td><td>2066.7</td><td> 96.77216</td><td>8.383171</td><td>8.02</td><td>8.690000</td><td>0.11524228</td><td>⋯</td><td>29730.0</td><td>1334.773</td><td>1.786761</td><td>-2.13</td><td> 7.020000</td><td>2.239840</td><td>13.70443</td><td> 3.00</td><td>17.69</td><td>1.058112</td></tr>\n",
       "\t<tr><td>GF</td><td>25 [m]</td><td> 26.76738</td><td>0</td><td> 839.6</td><td> 64.64069</td><td>8.370666</td><td>8.08</td><td>8.450000</td><td>0.03022719</td><td>⋯</td><td>31919.3</td><td>4249.391</td><td>1.992961</td><td>-2.12</td><td> 8.651000</td><td>2.308885</td><td>14.15027</td><td> 6.78</td><td>17.77</td><td>1.025697</td></tr>\n",
       "\t<tr><td>H </td><td>7 [m] </td><td> 63.09145</td><td>0</td><td>3100.0</td><td>224.18782</td><td>8.265310</td><td>7.70</td><td>8.803241</td><td>0.11047055</td><td>⋯</td><td>32146.6</td><td>3875.243</td><td>2.308191</td><td>-2.03</td><td>10.358200</td><td>2.629050</td><td>13.97842</td><td> 7.94</td><td>22.01</td><td>1.183579</td></tr>\n",
       "</tbody>\n",
       "</table>\n"
      ],
      "text/latex": [
       "A grouped\\_df: 6 × 22\n",
       "\\begin{tabular}{lllllllllllllllllllll}\n",
       " site & depth & light.mean & light.min & light.max & light.sd & pH.mean & pH.min & pH.max & pH.sd & ⋯ & EC.max & EC.sd & temp.mean & temp.min & temp.max & temp.sd & oxygen.mean & oxygen.min & oxygen.max & oxygen.sd\\\\\n",
       " <fct> & <ord> & <dbl> & <dbl> & <dbl> & <dbl> & <dbl> & <dbl> & <dbl> & <dbl> & ⋯ & <dbl> & <dbl> & <dbl> & <dbl> & <dbl> & <dbl> & <dbl> & <dbl> & <dbl> & <dbl>\\\\\n",
       "\\hline\n",
       "\t GF & 7 {[}m{]}  & 107.33047 & 0 & 2238.9 & 231.25440 & 8.481422 & 8.24 & 9.120000 & 0.15101840 & ⋯ & 31601.6 & 4067.036 & 2.043306 & -2.05 & 10.188800 & 2.619319 & 14.27955 & 10.15 & 19.35 & 1.072536\\\\\n",
       "\t GF & 10 {[}m{]} &  65.83366 & 0 & 3788.9 & 160.94532 & 8.394978 & 7.70 & 8.700000 & 0.10786207 & ⋯ & 32123.5 & 2953.241 & 2.067768 & -2.05 &  9.993667 & 2.552950 & 14.09225 &  9.31 & 18.42 & 1.035204\\\\\n",
       "\t GF & 15 {[}m{]} &  86.06687 & 0 & 1722.2 & 169.87169 & 8.306380 & 7.82 & 8.680000 & 0.12084644 & ⋯ & 31114.3 & 4277.016 & 2.052437 & -2.03 &  9.990750 & 2.453436 & 14.22722 &  8.17 & 18.52 & 1.081515\\\\\n",
       "\t GF & 20 {[}m{]} &  42.84894 & 0 & 2066.7 &  96.77216 & 8.383171 & 8.02 & 8.690000 & 0.11524228 & ⋯ & 29730.0 & 1334.773 & 1.786761 & -2.13 &  7.020000 & 2.239840 & 13.70443 &  3.00 & 17.69 & 1.058112\\\\\n",
       "\t GF & 25 {[}m{]} &  26.76738 & 0 &  839.6 &  64.64069 & 8.370666 & 8.08 & 8.450000 & 0.03022719 & ⋯ & 31919.3 & 4249.391 & 1.992961 & -2.12 &  8.651000 & 2.308885 & 14.15027 &  6.78 & 17.77 & 1.025697\\\\\n",
       "\t H  & 7 {[}m{]}  &  63.09145 & 0 & 3100.0 & 224.18782 & 8.265310 & 7.70 & 8.803241 & 0.11047055 & ⋯ & 32146.6 & 3875.243 & 2.308191 & -2.03 & 10.358200 & 2.629050 & 13.97842 &  7.94 & 22.01 & 1.183579\\\\\n",
       "\\end{tabular}\n"
      ],
      "text/markdown": [
       "\n",
       "A grouped_df: 6 × 22\n",
       "\n",
       "| site &lt;fct&gt; | depth &lt;ord&gt; | light.mean &lt;dbl&gt; | light.min &lt;dbl&gt; | light.max &lt;dbl&gt; | light.sd &lt;dbl&gt; | pH.mean &lt;dbl&gt; | pH.min &lt;dbl&gt; | pH.max &lt;dbl&gt; | pH.sd &lt;dbl&gt; | ⋯ ⋯ | EC.max &lt;dbl&gt; | EC.sd &lt;dbl&gt; | temp.mean &lt;dbl&gt; | temp.min &lt;dbl&gt; | temp.max &lt;dbl&gt; | temp.sd &lt;dbl&gt; | oxygen.mean &lt;dbl&gt; | oxygen.min &lt;dbl&gt; | oxygen.max &lt;dbl&gt; | oxygen.sd &lt;dbl&gt; |\n",
       "|---|---|---|---|---|---|---|---|---|---|---|---|---|---|---|---|---|---|---|---|---|\n",
       "| GF | 7 [m]  | 107.33047 | 0 | 2238.9 | 231.25440 | 8.481422 | 8.24 | 9.120000 | 0.15101840 | ⋯ | 31601.6 | 4067.036 | 2.043306 | -2.05 | 10.188800 | 2.619319 | 14.27955 | 10.15 | 19.35 | 1.072536 |\n",
       "| GF | 10 [m] |  65.83366 | 0 | 3788.9 | 160.94532 | 8.394978 | 7.70 | 8.700000 | 0.10786207 | ⋯ | 32123.5 | 2953.241 | 2.067768 | -2.05 |  9.993667 | 2.552950 | 14.09225 |  9.31 | 18.42 | 1.035204 |\n",
       "| GF | 15 [m] |  86.06687 | 0 | 1722.2 | 169.87169 | 8.306380 | 7.82 | 8.680000 | 0.12084644 | ⋯ | 31114.3 | 4277.016 | 2.052437 | -2.03 |  9.990750 | 2.453436 | 14.22722 |  8.17 | 18.52 | 1.081515 |\n",
       "| GF | 20 [m] |  42.84894 | 0 | 2066.7 |  96.77216 | 8.383171 | 8.02 | 8.690000 | 0.11524228 | ⋯ | 29730.0 | 1334.773 | 1.786761 | -2.13 |  7.020000 | 2.239840 | 13.70443 |  3.00 | 17.69 | 1.058112 |\n",
       "| GF | 25 [m] |  26.76738 | 0 |  839.6 |  64.64069 | 8.370666 | 8.08 | 8.450000 | 0.03022719 | ⋯ | 31919.3 | 4249.391 | 1.992961 | -2.12 |  8.651000 | 2.308885 | 14.15027 |  6.78 | 17.77 | 1.025697 |\n",
       "| H  | 7 [m]  |  63.09145 | 0 | 3100.0 | 224.18782 | 8.265310 | 7.70 | 8.803241 | 0.11047055 | ⋯ | 32146.6 | 3875.243 | 2.308191 | -2.03 | 10.358200 | 2.629050 | 13.97842 |  7.94 | 22.01 | 1.183579 |\n",
       "\n"
      ],
      "text/plain": [
       "  site depth  light.mean light.min light.max light.sd  pH.mean  pH.min pH.max  \n",
       "1 GF   7 [m]  107.33047  0         2238.9    231.25440 8.481422 8.24   9.120000\n",
       "2 GF   10 [m]  65.83366  0         3788.9    160.94532 8.394978 7.70   8.700000\n",
       "3 GF   15 [m]  86.06687  0         1722.2    169.87169 8.306380 7.82   8.680000\n",
       "4 GF   20 [m]  42.84894  0         2066.7     96.77216 8.383171 8.02   8.690000\n",
       "5 GF   25 [m]  26.76738  0          839.6     64.64069 8.370666 8.08   8.450000\n",
       "6 H    7 [m]   63.09145  0         3100.0    224.18782 8.265310 7.70   8.803241\n",
       "  pH.sd      ⋯ EC.max  EC.sd    temp.mean temp.min temp.max  temp.sd \n",
       "1 0.15101840 ⋯ 31601.6 4067.036 2.043306  -2.05    10.188800 2.619319\n",
       "2 0.10786207 ⋯ 32123.5 2953.241 2.067768  -2.05     9.993667 2.552950\n",
       "3 0.12084644 ⋯ 31114.3 4277.016 2.052437  -2.03     9.990750 2.453436\n",
       "4 0.11524228 ⋯ 29730.0 1334.773 1.786761  -2.13     7.020000 2.239840\n",
       "5 0.03022719 ⋯ 31919.3 4249.391 1.992961  -2.12     8.651000 2.308885\n",
       "6 0.11047055 ⋯ 32146.6 3875.243 2.308191  -2.03    10.358200 2.629050\n",
       "  oxygen.mean oxygen.min oxygen.max oxygen.sd\n",
       "1 14.27955    10.15      19.35      1.072536 \n",
       "2 14.09225     9.31      18.42      1.035204 \n",
       "3 14.22722     8.17      18.52      1.081515 \n",
       "4 13.70443     3.00      17.69      1.058112 \n",
       "5 14.15027     6.78      17.77      1.025697 \n",
       "6 13.97842     7.94      22.01      1.183579 "
      ]
     },
     "metadata": {},
     "output_type": "display_data"
    }
   ],
   "source": [
    "df.summary <- df.chem.merged %>% group_by(site,depth) %>% summarise( # light \n",
    "                                                              light.mean=mean(light,na.rm = TRUE),\n",
    "                                                              light.min=min(light,na.rm = TRUE),\n",
    "                                                              light.max=max(light,na.rm = TRUE),\n",
    "                                                              light.sd=sd(light,na.rm = TRUE),\n",
    "                                                              #pH\n",
    "                                                              pH.mean=mean(pH,na.rm = TRUE),\n",
    "                                                              pH.min=min(pH,na.rm = TRUE),\n",
    "                                                              pH.max=max(pH,na.rm = TRUE),\n",
    "                                                              pH.sd=sd(pH,na.rm = TRUE), \n",
    "                                                              # EC\n",
    "                                                              EC.mean=mean(ec,na.rm = TRUE),\n",
    "                                                              EC.min=min(ec,na.rm = TRUE),\n",
    "                                                              EC.max=max(ec,na.rm = TRUE),\n",
    "                                                              EC.sd=sd(ec,na.rm = TRUE),   \n",
    "                                                              # temperature\n",
    "                                                              temp.mean=mean(temp,na.rm = TRUE),\n",
    "                                                              temp.min=min(temp,na.rm = TRUE),\n",
    "                                                              temp.max=max(temp,na.rm = TRUE),\n",
    "                                                              temp.sd=sd(temp,na.rm = TRUE),\n",
    "                                                              #oxygen\n",
    "                                                              oxygen.mean=mean(oxygen,na.rm = TRUE),\n",
    "                                                              oxygen.min=min(oxygen,na.rm = TRUE),\n",
    "                                                              oxygen.max=max(oxygen,na.rm = TRUE),\n",
    "                                                              oxygen.sd=sd(oxygen,na.rm = TRUE)\n",
    "                                                             )\n",
    "if (flag.make.files){\n",
    "    write.xlsx(df.summary,\"params_chem.xlsx\")\n",
    "}\n",
    "head(df.summary)"
   ]
  },
  {
   "cell_type": "markdown",
   "id": "e8333d28-9348-4a59-b215-6dda00dc571a",
   "metadata": {},
   "source": [
    "### 3.2. Summary by month"
   ]
  },
  {
   "cell_type": "code",
   "execution_count": 6,
   "id": "454eac21-afbd-46e4-921c-a68bdaab4d2a",
   "metadata": {
    "tags": []
   },
   "outputs": [
    {
     "name": "stderr",
     "output_type": "stream",
     "text": [
      "Warning message:\n",
      "\"\u001b[1m\u001b[22mThere were 674 warnings in `summarise()`.\n",
      "The first warning was:\n",
      "\u001b[1m\u001b[22m\u001b[36mℹ\u001b[39m In argument: `light.min = min(light, na.rm = TRUE)`.\n",
      "\u001b[36mℹ\u001b[39m In group 238: `site = S1`, `depth = 7 [m]`, `year = 2021`, `month = 7`.\n",
      "Caused by warning in `min()`:\n",
      "\u001b[33m!\u001b[39m no non-missing arguments to min; returning Inf\n",
      "\u001b[1m\u001b[22m\u001b[36mℹ\u001b[39m Run `dplyr::last_dplyr_warnings()` to see the 673 remaining warnings.\"\n",
      "\u001b[1m\u001b[22m`summarise()` has grouped output by 'site', 'depth', 'year'. You can override\n",
      "using the `.groups` argument.\n"
     ]
    },
    {
     "data": {
      "text/html": [
       "<table class=\"dataframe\">\n",
       "<caption>A grouped_df: 6 × 24</caption>\n",
       "<thead>\n",
       "\t<tr><th scope=col>site</th><th scope=col>depth</th><th scope=col>year</th><th scope=col>month</th><th scope=col>light.mean</th><th scope=col>light.min</th><th scope=col>light.max</th><th scope=col>light.sd</th><th scope=col>pH.mean</th><th scope=col>pH.min</th><th scope=col>⋯</th><th scope=col>EC.max</th><th scope=col>EC.sd</th><th scope=col>temp.mean</th><th scope=col>temp.min</th><th scope=col>temp.max</th><th scope=col>temp.sd</th><th scope=col>oxygen.mean</th><th scope=col>oxygen.min</th><th scope=col>oxygen.max</th><th scope=col>oxygen.sd</th></tr>\n",
       "\t<tr><th scope=col>&lt;fct&gt;</th><th scope=col>&lt;ord&gt;</th><th scope=col>&lt;dbl&gt;</th><th scope=col>&lt;dbl&gt;</th><th scope=col>&lt;dbl&gt;</th><th scope=col>&lt;dbl&gt;</th><th scope=col>&lt;dbl&gt;</th><th scope=col>&lt;dbl&gt;</th><th scope=col>&lt;dbl&gt;</th><th scope=col>&lt;dbl&gt;</th><th scope=col>⋯</th><th scope=col>&lt;dbl&gt;</th><th scope=col>&lt;dbl&gt;</th><th scope=col>&lt;dbl&gt;</th><th scope=col>&lt;dbl&gt;</th><th scope=col>&lt;dbl&gt;</th><th scope=col>&lt;dbl&gt;</th><th scope=col>&lt;dbl&gt;</th><th scope=col>&lt;dbl&gt;</th><th scope=col>&lt;dbl&gt;</th><th scope=col>&lt;dbl&gt;</th></tr>\n",
       "</thead>\n",
       "<tbody>\n",
       "\t<tr><td>GF</td><td>7 [m]</td><td>2021</td><td> 8</td><td>424.78550</td><td>0</td><td>2238.9</td><td>435.04300</td><td>8.381439</td><td>8.34</td><td>⋯</td><td>31346.8</td><td> 287.3820</td><td> 4.8130899</td><td> 4.18</td><td>6.19</td><td>0.3008290</td><td>13.73292</td><td>12.87</td><td>15.17</td><td>0.4213298</td></tr>\n",
       "\t<tr><td>GF</td><td>7 [m]</td><td>2021</td><td> 9</td><td>174.28771</td><td>0</td><td>1377.8</td><td>235.23212</td><td>8.342840</td><td>8.31</td><td>⋯</td><td>30785.8</td><td> 307.3563</td><td> 4.2234028</td><td> 3.76</td><td>5.46</td><td>0.3849146</td><td>12.90083</td><td>10.43</td><td>14.59</td><td>0.3279212</td></tr>\n",
       "\t<tr><td>GF</td><td>7 [m]</td><td>2021</td><td>10</td><td> 18.79382</td><td>0</td><td> 366.0</td><td> 48.96804</td><td>8.341989</td><td>8.29</td><td>⋯</td><td>31601.6</td><td> 736.6147</td><td> 2.7900941</td><td> 0.44</td><td>4.59</td><td>0.8588803</td><td>12.92503</td><td>10.15</td><td>13.64</td><td>0.3005335</td></tr>\n",
       "\t<tr><td>GF</td><td>7 [m]</td><td>2021</td><td>11</td><td>  0.00000</td><td>0</td><td>   0.0</td><td>  0.00000</td><td>8.353736</td><td>8.29</td><td>⋯</td><td>31437.1</td><td>2124.9680</td><td> 0.5582978</td><td>-1.64</td><td>3.90</td><td>0.6857825</td><td>13.48705</td><td>12.28</td><td>14.09</td><td>0.2873859</td></tr>\n",
       "\t<tr><td>GF</td><td>7 [m]</td><td>2021</td><td>12</td><td>  0.00000</td><td>0</td><td>   0.0</td><td>  0.00000</td><td>8.362009</td><td>8.28</td><td>⋯</td><td>30221.0</td><td>3226.7041</td><td>-0.1299955</td><td>-1.81</td><td>1.79</td><td>0.8140744</td><td>13.76739</td><td>12.61</td><td>14.58</td><td>0.3950510</td></tr>\n",
       "\t<tr><td>GF</td><td>7 [m]</td><td>2022</td><td> 1</td><td>  0.00000</td><td>0</td><td>   0.0</td><td>  0.00000</td><td>8.360565</td><td>8.24</td><td>⋯</td><td>30059.8</td><td>4398.5146</td><td>-1.4355511</td><td>-2.05</td><td>1.36</td><td>0.6138495</td><td>14.36599</td><td>13.30</td><td>15.11</td><td>0.3030097</td></tr>\n",
       "</tbody>\n",
       "</table>\n"
      ],
      "text/latex": [
       "A grouped\\_df: 6 × 24\n",
       "\\begin{tabular}{lllllllllllllllllllll}\n",
       " site & depth & year & month & light.mean & light.min & light.max & light.sd & pH.mean & pH.min & ⋯ & EC.max & EC.sd & temp.mean & temp.min & temp.max & temp.sd & oxygen.mean & oxygen.min & oxygen.max & oxygen.sd\\\\\n",
       " <fct> & <ord> & <dbl> & <dbl> & <dbl> & <dbl> & <dbl> & <dbl> & <dbl> & <dbl> & ⋯ & <dbl> & <dbl> & <dbl> & <dbl> & <dbl> & <dbl> & <dbl> & <dbl> & <dbl> & <dbl>\\\\\n",
       "\\hline\n",
       "\t GF & 7 {[}m{]} & 2021 &  8 & 424.78550 & 0 & 2238.9 & 435.04300 & 8.381439 & 8.34 & ⋯ & 31346.8 &  287.3820 &  4.8130899 &  4.18 & 6.19 & 0.3008290 & 13.73292 & 12.87 & 15.17 & 0.4213298\\\\\n",
       "\t GF & 7 {[}m{]} & 2021 &  9 & 174.28771 & 0 & 1377.8 & 235.23212 & 8.342840 & 8.31 & ⋯ & 30785.8 &  307.3563 &  4.2234028 &  3.76 & 5.46 & 0.3849146 & 12.90083 & 10.43 & 14.59 & 0.3279212\\\\\n",
       "\t GF & 7 {[}m{]} & 2021 & 10 &  18.79382 & 0 &  366.0 &  48.96804 & 8.341989 & 8.29 & ⋯ & 31601.6 &  736.6147 &  2.7900941 &  0.44 & 4.59 & 0.8588803 & 12.92503 & 10.15 & 13.64 & 0.3005335\\\\\n",
       "\t GF & 7 {[}m{]} & 2021 & 11 &   0.00000 & 0 &    0.0 &   0.00000 & 8.353736 & 8.29 & ⋯ & 31437.1 & 2124.9680 &  0.5582978 & -1.64 & 3.90 & 0.6857825 & 13.48705 & 12.28 & 14.09 & 0.2873859\\\\\n",
       "\t GF & 7 {[}m{]} & 2021 & 12 &   0.00000 & 0 &    0.0 &   0.00000 & 8.362009 & 8.28 & ⋯ & 30221.0 & 3226.7041 & -0.1299955 & -1.81 & 1.79 & 0.8140744 & 13.76739 & 12.61 & 14.58 & 0.3950510\\\\\n",
       "\t GF & 7 {[}m{]} & 2022 &  1 &   0.00000 & 0 &    0.0 &   0.00000 & 8.360565 & 8.24 & ⋯ & 30059.8 & 4398.5146 & -1.4355511 & -2.05 & 1.36 & 0.6138495 & 14.36599 & 13.30 & 15.11 & 0.3030097\\\\\n",
       "\\end{tabular}\n"
      ],
      "text/markdown": [
       "\n",
       "A grouped_df: 6 × 24\n",
       "\n",
       "| site &lt;fct&gt; | depth &lt;ord&gt; | year &lt;dbl&gt; | month &lt;dbl&gt; | light.mean &lt;dbl&gt; | light.min &lt;dbl&gt; | light.max &lt;dbl&gt; | light.sd &lt;dbl&gt; | pH.mean &lt;dbl&gt; | pH.min &lt;dbl&gt; | ⋯ ⋯ | EC.max &lt;dbl&gt; | EC.sd &lt;dbl&gt; | temp.mean &lt;dbl&gt; | temp.min &lt;dbl&gt; | temp.max &lt;dbl&gt; | temp.sd &lt;dbl&gt; | oxygen.mean &lt;dbl&gt; | oxygen.min &lt;dbl&gt; | oxygen.max &lt;dbl&gt; | oxygen.sd &lt;dbl&gt; |\n",
       "|---|---|---|---|---|---|---|---|---|---|---|---|---|---|---|---|---|---|---|---|---|\n",
       "| GF | 7 [m] | 2021 |  8 | 424.78550 | 0 | 2238.9 | 435.04300 | 8.381439 | 8.34 | ⋯ | 31346.8 |  287.3820 |  4.8130899 |  4.18 | 6.19 | 0.3008290 | 13.73292 | 12.87 | 15.17 | 0.4213298 |\n",
       "| GF | 7 [m] | 2021 |  9 | 174.28771 | 0 | 1377.8 | 235.23212 | 8.342840 | 8.31 | ⋯ | 30785.8 |  307.3563 |  4.2234028 |  3.76 | 5.46 | 0.3849146 | 12.90083 | 10.43 | 14.59 | 0.3279212 |\n",
       "| GF | 7 [m] | 2021 | 10 |  18.79382 | 0 |  366.0 |  48.96804 | 8.341989 | 8.29 | ⋯ | 31601.6 |  736.6147 |  2.7900941 |  0.44 | 4.59 | 0.8588803 | 12.92503 | 10.15 | 13.64 | 0.3005335 |\n",
       "| GF | 7 [m] | 2021 | 11 |   0.00000 | 0 |    0.0 |   0.00000 | 8.353736 | 8.29 | ⋯ | 31437.1 | 2124.9680 |  0.5582978 | -1.64 | 3.90 | 0.6857825 | 13.48705 | 12.28 | 14.09 | 0.2873859 |\n",
       "| GF | 7 [m] | 2021 | 12 |   0.00000 | 0 |    0.0 |   0.00000 | 8.362009 | 8.28 | ⋯ | 30221.0 | 3226.7041 | -0.1299955 | -1.81 | 1.79 | 0.8140744 | 13.76739 | 12.61 | 14.58 | 0.3950510 |\n",
       "| GF | 7 [m] | 2022 |  1 |   0.00000 | 0 |    0.0 |   0.00000 | 8.360565 | 8.24 | ⋯ | 30059.8 | 4398.5146 | -1.4355511 | -2.05 | 1.36 | 0.6138495 | 14.36599 | 13.30 | 15.11 | 0.3030097 |\n",
       "\n"
      ],
      "text/plain": [
       "  site depth year month light.mean light.min light.max light.sd  pH.mean \n",
       "1 GF   7 [m] 2021  8    424.78550  0         2238.9    435.04300 8.381439\n",
       "2 GF   7 [m] 2021  9    174.28771  0         1377.8    235.23212 8.342840\n",
       "3 GF   7 [m] 2021 10     18.79382  0          366.0     48.96804 8.341989\n",
       "4 GF   7 [m] 2021 11      0.00000  0            0.0      0.00000 8.353736\n",
       "5 GF   7 [m] 2021 12      0.00000  0            0.0      0.00000 8.362009\n",
       "6 GF   7 [m] 2022  1      0.00000  0            0.0      0.00000 8.360565\n",
       "  pH.min ⋯ EC.max  EC.sd     temp.mean  temp.min temp.max temp.sd   oxygen.mean\n",
       "1 8.34   ⋯ 31346.8  287.3820  4.8130899  4.18    6.19     0.3008290 13.73292   \n",
       "2 8.31   ⋯ 30785.8  307.3563  4.2234028  3.76    5.46     0.3849146 12.90083   \n",
       "3 8.29   ⋯ 31601.6  736.6147  2.7900941  0.44    4.59     0.8588803 12.92503   \n",
       "4 8.29   ⋯ 31437.1 2124.9680  0.5582978 -1.64    3.90     0.6857825 13.48705   \n",
       "5 8.28   ⋯ 30221.0 3226.7041 -0.1299955 -1.81    1.79     0.8140744 13.76739   \n",
       "6 8.24   ⋯ 30059.8 4398.5146 -1.4355511 -2.05    1.36     0.6138495 14.36599   \n",
       "  oxygen.min oxygen.max oxygen.sd\n",
       "1 12.87      15.17      0.4213298\n",
       "2 10.43      14.59      0.3279212\n",
       "3 10.15      13.64      0.3005335\n",
       "4 12.28      14.09      0.2873859\n",
       "5 12.61      14.58      0.3950510\n",
       "6 13.30      15.11      0.3030097"
      ]
     },
     "metadata": {},
     "output_type": "display_data"
    }
   ],
   "source": [
    "df.summary.month <- df.chem.merged %>% group_by(site,depth,year=year(date_time),month=month(date_time)) %>% summarise( \n",
    "                                                              # light \n",
    "                                                              light.mean=mean(light,na.rm = TRUE),\n",
    "                                                              light.min=min(light,na.rm = TRUE),\n",
    "                                                              light.max=max(light,na.rm = TRUE),\n",
    "                                                              light.sd=sd(light,na.rm = TRUE),\n",
    "                                                              #pH\n",
    "                                                              pH.mean=mean(pH,na.rm = TRUE),\n",
    "                                                              pH.min=min(pH,na.rm = TRUE),\n",
    "                                                              pH.max=max(pH,na.rm = TRUE),\n",
    "                                                              pH.sd=sd(pH,na.rm = TRUE), \n",
    "                                                              # EC\n",
    "                                                              EC.mean=mean(ec,na.rm = TRUE),\n",
    "                                                              EC.min=min(ec,na.rm = TRUE),\n",
    "                                                              EC.max=max(ec,na.rm = TRUE),\n",
    "                                                              EC.sd=sd(ec,na.rm = TRUE),   \n",
    "                                                              # temperature\n",
    "                                                              temp.mean=mean(temp,na.rm = TRUE),\n",
    "                                                              temp.min=min(temp,na.rm = TRUE),\n",
    "                                                              temp.max=max(temp,na.rm = TRUE),\n",
    "                                                              temp.sd=sd(temp,na.rm = TRUE),\n",
    "                                                              #oxygen\n",
    "                                                              oxygen.mean=mean(oxygen,na.rm = TRUE),\n",
    "                                                              oxygen.min=min(oxygen,na.rm = TRUE),\n",
    "                                                              oxygen.max=max(oxygen,na.rm = TRUE),\n",
    "                                                              oxygen.sd=sd(oxygen,na.rm = TRUE)\n",
    "                                                             ) %>% arrange(site,depth,year,month)\n",
    "\n",
    "if (flag.make.files){\n",
    "    write.xlsx(df.summary.month,\"params_chem_by_month.xlsx\")\n",
    "}\n",
    "head(df.summary.month)"
   ]
  },
  {
   "cell_type": "markdown",
   "id": "773b491f-74ad-4095-94c4-7f05b42d317a",
   "metadata": {},
   "source": [
    "## 4. Summary of the speed and velocities"
   ]
  },
  {
   "cell_type": "code",
   "execution_count": 6,
   "id": "9b3c5201-c197-412d-86e8-841fe6de91c1",
   "metadata": {
    "tags": []
   },
   "outputs": [
    {
     "name": "stderr",
     "output_type": "stream",
     "text": [
      "\u001b[1m\u001b[22m`summarise()` has grouped output by 'site'. You can override using the\n",
      "`.groups` argument.\n"
     ]
    },
    {
     "data": {
      "text/html": [
       "<table class=\"dataframe\">\n",
       "<caption>A grouped_df: 6 × 18</caption>\n",
       "<thead>\n",
       "\t<tr><th scope=col>site</th><th scope=col>depth</th><th scope=col>speed.mean</th><th scope=col>speed.min</th><th scope=col>spped.max</th><th scope=col>speed.sd</th><th scope=col>heading.mean</th><th scope=col>heading.min</th><th scope=col>heading.max</th><th scope=col>hading.sd</th><th scope=col>velocityN.mean</th><th scope=col>velocityN.min</th><th scope=col>velocityN.max</th><th scope=col>velocityN.sd</th><th scope=col>velocityE.mean</th><th scope=col>velocityE.min</th><th scope=col>velocityE.max</th><th scope=col>velocityE.sd</th></tr>\n",
       "\t<tr><th scope=col>&lt;fct&gt;</th><th scope=col>&lt;ord&gt;</th><th scope=col>&lt;dbl&gt;</th><th scope=col>&lt;dbl&gt;</th><th scope=col>&lt;dbl&gt;</th><th scope=col>&lt;dbl&gt;</th><th scope=col>&lt;dbl&gt;</th><th scope=col>&lt;dbl&gt;</th><th scope=col>&lt;dbl&gt;</th><th scope=col>&lt;dbl&gt;</th><th scope=col>&lt;dbl&gt;</th><th scope=col>&lt;dbl&gt;</th><th scope=col>&lt;dbl&gt;</th><th scope=col>&lt;dbl&gt;</th><th scope=col>&lt;dbl&gt;</th><th scope=col>&lt;dbl&gt;</th><th scope=col>&lt;dbl&gt;</th><th scope=col>&lt;dbl&gt;</th></tr>\n",
       "</thead>\n",
       "<tbody>\n",
       "\t<tr><td>GF</td><td>7 [m] </td><td>9.884731</td><td>0.01</td><td>120.00</td><td>23.173538</td><td>178.1877</td><td>0.00</td><td>360.00</td><td> 89.35257</td><td>-1.4236138</td><td> -74.23</td><td> 82.42</td><td>6.720938</td><td> 5.69907619</td><td> -58.11</td><td>119.90</td><td>23.559382</td></tr>\n",
       "\t<tr><td>GF</td><td>10 [m]</td><td>5.871352</td><td>0.00</td><td>102.65</td><td> 5.692742</td><td>169.8366</td><td>0.00</td><td>360.00</td><td> 95.36735</td><td>-0.7157331</td><td> -84.19</td><td> 55.13</td><td>5.875508</td><td> 2.21053138</td><td> -34.55</td><td> 98.88</td><td> 5.192283</td></tr>\n",
       "\t<tr><td>GF</td><td>15 [m]</td><td>5.224151</td><td>0.01</td><td>110.14</td><td> 5.974494</td><td>163.0944</td><td>0.00</td><td>360.00</td><td>103.28199</td><td>-0.7358517</td><td> -98.33</td><td> 94.82</td><td>6.267364</td><td> 1.70996584</td><td> -56.24</td><td>102.84</td><td> 4.499013</td></tr>\n",
       "\t<tr><td>GF</td><td>25 [m]</td><td>4.976919</td><td>0.00</td><td>106.60</td><td> 5.073074</td><td>175.7228</td><td>0.00</td><td>360.00</td><td> 59.89934</td><td>-1.3801515</td><td> -76.98</td><td> 38.90</td><td>5.027940</td><td> 0.09450242</td><td> -69.08</td><td> 75.56</td><td> 7.888379</td></tr>\n",
       "\t<tr><td>H </td><td>7 [m] </td><td>7.840339</td><td>0.02</td><td>186.33</td><td> 8.277364</td><td>202.0898</td><td>0.01</td><td>359.99</td><td> 94.43478</td><td> 0.3141625</td><td>-106.23</td><td>118.47</td><td>4.377242</td><td>-0.19134099</td><td>-119.35</td><td>123.25</td><td>10.513474</td></tr>\n",
       "\t<tr><td>H </td><td>10 [m]</td><td>5.647281</td><td>0.01</td><td> 83.50</td><td> 5.557450</td><td>189.4582</td><td>0.00</td><td>360.00</td><td>109.92639</td><td> 0.6842750</td><td> -21.41</td><td> 41.18</td><td>3.007450</td><td> 0.41436954</td><td> -33.78</td><td> 82.44</td><td> 7.286463</td></tr>\n",
       "</tbody>\n",
       "</table>\n"
      ],
      "text/latex": [
       "A grouped\\_df: 6 × 18\n",
       "\\begin{tabular}{llllllllllllllllll}\n",
       " site & depth & speed.mean & speed.min & spped.max & speed.sd & heading.mean & heading.min & heading.max & hading.sd & velocityN.mean & velocityN.min & velocityN.max & velocityN.sd & velocityE.mean & velocityE.min & velocityE.max & velocityE.sd\\\\\n",
       " <fct> & <ord> & <dbl> & <dbl> & <dbl> & <dbl> & <dbl> & <dbl> & <dbl> & <dbl> & <dbl> & <dbl> & <dbl> & <dbl> & <dbl> & <dbl> & <dbl> & <dbl>\\\\\n",
       "\\hline\n",
       "\t GF & 7 {[}m{]}  & 9.884731 & 0.01 & 120.00 & 23.173538 & 178.1877 & 0.00 & 360.00 &  89.35257 & -1.4236138 &  -74.23 &  82.42 & 6.720938 &  5.69907619 &  -58.11 & 119.90 & 23.559382\\\\\n",
       "\t GF & 10 {[}m{]} & 5.871352 & 0.00 & 102.65 &  5.692742 & 169.8366 & 0.00 & 360.00 &  95.36735 & -0.7157331 &  -84.19 &  55.13 & 5.875508 &  2.21053138 &  -34.55 &  98.88 &  5.192283\\\\\n",
       "\t GF & 15 {[}m{]} & 5.224151 & 0.01 & 110.14 &  5.974494 & 163.0944 & 0.00 & 360.00 & 103.28199 & -0.7358517 &  -98.33 &  94.82 & 6.267364 &  1.70996584 &  -56.24 & 102.84 &  4.499013\\\\\n",
       "\t GF & 25 {[}m{]} & 4.976919 & 0.00 & 106.60 &  5.073074 & 175.7228 & 0.00 & 360.00 &  59.89934 & -1.3801515 &  -76.98 &  38.90 & 5.027940 &  0.09450242 &  -69.08 &  75.56 &  7.888379\\\\\n",
       "\t H  & 7 {[}m{]}  & 7.840339 & 0.02 & 186.33 &  8.277364 & 202.0898 & 0.01 & 359.99 &  94.43478 &  0.3141625 & -106.23 & 118.47 & 4.377242 & -0.19134099 & -119.35 & 123.25 & 10.513474\\\\\n",
       "\t H  & 10 {[}m{]} & 5.647281 & 0.01 &  83.50 &  5.557450 & 189.4582 & 0.00 & 360.00 & 109.92639 &  0.6842750 &  -21.41 &  41.18 & 3.007450 &  0.41436954 &  -33.78 &  82.44 &  7.286463\\\\\n",
       "\\end{tabular}\n"
      ],
      "text/markdown": [
       "\n",
       "A grouped_df: 6 × 18\n",
       "\n",
       "| site &lt;fct&gt; | depth &lt;ord&gt; | speed.mean &lt;dbl&gt; | speed.min &lt;dbl&gt; | spped.max &lt;dbl&gt; | speed.sd &lt;dbl&gt; | heading.mean &lt;dbl&gt; | heading.min &lt;dbl&gt; | heading.max &lt;dbl&gt; | hading.sd &lt;dbl&gt; | velocityN.mean &lt;dbl&gt; | velocityN.min &lt;dbl&gt; | velocityN.max &lt;dbl&gt; | velocityN.sd &lt;dbl&gt; | velocityE.mean &lt;dbl&gt; | velocityE.min &lt;dbl&gt; | velocityE.max &lt;dbl&gt; | velocityE.sd &lt;dbl&gt; |\n",
       "|---|---|---|---|---|---|---|---|---|---|---|---|---|---|---|---|---|---|\n",
       "| GF | 7 [m]  | 9.884731 | 0.01 | 120.00 | 23.173538 | 178.1877 | 0.00 | 360.00 |  89.35257 | -1.4236138 |  -74.23 |  82.42 | 6.720938 |  5.69907619 |  -58.11 | 119.90 | 23.559382 |\n",
       "| GF | 10 [m] | 5.871352 | 0.00 | 102.65 |  5.692742 | 169.8366 | 0.00 | 360.00 |  95.36735 | -0.7157331 |  -84.19 |  55.13 | 5.875508 |  2.21053138 |  -34.55 |  98.88 |  5.192283 |\n",
       "| GF | 15 [m] | 5.224151 | 0.01 | 110.14 |  5.974494 | 163.0944 | 0.00 | 360.00 | 103.28199 | -0.7358517 |  -98.33 |  94.82 | 6.267364 |  1.70996584 |  -56.24 | 102.84 |  4.499013 |\n",
       "| GF | 25 [m] | 4.976919 | 0.00 | 106.60 |  5.073074 | 175.7228 | 0.00 | 360.00 |  59.89934 | -1.3801515 |  -76.98 |  38.90 | 5.027940 |  0.09450242 |  -69.08 |  75.56 |  7.888379 |\n",
       "| H  | 7 [m]  | 7.840339 | 0.02 | 186.33 |  8.277364 | 202.0898 | 0.01 | 359.99 |  94.43478 |  0.3141625 | -106.23 | 118.47 | 4.377242 | -0.19134099 | -119.35 | 123.25 | 10.513474 |\n",
       "| H  | 10 [m] | 5.647281 | 0.01 |  83.50 |  5.557450 | 189.4582 | 0.00 | 360.00 | 109.92639 |  0.6842750 |  -21.41 |  41.18 | 3.007450 |  0.41436954 |  -33.78 |  82.44 |  7.286463 |\n",
       "\n"
      ],
      "text/plain": [
       "  site depth  speed.mean speed.min spped.max speed.sd  heading.mean heading.min\n",
       "1 GF   7 [m]  9.884731   0.01      120.00    23.173538 178.1877     0.00       \n",
       "2 GF   10 [m] 5.871352   0.00      102.65     5.692742 169.8366     0.00       \n",
       "3 GF   15 [m] 5.224151   0.01      110.14     5.974494 163.0944     0.00       \n",
       "4 GF   25 [m] 4.976919   0.00      106.60     5.073074 175.7228     0.00       \n",
       "5 H    7 [m]  7.840339   0.02      186.33     8.277364 202.0898     0.01       \n",
       "6 H    10 [m] 5.647281   0.01       83.50     5.557450 189.4582     0.00       \n",
       "  heading.max hading.sd velocityN.mean velocityN.min velocityN.max velocityN.sd\n",
       "1 360.00       89.35257 -1.4236138      -74.23        82.42        6.720938    \n",
       "2 360.00       95.36735 -0.7157331      -84.19        55.13        5.875508    \n",
       "3 360.00      103.28199 -0.7358517      -98.33        94.82        6.267364    \n",
       "4 360.00       59.89934 -1.3801515      -76.98        38.90        5.027940    \n",
       "5 359.99       94.43478  0.3141625     -106.23       118.47        4.377242    \n",
       "6 360.00      109.92639  0.6842750      -21.41        41.18        3.007450    \n",
       "  velocityE.mean velocityE.min velocityE.max velocityE.sd\n",
       "1  5.69907619     -58.11       119.90        23.559382   \n",
       "2  2.21053138     -34.55        98.88         5.192283   \n",
       "3  1.70996584     -56.24       102.84         4.499013   \n",
       "4  0.09450242     -69.08        75.56         7.888379   \n",
       "5 -0.19134099    -119.35       123.25        10.513474   \n",
       "6  0.41436954     -33.78        82.44         7.286463   "
      ]
     },
     "metadata": {},
     "output_type": "display_data"
    }
   ],
   "source": [
    "df.summary.v <- df.v.merged %>% group_by(site,depth) %>% summarise( # speed\n",
    "                                                              speed.mean=mean(speed,na.rm = TRUE),\n",
    "                                                              speed.min=min(speed,na.rm = TRUE),\n",
    "                                                              spped.max=max(speed,na.rm = TRUE),\n",
    "                                                              speed.sd=sd(speed,na.rm = TRUE),\n",
    "                                                              #heading\n",
    "                                                              heading.mean=mean(heading,na.rm = TRUE),\n",
    "                                                              heading.min=min(heading,na.rm = TRUE),\n",
    "                                                              heading.max=max(heading,na.rm = TRUE),\n",
    "                                                              hading.sd=sd(heading,na.rm = TRUE),\n",
    "                                                              # velocity N\n",
    "                                                              velocityN.mean=mean(velocityN,na.rm = TRUE),\n",
    "                                                              velocityN.min=min(velocityN,na.rm = TRUE),\n",
    "                                                              velocityN.max=max(velocityN,na.rm = TRUE),\n",
    "                                                              velocityN.sd=sd(velocityN,na.rm = TRUE),\n",
    "                                                              # velocity E\n",
    "                                                              velocityE.mean=mean(velocityE,na.rm = TRUE),\n",
    "                                                              velocityE.min=min(velocityE,na.rm = TRUE),\n",
    "                                                              velocityE.max=max(velocityE,na.rm = TRUE),\n",
    "                                                              velocityE.sd=sd(velocityE,na.rm = TRUE),    \n",
    "                                                             )\n",
    "if (flag.make.files){\n",
    "    write.xlsx(df.summary.v,\"params_velocity.xlsx\")\n",
    "}\n",
    "head(df.summary.v)"
   ]
  },
  {
   "cell_type": "code",
   "execution_count": null,
   "id": "cc3d679b-78a4-4734-b76f-e519334b646c",
   "metadata": {},
   "outputs": [],
   "source": []
  }
 ],
 "metadata": {
  "kernelspec": {
   "display_name": "R",
   "language": "R",
   "name": "ir"
  },
  "language_info": {
   "codemirror_mode": "r",
   "file_extension": ".r",
   "mimetype": "text/x-r-source",
   "name": "R",
   "pygments_lexer": "r",
   "version": "4.4.2"
  }
 },
 "nbformat": 4,
 "nbformat_minor": 5
}
